{
 "cells": [
  {
   "cell_type": "markdown",
   "source": [
    "## Tetramestre 3 - Actividad 1\n",
    "\n",
    "__Pregunta 3__\n",
    "A continuación se describen los resultados correspondientes al punto 5 de la actividad 1. El enunciado de ese punto se muestra en el siguiente párrafo.\n",
    "\n",
    "Genera un nuevo cuaderno de Jupyter Notebook y resuelve los siguientes sistemas de ecuaciones lineales, encontrando los valores de las variables utilizando diferentes métodos:\n",
    "\n",
    "* a $$x + 2y + 5z - 4w = 21$$\n",
    "$$5x + 8y + z +w = 8$$\n",
    "$$5x + 7y - 3z + 2w = 14$$\n",
    "$$—x + 3y + 9z -w = 5$$\n",
    "\n",
    "* b $$6x + 8z = 9$$\n",
    "$$2x + 3y + z = 15$$\n",
    "$$4x + y = -4$$"
   ],
   "metadata": {
    "collapsed": false,
    "pycharm": {
     "name": "#%% md\n"
    }
   }
  },
  {
   "cell_type": "markdown",
   "source": [
    "**Solución con matriz inversa**\n",
    "* Proceso de solución para el punto a\n",
    "\n",
    "Método 1"
   ],
   "metadata": {
    "collapsed": false,
    "pycharm": {
     "name": "#%% md\n"
    }
   }
  },
  {
   "cell_type": "code",
   "execution_count": 1,
   "outputs": [],
   "source": [
    "import numpy as np"
   ],
   "metadata": {
    "collapsed": false,
    "pycharm": {
     "name": "#%%\n"
    }
   }
  },
  {
   "cell_type": "markdown",
   "source": [
    "**Creando la matriz de coeficientes, resultados y obteniendo determinante**"
   ],
   "metadata": {
    "collapsed": false,
    "pycharm": {
     "name": "#%% md\n"
    }
   }
  },
  {
   "cell_type": "code",
   "execution_count": 4,
   "outputs": [
    {
     "name": "stdout",
     "output_type": "stream",
     "text": [
      "Matriz de coeficientes:\n",
      " [[ 1  2  5 -4]\n",
      " [ 5  8  1  1]\n",
      " [ 5  7 -3  2]\n",
      " [-1  3  9 -1]]\n",
      "Matriz de resultados:\n",
      " [[21]\n",
      " [ 8]\n",
      " [14]\n",
      " [ 5]]\n",
      "Determinante de la matriz a:\n",
      " 114.00000000000003\n"
     ]
    }
   ],
   "source": [
    "matriz_a = np.array([[1,2,5,-4],[5,8,1,1],[5,7,-3,2],[-1,3,9,-1]])\n",
    "matriz_a_resultados = np.array([[21],[8],[14],[5]])\n",
    "print(\"Matriz de coeficientes:\\n\", matriz_a)\n",
    "print(\"Matriz de resultados:\\n\", matriz_a_resultados)\n",
    "\n",
    "#Calculando determinante de la matriz a\n",
    "det_a = np.linalg.det(matriz_a)\n",
    "print(\"Determinante de la matriz a:\\n\", det_a)"
   ],
   "metadata": {
    "collapsed": false,
    "pycharm": {
     "name": "#%%\n"
    }
   }
  },
  {
   "cell_type": "markdown",
   "source": [
    "**Obteniendo matriz inversa y resultados**"
   ],
   "metadata": {
    "collapsed": false,
    "pycharm": {
     "name": "#%% md\n"
    }
   }
  },
  {
   "cell_type": "code",
   "execution_count": 5,
   "outputs": [
    {
     "name": "stdout",
     "output_type": "stream",
     "text": [
      "matriz con las soluciones:\n",
      " [[-22.19298246]\n",
      " [ 17.73684211]\n",
      " [ -9.33333333]\n",
      " [-13.59649123]]\n"
     ]
    }
   ],
   "source": [
    "#Obteniendo producto interno con la matriz de resultados\n",
    "if det_a == 0:\n",
    "    print(\"La matriz no tiene inversa\")\n",
    "else:\n",
    "    matriz_a_inversa = np.linalg.inv(matriz_a)\n",
    "    matriz_a_resultados_inversa = np.dot(matriz_a_inversa, matriz_a_resultados)\n",
    "    print(\"matriz con las soluciones:\\n\", matriz_a_resultados_inversa)"
   ],
   "metadata": {
    "collapsed": false,
    "pycharm": {
     "name": "#%%\n"
    }
   }
  },
  {
   "cell_type": "markdown",
   "source": [
    "Método 2\n",
    "- Se puede calcular tambien de la siguiente forma usando el producto interno directo en la inversa de la matriz a"
   ],
   "metadata": {
    "collapsed": false,
    "pycharm": {
     "name": "#%% md\n"
    }
   }
  },
  {
   "cell_type": "code",
   "execution_count": 6,
   "outputs": [
    {
     "name": "stdout",
     "output_type": "stream",
     "text": [
      "matriz con las soluciones:\n",
      " [[-22.19298246]\n",
      " [ 17.73684211]\n",
      " [ -9.33333333]\n",
      " [-13.59649123]]\n"
     ]
    }
   ],
   "source": [
    "matriz_a_resultado2 = matriz_a_inversa.dot(matriz_a_resultados)\n",
    "print(\"matriz con las soluciones:\\n\", matriz_a_resultado2)"
   ],
   "metadata": {
    "collapsed": false,
    "pycharm": {
     "name": "#%%\n"
    }
   }
  },
  {
   "cell_type": "markdown",
   "source": [
    "* Usando el método directo \"solve\""
   ],
   "metadata": {
    "collapsed": false,
    "pycharm": {
     "name": "#%% md\n"
    }
   }
  },
  {
   "cell_type": "code",
   "execution_count": 9,
   "outputs": [
    {
     "name": "stdout",
     "output_type": "stream",
     "text": [
      "matriz con las soluciones:\n",
      " [[-22.19298246]\n",
      " [ 17.73684211]\n",
      " [ -9.33333333]\n",
      " [-13.59649123]]\n"
     ]
    }
   ],
   "source": [
    "matriz_resultado_solve = np.linalg.solve(matriz_a, matriz_a_resultados)\n",
    "print(\"matriz con las soluciones:\\n\", matriz_resultado_solve)"
   ],
   "metadata": {
    "collapsed": false,
    "pycharm": {
     "name": "#%%\n"
    }
   }
  },
  {
   "cell_type": "markdown",
   "source": [
    "* Proceso de solución para el punto b\n",
    "\n",
    "Método 1 (Se requiere haber importado numpy al inicio de este ejercicio)\n",
    "\n",
    "**Creando la matriz de coeficientes, resultados y obteniendo determinante**"
   ],
   "metadata": {
    "collapsed": false,
    "pycharm": {
     "name": "#%% md\n"
    }
   }
  },
  {
   "cell_type": "code",
   "execution_count": 11,
   "outputs": [
    {
     "name": "stdout",
     "output_type": "stream",
     "text": [
      "Matriz de coeficientes:\n",
      " [[6 0 8]\n",
      " [2 3 1]\n",
      " [4 1 0]]\n",
      "Matriz de resultados:\n",
      " [[ 9]\n",
      " [15]\n",
      " [-4]]\n",
      "Determinante de la matriz b:\n",
      " -85.99999999999997\n"
     ]
    }
   ],
   "source": [
    "matriz_b = np.array([[6,0,8],[2,3,1],[4,1,0]])\n",
    "matriz_b_resultados = np.array([[9],[15],[-4]])\n",
    "print(\"Matriz de coeficientes:\\n\", matriz_b)\n",
    "print(\"Matriz de resultados:\\n\", matriz_b_resultados)\n",
    "\n",
    "det_b = np.linalg.det(matriz_b)\n",
    "print(\"Determinante de la matriz b:\\n\", det_b)"
   ],
   "metadata": {
    "collapsed": false,
    "pycharm": {
     "name": "#%%\n"
    }
   }
  },
  {
   "cell_type": "markdown",
   "source": [
    "**Obteniendo matriz inversa y resultados**"
   ],
   "metadata": {
    "collapsed": false,
    "pycharm": {
     "name": "#%% md\n"
    }
   }
  },
  {
   "cell_type": "code",
   "execution_count": 12,
   "outputs": [
    {
     "name": "stdout",
     "output_type": "stream",
     "text": [
      "matriz con las soluciones:\n",
      " [[-2.40697674]\n",
      " [ 5.62790698]\n",
      " [ 2.93023256]]\n"
     ]
    }
   ],
   "source": [
    "#Obteniendo producto interno con la matriz de resultados\n",
    "if det_b == 0:\n",
    "    print(\"La matriz no tiene inversa\")\n",
    "else:\n",
    "    matriz_b_inversa = np.linalg.inv(matriz_b)\n",
    "    matriz_b_resultados_inversa = np.dot(matriz_b_inversa, matriz_b_resultados)\n",
    "    print(\"matriz con las soluciones:\\n\", matriz_b_resultados_inversa)"
   ],
   "metadata": {
    "collapsed": false,
    "pycharm": {
     "name": "#%%\n"
    }
   }
  },
  {
   "cell_type": "markdown",
   "source": [
    "Método 2\n",
    "- Se puede calcular tambien de la siguiente forma usando el producto interno directo en la inversa de la matriz b"
   ],
   "metadata": {
    "collapsed": false,
    "pycharm": {
     "name": "#%% md\n"
    }
   }
  },
  {
   "cell_type": "code",
   "execution_count": 13,
   "outputs": [
    {
     "name": "stdout",
     "output_type": "stream",
     "text": [
      "matriz con las soluciones:\n",
      " [[-2.40697674]\n",
      " [ 5.62790698]\n",
      " [ 2.93023256]]\n"
     ]
    }
   ],
   "source": [
    "matriz_b_resultado2 = matriz_b_inversa.dot(matriz_b_resultados)\n",
    "print(\"matriz con las soluciones:\\n\", matriz_b_resultado2)"
   ],
   "metadata": {
    "collapsed": false,
    "pycharm": {
     "name": "#%%\n"
    }
   }
  },
  {
   "cell_type": "markdown",
   "source": [
    "* Usando el método directo \"solve\""
   ],
   "metadata": {
    "collapsed": false,
    "pycharm": {
     "name": "#%% md\n"
    }
   }
  },
  {
   "cell_type": "code",
   "execution_count": 14,
   "outputs": [
    {
     "name": "stdout",
     "output_type": "stream",
     "text": [
      "matriz con las soluciones:\n",
      " [[-2.40697674]\n",
      " [ 5.62790698]\n",
      " [ 2.93023256]]\n"
     ]
    }
   ],
   "source": [
    "matriz_resultado_solve = np.linalg.solve(matriz_b, matriz_b_resultados)\n",
    "print(\"matriz con las soluciones:\\n\", matriz_resultado_solve)"
   ],
   "metadata": {
    "collapsed": false,
    "pycharm": {
     "name": "#%%\n"
    }
   }
  },
  {
   "cell_type": "code",
   "execution_count": null,
   "outputs": [],
   "source": [],
   "metadata": {
    "collapsed": false,
    "pycharm": {
     "name": "#%%\n"
    }
   }
  }
 ],
 "metadata": {
  "kernelspec": {
   "display_name": "Python 3",
   "language": "python",
   "name": "python3"
  },
  "language_info": {
   "codemirror_mode": {
    "name": "ipython",
    "version": 2
   },
   "file_extension": ".py",
   "mimetype": "text/x-python",
   "name": "python",
   "nbconvert_exporter": "python",
   "pygments_lexer": "ipython2",
   "version": "2.7.6"
  }
 },
 "nbformat": 4,
 "nbformat_minor": 0
}
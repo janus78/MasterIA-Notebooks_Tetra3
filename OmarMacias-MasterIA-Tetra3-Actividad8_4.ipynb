{
 "cells": [
  {
   "cell_type": "markdown",
   "source": [
    "## Actividad 8 - Ejercicio 4\n",
    "\n",
    "El problema de la mochila también puede resolverse utilizando la programación genética. Identifica una problemática relacionada con los fundamentos de este ejemplo y desarrolla un programa en Python donde implementes un algoritmo genético para resolverlo. Repite el proceso, pero utilizando la programación dinámica y realiza una comparación sobre los resultados obtenidos.\n",
    "\n",
    "Se presenta a continuación el desarrollo de este ejercicio.\n",
    "\n",
    "**Problema de obtener el cambio mínimo de monedas**\n",
    "Este problema trata de obtener el cambio de un valor dado en centavos teniendo cantidad infinita de centavos de cada denominación $$C={c1, c2,..., cm}$$.\n",
    "Dado un arreglo de denominaciones disponibles $$monedas$$Y un valor de cambio $$cambio$$Se desea obtener el cambio mínimo de monedas que se puede obtener con el valor de cambio dado."
   ],
   "metadata": {
    "collapsed": false,
    "pycharm": {
     "name": "#%% md\n"
    }
   }
  },
  {
   "cell_type": "markdown",
   "source": [
    "**Se presenta el desarrollo de este ejercicio usando programación dinámica.**"
   ],
   "metadata": {
    "collapsed": false,
    "pycharm": {
     "name": "#%% md\n"
    }
   }
  },
  {
   "cell_type": "code",
   "execution_count": 6,
   "outputs": [],
   "source": [
    "import sys # Esta librería nos permite obtener el tamaño maximo del arreglo"
   ],
   "metadata": {
    "collapsed": false,
    "pycharm": {
     "name": "#%%\n"
    }
   }
  },
  {
   "cell_type": "code",
   "execution_count": 7,
   "outputs": [],
   "source": [
    "def minCoins(monedas, cambio, it):\n",
    "    n = len(monedas)\n",
    "    # define dp array\n",
    "    dp  = [[None] * (cambio + 1) for _ in range(n + 1)]\n",
    "\n",
    "    # Inicializando el arreglo\n",
    "    #Si el precio es o las monedas requridas son 0, entonces no hay monedas necesarias y dp[i][0] = 0\n",
    "    #Si el numero de monedas es 0 entonces se necesitan monedas infinitas para pagar el precio y dp[0][j] = inf-1 para evitar overflow\n",
    "\n",
    "    for j in range(cambio + 1):\n",
    "        dp[0][j] = sys.maxsize -1\n",
    "    for i in range(n+1):\n",
    "        dp[i][0] = 0\n",
    "\n",
    "    #Una moneda solo puede elegirse si su valor es menor que el precio requerido\n",
    "    for i in range(1,n+1):\n",
    "        for j in range(1, cambio + 1):\n",
    "            if monedas[i - 1] <= j:\n",
    "                dp[i][j] = min(dp[i - 1][j], 1 + dp[i][j-monedas[i-1]]);\n",
    "            else:\n",
    "                dp[i][j] = dp[i - 1][j];\n",
    "\n",
    "    total = dp[n][cambio]\n",
    "    print(f\"El total de valores para el cambio minimo es: {total}\")\n"
   ],
   "metadata": {
    "collapsed": false,
    "pycharm": {
     "name": "#%%\n"
    }
   }
  },
  {
   "cell_type": "code",
   "execution_count": 8,
   "outputs": [
    {
     "name": "stdout",
     "output_type": "stream",
     "text": [
      "El total de valores para el cambio minimo es: 2\n"
     ]
    }
   ],
   "source": [
    "monedas = [1,4,6,8]\n",
    "cambio = 12\n",
    "items = len(monedas)\n",
    "minCoins(monedas,cambio, items)"
   ],
   "metadata": {
    "collapsed": false,
    "pycharm": {
     "name": "#%%\n"
    }
   }
  },
  {
   "cell_type": "markdown",
   "source": [
    "**Solución usando algoritmo genetico**\n",
    "Se presenta a continuación una solución a este problema que utiliza un algoritmo genético para la misma."
   ],
   "metadata": {
    "collapsed": false,
    "pycharm": {
     "name": "#%% md\n"
    }
   }
  },
  {
   "cell_type": "code",
   "execution_count": 9,
   "outputs": [
    {
     "name": "stdout",
     "output_type": "stream",
     "text": [
      "    1   4   6   8  Fitness\n",
      "0   4   9  11  12   0.0052\n",
      "1   3   1   4   0   0.0500\n",
      "2   3   5   8   8   0.0081\n",
      "3   9   8   4   3   0.0128\n",
      "4  11   0   8  11   0.0074\n",
      "5   2   5   2   5   0.0159\n",
      "6  10   0  10   3   0.0120\n",
      "7  11   2   0   5   0.0208\n",
      "8   1  12   0  10   0.0085\n",
      "9   2   9   2   0   0.0256\n",
      "   index  1  4  6  8  Fitness\n",
      "9      6  8  1  0  0      1.0\n",
      "The total de valores para el cambio minimo es: 2\n"
     ]
    }
   ],
   "source": [
    "import random\n",
    "import pandas as pd\n",
    "\n",
    "import warnings\n",
    "\n",
    "warnings.filterwarnings('ignore')\n",
    "\n",
    "d = [1, 4, 6, 8, 'Fitness']  # denominaciones de monedas\n",
    "N = 12  # monto total\n",
    "size = 10  # tamaño de la población\n",
    "\n",
    "# Generar una población inicial de 10 individuos\n",
    "poblacion = []\n",
    "for i in range(size):\n",
    "    c = []\n",
    "    for j in range(len(d)):\n",
    "        c.append(random.randint(0, N))\n",
    "    poblacion.append(c)\n",
    "\n",
    "poblacion = pd.DataFrame(poblacion, columns=d)\n",
    "poblacion = poblacion.astype({'Fitness': float})\n",
    "for i in range(size):\n",
    "    fitness = 0\n",
    "    for j in range(len(d) - 1):\n",
    "        fitness += poblacion[d[j]][i] * d[j]\n",
    "\n",
    "    fitness = abs(fitness - N)\n",
    "    poblacion['Fitness'][i] = 1 / (1 + float(fitness))\n",
    "\n",
    "pop = poblacion.copy()\n",
    "pop['Fitness'] = round(pop['Fitness'], 4)\n",
    "print(pop)\n",
    "\n",
    "# algoritmo genético\n",
    "cnt = 1\n",
    "while (True):\n",
    "    for i in range(size):\n",
    "        fitness = 0\n",
    "        for j in range(len(d) - 1):\n",
    "            fitness += poblacion[d[j]][i] * d[j]\n",
    "\n",
    "        fitness = abs(fitness - N)\n",
    "        poblacion['Fitness'][i] = 1 / (1 + float(fitness))\n",
    "\n",
    "    poblacion = poblacion.sort_values(by=['Fitness'])\n",
    "\n",
    "    parents = poblacion[-6:].reset_index()\n",
    "    offspring = poblacion[:3].reset_index()\n",
    "\n",
    "    # crossover\n",
    "    for i in range(3):\n",
    "        r = random.randint(0, len(d) - 1)\n",
    "        for j in range(len(d) - 1):\n",
    "            if (j < r):\n",
    "                offspring[d[j]][i] = parents[d[j]][i]\n",
    "            else:\n",
    "                offspring[d[j]][i] = parents[d[j]][6 - i - 1]\n",
    "\n",
    "    # mutación\n",
    "    mutacion_p = 0.75  # probabilidad de mutación\n",
    "    for i in range(3):\n",
    "        for j in range(len(d) - 1):\n",
    "            p = random.random()\n",
    "            if (p > mutacion_p):\n",
    "                offspring[d[j]][i] = random.randint(0, N)\n",
    "    poblacion = poblacion[3:]\n",
    "    poblacion = poblacion.append(offspring, ignore_index=True)\n",
    "    poblacion = poblacion.drop(['index'], axis=1)\n",
    "\n",
    "    pop = poblacion.copy().sort_values(by=['Fitness']).reset_index()\n",
    "    pop['Fitness'] = round(pop['Fitness'], 4)\n",
    "    pop = pop.drop(['index'], axis=1)\n",
    "\n",
    "    if (max(poblacion['Fitness']) == 1):\n",
    "        break\n",
    "\n",
    "    if (cnt % 100 == 0):\n",
    "        print(max(poblacion['Fitness']))\n",
    "    cnt += 1\n",
    "\n",
    "poblacion = poblacion.sort_values(by=['Fitness']).reset_index()\n",
    "poblacion = poblacion[-1:]\n",
    "print(poblacion)\n",
    "totalg = (poblacion == 0).sum(axis=1)\n",
    "print(f\"The total de valores para el cambio minimo es: {((len(d)-1)-totalg).to_string(index = False, header = False)}\")"
   ],
   "metadata": {
    "collapsed": false,
    "pycharm": {
     "name": "#%%\n"
    }
   }
  },
  {
   "cell_type": "code",
   "execution_count": null,
   "outputs": [],
   "source": [],
   "metadata": {
    "collapsed": false,
    "pycharm": {
     "name": "#%%\n"
    }
   }
  }
 ],
 "metadata": {
  "kernelspec": {
   "display_name": "Python 3",
   "language": "python",
   "name": "python3"
  },
  "language_info": {
   "codemirror_mode": {
    "name": "ipython",
    "version": 2
   },
   "file_extension": ".py",
   "mimetype": "text/x-python",
   "name": "python",
   "nbconvert_exporter": "python",
   "pygments_lexer": "ipython2",
   "version": "2.7.6"
  }
 },
 "nbformat": 4,
 "nbformat_minor": 0
}
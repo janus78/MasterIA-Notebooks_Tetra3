{
 "cells": [
  {
   "cell_type": "markdown",
   "source": [
    "## FASE II\n",
    "\n",
    "Se presenta a continuación el desarrollo de la actividad correspondiente a la fase II.\n",
    "\n",
    "Considera que cada producto que se encuentra en el almacén central, además de ser identificado por el tipo de embalaje, también posee como propiedad sus dimensiones (largo, ancho y altura con un máximo de 100,0 cm y un mínimo de 5,0 cm en cada dimensión), peso (kg), el tipo de manipulación que requiere (frágil, normal), lugar de procedencia (A, B, C, D) y temperatura de almacenamiento (ambiente, refrigerado).\n",
    "\n",
    "Si el vehículo autónomo tiene integrados dos protocolos de manipulación de carga (Protocolo_1 y Protocolo_2), realiza las siguientes operaciones:\n",
    "1. Genera un conjunto de datos de prueba (mínimo 10,000 muestras), considerando los criterios antes indicados y teniendo en cuenta tu experiencia personal, donde, a partir del análisis de la información del producto, estos puedan ser catalogados dentro los protocolos disponibles.\n",
    "\n",
    "2. Construye un modelo de aprendizaje automático supervisado a partir del conjunto de datos elaborado, que sea capaz de determinar el tipo de protocolo que debe seguir el vehículo al manipular un producto cualquiera en el trayecto del almacén a la zona de manufactura.\n"
   ],
   "metadata": {
    "collapsed": false,
    "pycharm": {
     "name": "#%% md\n"
    }
   }
  },
  {
   "cell_type": "markdown",
   "source": [
    "Importamos las librerías requeridas para ejecutar los requerimientos de los puntos anteriores."
   ],
   "metadata": {
    "collapsed": false,
    "pycharm": {
     "name": "#%% md\n"
    }
   }
  },
  {
   "cell_type": "markdown",
   "source": [
    "* La librería \"svd\" se encontró en un tutorial de internet relacionado a la generación de datos sintéticos.\n",
    "[Top 3 Python Packages for Generating Synthetic Data](https://towardsdatascience.com/top-3-python-packages-to-generate-synthetic-data-33a351a5de0c)\n",
    "* Para esta generación de datos se requiere una pequeña muestra con datos de ejemplo así que se generó un archivo csv llamado \"paquetes_fase_II.csv\" con una muestra de 10 registros que usa la librería svd para general los datos sintéticos de 10000."
   ],
   "metadata": {
    "collapsed": false,
    "pycharm": {
     "name": "#%% md\n"
    }
   }
  },
  {
   "cell_type": "code",
   "execution_count": 18,
   "outputs": [],
   "source": [
    "from sdv.tabular import GaussianCopula #Librería usada para apoyar la creación de datos sintéticos.\n",
    "import pandas as pd\n",
    "from sklearn.preprocessing import OrdinalEncoder\n",
    "from sklearn.model_selection import train_test_split\n",
    "from sklearn.linear_model import Perceptron\n",
    "from sklearn import metrics\n",
    "import numpy as np"
   ],
   "metadata": {
    "collapsed": false,
    "pycharm": {
     "name": "#%%\n"
    }
   }
  },
  {
   "cell_type": "code",
   "execution_count": 19,
   "outputs": [
    {
     "data": {
      "text/plain": "  Embalaje  Ancho(cm)  Largo(cm)  Alto(cm) Procedencia Manipulacion  \\\n0        A         35         40        50           A       normal   \n1        B         80         70        60           B       fragil   \n2        C          5          8         4           C       fragil   \n3        A         25         16        24           B       normal   \n4        C         12         21         5           A       fragil   \n\n   Temperatura    Protocolo  \n0     ambiente  protocolo_1  \n1  refrigerado  protocolo_2  \n2     ambiente  protocolo_2  \n3     ambiente  protocolo_1  \n4  refrigerado  protocolo_1  ",
      "text/html": "<div>\n<style scoped>\n    .dataframe tbody tr th:only-of-type {\n        vertical-align: middle;\n    }\n\n    .dataframe tbody tr th {\n        vertical-align: top;\n    }\n\n    .dataframe thead th {\n        text-align: right;\n    }\n</style>\n<table border=\"1\" class=\"dataframe\">\n  <thead>\n    <tr style=\"text-align: right;\">\n      <th></th>\n      <th>Embalaje</th>\n      <th>Ancho(cm)</th>\n      <th>Largo(cm)</th>\n      <th>Alto(cm)</th>\n      <th>Procedencia</th>\n      <th>Manipulacion</th>\n      <th>Temperatura</th>\n      <th>Protocolo</th>\n    </tr>\n  </thead>\n  <tbody>\n    <tr>\n      <th>0</th>\n      <td>A</td>\n      <td>35</td>\n      <td>40</td>\n      <td>50</td>\n      <td>A</td>\n      <td>normal</td>\n      <td>ambiente</td>\n      <td>protocolo_1</td>\n    </tr>\n    <tr>\n      <th>1</th>\n      <td>B</td>\n      <td>80</td>\n      <td>70</td>\n      <td>60</td>\n      <td>B</td>\n      <td>fragil</td>\n      <td>refrigerado</td>\n      <td>protocolo_2</td>\n    </tr>\n    <tr>\n      <th>2</th>\n      <td>C</td>\n      <td>5</td>\n      <td>8</td>\n      <td>4</td>\n      <td>C</td>\n      <td>fragil</td>\n      <td>ambiente</td>\n      <td>protocolo_2</td>\n    </tr>\n    <tr>\n      <th>3</th>\n      <td>A</td>\n      <td>25</td>\n      <td>16</td>\n      <td>24</td>\n      <td>B</td>\n      <td>normal</td>\n      <td>ambiente</td>\n      <td>protocolo_1</td>\n    </tr>\n    <tr>\n      <th>4</th>\n      <td>C</td>\n      <td>12</td>\n      <td>21</td>\n      <td>5</td>\n      <td>A</td>\n      <td>fragil</td>\n      <td>refrigerado</td>\n      <td>protocolo_1</td>\n    </tr>\n  </tbody>\n</table>\n</div>"
     },
     "execution_count": 19,
     "metadata": {},
     "output_type": "execute_result"
    }
   ],
   "source": [
    "data = pd.read_csv('https://raw.githubusercontent.com/janus78/MasterIA-Notebooks_Tetra3/master/paquetes_fase_II.csv')\n",
    "data.head()"
   ],
   "metadata": {
    "collapsed": false,
    "pycharm": {
     "name": "#%%\n"
    }
   }
  },
  {
   "cell_type": "code",
   "execution_count": 20,
   "outputs": [],
   "source": [
    "model = GaussianCopula() #Se crea una instancia de la librería \"GaussianCopula\" para generar datos sintéticos.\n",
    "model.fit(data) #Se entrena el modelo con los datos de ejemplo."
   ],
   "metadata": {
    "collapsed": false,
    "pycharm": {
     "name": "#%%\n"
    }
   }
  },
  {
   "cell_type": "code",
   "execution_count": 21,
   "outputs": [
    {
     "data": {
      "text/plain": "  Embalaje  Ancho(cm)  Largo(cm)  Alto(cm) Procedencia Manipulacion  \\\n0        C         49         44        53           C       normal   \n1        A         96         76        85           A       normal   \n2        A         56         56        57           B       fragil   \n3        B         75         54        55           B       fragil   \n4        C          5          8         5           C       normal   \n\n   Temperatura    Protocolo  \n0     ambiente  protocolo_2  \n1     ambiente  protocolo_2  \n2  refrigerado  protocolo_2  \n3     ambiente  protocolo_2  \n4  refrigerado  protocolo_1  ",
      "text/html": "<div>\n<style scoped>\n    .dataframe tbody tr th:only-of-type {\n        vertical-align: middle;\n    }\n\n    .dataframe tbody tr th {\n        vertical-align: top;\n    }\n\n    .dataframe thead th {\n        text-align: right;\n    }\n</style>\n<table border=\"1\" class=\"dataframe\">\n  <thead>\n    <tr style=\"text-align: right;\">\n      <th></th>\n      <th>Embalaje</th>\n      <th>Ancho(cm)</th>\n      <th>Largo(cm)</th>\n      <th>Alto(cm)</th>\n      <th>Procedencia</th>\n      <th>Manipulacion</th>\n      <th>Temperatura</th>\n      <th>Protocolo</th>\n    </tr>\n  </thead>\n  <tbody>\n    <tr>\n      <th>0</th>\n      <td>C</td>\n      <td>49</td>\n      <td>44</td>\n      <td>53</td>\n      <td>C</td>\n      <td>normal</td>\n      <td>ambiente</td>\n      <td>protocolo_2</td>\n    </tr>\n    <tr>\n      <th>1</th>\n      <td>A</td>\n      <td>96</td>\n      <td>76</td>\n      <td>85</td>\n      <td>A</td>\n      <td>normal</td>\n      <td>ambiente</td>\n      <td>protocolo_2</td>\n    </tr>\n    <tr>\n      <th>2</th>\n      <td>A</td>\n      <td>56</td>\n      <td>56</td>\n      <td>57</td>\n      <td>B</td>\n      <td>fragil</td>\n      <td>refrigerado</td>\n      <td>protocolo_2</td>\n    </tr>\n    <tr>\n      <th>3</th>\n      <td>B</td>\n      <td>75</td>\n      <td>54</td>\n      <td>55</td>\n      <td>B</td>\n      <td>fragil</td>\n      <td>ambiente</td>\n      <td>protocolo_2</td>\n    </tr>\n    <tr>\n      <th>4</th>\n      <td>C</td>\n      <td>5</td>\n      <td>8</td>\n      <td>5</td>\n      <td>C</td>\n      <td>normal</td>\n      <td>refrigerado</td>\n      <td>protocolo_1</td>\n    </tr>\n  </tbody>\n</table>\n</div>"
     },
     "execution_count": 21,
     "metadata": {},
     "output_type": "execute_result"
    }
   ],
   "source": [
    "sample = model.sample(10000) #Se generan datos sintéticos, un total de 10000.\n",
    "sample.head() #Se muestran los primeros 5 registros."
   ],
   "metadata": {
    "collapsed": false,
    "pycharm": {
     "name": "#%%\n"
    }
   }
  },
  {
   "cell_type": "code",
   "execution_count": 22,
   "outputs": [
    {
     "name": "stdout",
     "output_type": "stream",
     "text": [
      "(10000, 8)\n",
      "Embalaje        0\n",
      "Ancho(cm)       0\n",
      "Largo(cm)       0\n",
      "Alto(cm)        0\n",
      "Procedencia     0\n",
      "Manipulacion    0\n",
      "Temperatura     0\n",
      "Protocolo       0\n",
      "dtype: int64\n"
     ]
    }
   ],
   "source": [
    "# se valida el tamaño de la muestra generada.\n",
    "print(sample.shape)\n",
    "print(sample.isna().sum()) #Se verifica que no haya nulos."
   ],
   "metadata": {
    "collapsed": false,
    "pycharm": {
     "name": "#%%\n"
    }
   }
  },
  {
   "cell_type": "code",
   "execution_count": 23,
   "outputs": [
    {
     "data": {
      "text/plain": "   metric                                     name  raw_score  \\\n0  CSTest                              Chi-Squared   0.962569   \n1  KSTest  Inverted Kolmogorov-Smirnov D statistic   0.820559   \n\n   normalized_score  min_value  max_value      goal error  \n0          0.962569        0.0        1.0  MAXIMIZE  None  \n1          0.820559        0.0        1.0  MAXIMIZE  None  ",
      "text/html": "<div>\n<style scoped>\n    .dataframe tbody tr th:only-of-type {\n        vertical-align: middle;\n    }\n\n    .dataframe tbody tr th {\n        vertical-align: top;\n    }\n\n    .dataframe thead th {\n        text-align: right;\n    }\n</style>\n<table border=\"1\" class=\"dataframe\">\n  <thead>\n    <tr style=\"text-align: right;\">\n      <th></th>\n      <th>metric</th>\n      <th>name</th>\n      <th>raw_score</th>\n      <th>normalized_score</th>\n      <th>min_value</th>\n      <th>max_value</th>\n      <th>goal</th>\n      <th>error</th>\n    </tr>\n  </thead>\n  <tbody>\n    <tr>\n      <th>0</th>\n      <td>CSTest</td>\n      <td>Chi-Squared</td>\n      <td>0.962569</td>\n      <td>0.962569</td>\n      <td>0.0</td>\n      <td>1.0</td>\n      <td>MAXIMIZE</td>\n      <td>None</td>\n    </tr>\n    <tr>\n      <th>1</th>\n      <td>KSTest</td>\n      <td>Inverted Kolmogorov-Smirnov D statistic</td>\n      <td>0.820559</td>\n      <td>0.820559</td>\n      <td>0.0</td>\n      <td>1.0</td>\n      <td>MAXIMIZE</td>\n      <td>None</td>\n    </tr>\n  </tbody>\n</table>\n</div>"
     },
     "execution_count": 23,
     "metadata": {},
     "output_type": "execute_result"
    }
   ],
   "source": [
    "from sdv.evaluation import evaluate #Librería usada para evaluar el modelo de generación de datos sintéticos.\n",
    "evaluate(sample, data, metrics=['CSTest', 'KSTest'], aggregate = False) #Se evalúa el modelo con los datos de ejemplo generados con la librería."
   ],
   "metadata": {
    "collapsed": false,
    "pycharm": {
     "name": "#%%\n"
    }
   }
  },
  {
   "cell_type": "markdown",
   "source": [
    "Podemos notar en las métricas mostradas en la celda anterior que la calidad de la generación de datos sintéticos muestra buenos valores en la calidad de los mismos con score entre el 80 y 90%.\n",
    "\n",
    "* A continuación se va a proceder a categorizar con enteros las columnas que tienen valores string ya que esto facilita la implementación del modelo de aprendizaje automático."
   ],
   "metadata": {
    "collapsed": false,
    "pycharm": {
     "name": "#%% md\n"
    }
   }
  },
  {
   "cell_type": "code",
   "execution_count": 24,
   "outputs": [
    {
     "data": {
      "text/plain": "  Embalaje  Ancho(cm)  Largo(cm)  Alto(cm) Procedencia Manipulacion  \\\n0        C         49         44        53           C       normal   \n1        A         96         76        85           A       normal   \n2        A         56         56        57           B       fragil   \n3        B         75         54        55           B       fragil   \n4        C          5          8         5           C       normal   \n\n   Temperatura    Protocolo  Manipulacion_enc  Procedencia_enc  Embalaje_enc  \\\n0     ambiente  protocolo_2               1.0              2.0           2.0   \n1     ambiente  protocolo_2               1.0              0.0           0.0   \n2  refrigerado  protocolo_2               0.0              1.0           0.0   \n3     ambiente  protocolo_2               0.0              1.0           1.0   \n4  refrigerado  protocolo_1               1.0              2.0           2.0   \n\n   Temperatura_enc  Protocolo_enc  \n0              0.0            1.0  \n1              0.0            1.0  \n2              1.0            1.0  \n3              0.0            1.0  \n4              1.0            0.0  ",
      "text/html": "<div>\n<style scoped>\n    .dataframe tbody tr th:only-of-type {\n        vertical-align: middle;\n    }\n\n    .dataframe tbody tr th {\n        vertical-align: top;\n    }\n\n    .dataframe thead th {\n        text-align: right;\n    }\n</style>\n<table border=\"1\" class=\"dataframe\">\n  <thead>\n    <tr style=\"text-align: right;\">\n      <th></th>\n      <th>Embalaje</th>\n      <th>Ancho(cm)</th>\n      <th>Largo(cm)</th>\n      <th>Alto(cm)</th>\n      <th>Procedencia</th>\n      <th>Manipulacion</th>\n      <th>Temperatura</th>\n      <th>Protocolo</th>\n      <th>Manipulacion_enc</th>\n      <th>Procedencia_enc</th>\n      <th>Embalaje_enc</th>\n      <th>Temperatura_enc</th>\n      <th>Protocolo_enc</th>\n    </tr>\n  </thead>\n  <tbody>\n    <tr>\n      <th>0</th>\n      <td>C</td>\n      <td>49</td>\n      <td>44</td>\n      <td>53</td>\n      <td>C</td>\n      <td>normal</td>\n      <td>ambiente</td>\n      <td>protocolo_2</td>\n      <td>1.0</td>\n      <td>2.0</td>\n      <td>2.0</td>\n      <td>0.0</td>\n      <td>1.0</td>\n    </tr>\n    <tr>\n      <th>1</th>\n      <td>A</td>\n      <td>96</td>\n      <td>76</td>\n      <td>85</td>\n      <td>A</td>\n      <td>normal</td>\n      <td>ambiente</td>\n      <td>protocolo_2</td>\n      <td>1.0</td>\n      <td>0.0</td>\n      <td>0.0</td>\n      <td>0.0</td>\n      <td>1.0</td>\n    </tr>\n    <tr>\n      <th>2</th>\n      <td>A</td>\n      <td>56</td>\n      <td>56</td>\n      <td>57</td>\n      <td>B</td>\n      <td>fragil</td>\n      <td>refrigerado</td>\n      <td>protocolo_2</td>\n      <td>0.0</td>\n      <td>1.0</td>\n      <td>0.0</td>\n      <td>1.0</td>\n      <td>1.0</td>\n    </tr>\n    <tr>\n      <th>3</th>\n      <td>B</td>\n      <td>75</td>\n      <td>54</td>\n      <td>55</td>\n      <td>B</td>\n      <td>fragil</td>\n      <td>ambiente</td>\n      <td>protocolo_2</td>\n      <td>0.0</td>\n      <td>1.0</td>\n      <td>1.0</td>\n      <td>0.0</td>\n      <td>1.0</td>\n    </tr>\n    <tr>\n      <th>4</th>\n      <td>C</td>\n      <td>5</td>\n      <td>8</td>\n      <td>5</td>\n      <td>C</td>\n      <td>normal</td>\n      <td>refrigerado</td>\n      <td>protocolo_1</td>\n      <td>1.0</td>\n      <td>2.0</td>\n      <td>2.0</td>\n      <td>1.0</td>\n      <td>0.0</td>\n    </tr>\n  </tbody>\n</table>\n</div>"
     },
     "execution_count": 24,
     "metadata": {},
     "output_type": "execute_result"
    }
   ],
   "source": [
    "#Se usará el ordinal encoder de sklearn para categorizar las columnas que tienen valores string.\n",
    "ord_enc = OrdinalEncoder()\n",
    "sample['Manipulacion_enc'] = ord_enc.fit_transform(sample[['Manipulacion']]) #Se categoriza la columna \"Manipulacion\" con enteros.\n",
    "sample['Procedencia_enc'] = ord_enc.fit_transform(sample[['Procedencia']])  #Se categoriza la columna \"Procedencia\" con enteros.\n",
    "sample['Embalaje_enc'] = ord_enc.fit_transform(sample[['Embalaje']])    #Se categoriza la columna \"Embalaje\" con enteros.\n",
    "sample['Temperatura_enc'] = ord_enc.fit_transform(sample[['Temperatura']])  #Se categoriza la columna \"Temperatura\" con enteros.\n",
    "sample['Protocolo_enc'] = ord_enc.fit_transform(sample[['Protocolo']])  #Se categoriza la columna \"Protocolo_1\" con enteros.\n",
    "sample.head()"
   ],
   "metadata": {
    "collapsed": false,
    "pycharm": {
     "name": "#%%\n"
    }
   }
  },
  {
   "cell_type": "markdown",
   "source": [
    "* Se procede a obtener el dataset final \"X\" con las columnas requeridas para la implementación del modelo de aprendizaje automático.\n",
    "* Y se obtiene la columna de etiquetas \"y\" que corresponde al protocolo que debe seguir el vehículo al manipular un producto cualquiera en el trayecto del almacén a la zona de manufactura."
   ],
   "metadata": {
    "collapsed": false,
    "pycharm": {
     "name": "#%% md\n"
    }
   }
  },
  {
   "cell_type": "code",
   "execution_count": 25,
   "outputs": [
    {
     "data": {
      "text/plain": "   Manipulacion_enc  Procedencia_enc  Embalaje_enc  Temperatura_enc  \\\n0               1.0              2.0           2.0              0.0   \n1               1.0              0.0           0.0              0.0   \n2               0.0              1.0           0.0              1.0   \n3               0.0              1.0           1.0              0.0   \n4               1.0              2.0           2.0              1.0   \n\n   Ancho(cm)  Largo(cm)  Alto(cm)  \n0         49         44        53  \n1         96         76        85  \n2         56         56        57  \n3         75         54        55  \n4          5          8         5  ",
      "text/html": "<div>\n<style scoped>\n    .dataframe tbody tr th:only-of-type {\n        vertical-align: middle;\n    }\n\n    .dataframe tbody tr th {\n        vertical-align: top;\n    }\n\n    .dataframe thead th {\n        text-align: right;\n    }\n</style>\n<table border=\"1\" class=\"dataframe\">\n  <thead>\n    <tr style=\"text-align: right;\">\n      <th></th>\n      <th>Manipulacion_enc</th>\n      <th>Procedencia_enc</th>\n      <th>Embalaje_enc</th>\n      <th>Temperatura_enc</th>\n      <th>Ancho(cm)</th>\n      <th>Largo(cm)</th>\n      <th>Alto(cm)</th>\n    </tr>\n  </thead>\n  <tbody>\n    <tr>\n      <th>0</th>\n      <td>1.0</td>\n      <td>2.0</td>\n      <td>2.0</td>\n      <td>0.0</td>\n      <td>49</td>\n      <td>44</td>\n      <td>53</td>\n    </tr>\n    <tr>\n      <th>1</th>\n      <td>1.0</td>\n      <td>0.0</td>\n      <td>0.0</td>\n      <td>0.0</td>\n      <td>96</td>\n      <td>76</td>\n      <td>85</td>\n    </tr>\n    <tr>\n      <th>2</th>\n      <td>0.0</td>\n      <td>1.0</td>\n      <td>0.0</td>\n      <td>1.0</td>\n      <td>56</td>\n      <td>56</td>\n      <td>57</td>\n    </tr>\n    <tr>\n      <th>3</th>\n      <td>0.0</td>\n      <td>1.0</td>\n      <td>1.0</td>\n      <td>0.0</td>\n      <td>75</td>\n      <td>54</td>\n      <td>55</td>\n    </tr>\n    <tr>\n      <th>4</th>\n      <td>1.0</td>\n      <td>2.0</td>\n      <td>2.0</td>\n      <td>1.0</td>\n      <td>5</td>\n      <td>8</td>\n      <td>5</td>\n    </tr>\n  </tbody>\n</table>\n</div>"
     },
     "execution_count": 25,
     "metadata": {},
     "output_type": "execute_result"
    }
   ],
   "source": [
    "X = sample[['Manipulacion_enc', 'Procedencia_enc', 'Embalaje_enc', 'Temperatura_enc', 'Ancho(cm)', 'Largo(cm)', 'Alto(cm)']] #Se obtiene el dataset final \"X\" con las columnas requeridas para la implementación del modelo de aprendizaje automático.\n",
    "y = sample['Protocolo_enc'] #Se obtiene la columna de etiquetas \"y\" que corresponde al protocolo que debe seguir el vehículo al manipular un producto cualquiera en el trayecto del almacén a la zona de manufactura.\n",
    "X_train, X_test, y_train, y_test = train_test_split(X, y, test_size=0.2, random_state=0) #Se separan los datos de entrenamiento y prueba.\n",
    "X.head()"
   ],
   "metadata": {
    "collapsed": false,
    "pycharm": {
     "name": "#%%\n"
    }
   }
  },
  {
   "cell_type": "markdown",
   "source": [
    "* Se utiliza el clasificador Perceptron para implementar el modelo de aprendizaje automático."
   ],
   "metadata": {
    "collapsed": false,
    "pycharm": {
     "name": "#%% md\n"
    }
   }
  },
  {
   "cell_type": "code",
   "execution_count": 26,
   "outputs": [
    {
     "data": {
      "text/plain": "Perceptron()",
      "text/html": "<style>#sk-container-id-2 {color: black;background-color: white;}#sk-container-id-2 pre{padding: 0;}#sk-container-id-2 div.sk-toggleable {background-color: white;}#sk-container-id-2 label.sk-toggleable__label {cursor: pointer;display: block;width: 100%;margin-bottom: 0;padding: 0.3em;box-sizing: border-box;text-align: center;}#sk-container-id-2 label.sk-toggleable__label-arrow:before {content: \"▸\";float: left;margin-right: 0.25em;color: #696969;}#sk-container-id-2 label.sk-toggleable__label-arrow:hover:before {color: black;}#sk-container-id-2 div.sk-estimator:hover label.sk-toggleable__label-arrow:before {color: black;}#sk-container-id-2 div.sk-toggleable__content {max-height: 0;max-width: 0;overflow: hidden;text-align: left;background-color: #f0f8ff;}#sk-container-id-2 div.sk-toggleable__content pre {margin: 0.2em;color: black;border-radius: 0.25em;background-color: #f0f8ff;}#sk-container-id-2 input.sk-toggleable__control:checked~div.sk-toggleable__content {max-height: 200px;max-width: 100%;overflow: auto;}#sk-container-id-2 input.sk-toggleable__control:checked~label.sk-toggleable__label-arrow:before {content: \"▾\";}#sk-container-id-2 div.sk-estimator input.sk-toggleable__control:checked~label.sk-toggleable__label {background-color: #d4ebff;}#sk-container-id-2 div.sk-label input.sk-toggleable__control:checked~label.sk-toggleable__label {background-color: #d4ebff;}#sk-container-id-2 input.sk-hidden--visually {border: 0;clip: rect(1px 1px 1px 1px);clip: rect(1px, 1px, 1px, 1px);height: 1px;margin: -1px;overflow: hidden;padding: 0;position: absolute;width: 1px;}#sk-container-id-2 div.sk-estimator {font-family: monospace;background-color: #f0f8ff;border: 1px dotted black;border-radius: 0.25em;box-sizing: border-box;margin-bottom: 0.5em;}#sk-container-id-2 div.sk-estimator:hover {background-color: #d4ebff;}#sk-container-id-2 div.sk-parallel-item::after {content: \"\";width: 100%;border-bottom: 1px solid gray;flex-grow: 1;}#sk-container-id-2 div.sk-label:hover label.sk-toggleable__label {background-color: #d4ebff;}#sk-container-id-2 div.sk-serial::before {content: \"\";position: absolute;border-left: 1px solid gray;box-sizing: border-box;top: 0;bottom: 0;left: 50%;z-index: 0;}#sk-container-id-2 div.sk-serial {display: flex;flex-direction: column;align-items: center;background-color: white;padding-right: 0.2em;padding-left: 0.2em;position: relative;}#sk-container-id-2 div.sk-item {position: relative;z-index: 1;}#sk-container-id-2 div.sk-parallel {display: flex;align-items: stretch;justify-content: center;background-color: white;position: relative;}#sk-container-id-2 div.sk-item::before, #sk-container-id-2 div.sk-parallel-item::before {content: \"\";position: absolute;border-left: 1px solid gray;box-sizing: border-box;top: 0;bottom: 0;left: 50%;z-index: -1;}#sk-container-id-2 div.sk-parallel-item {display: flex;flex-direction: column;z-index: 1;position: relative;background-color: white;}#sk-container-id-2 div.sk-parallel-item:first-child::after {align-self: flex-end;width: 50%;}#sk-container-id-2 div.sk-parallel-item:last-child::after {align-self: flex-start;width: 50%;}#sk-container-id-2 div.sk-parallel-item:only-child::after {width: 0;}#sk-container-id-2 div.sk-dashed-wrapped {border: 1px dashed gray;margin: 0 0.4em 0.5em 0.4em;box-sizing: border-box;padding-bottom: 0.4em;background-color: white;}#sk-container-id-2 div.sk-label label {font-family: monospace;font-weight: bold;display: inline-block;line-height: 1.2em;}#sk-container-id-2 div.sk-label-container {text-align: center;}#sk-container-id-2 div.sk-container {/* jupyter's `normalize.less` sets `[hidden] { display: none; }` but bootstrap.min.css set `[hidden] { display: none !important; }` so we also need the `!important` here to be able to override the default hidden behavior on the sphinx rendered scikit-learn.org. See: https://github.com/scikit-learn/scikit-learn/issues/21755 */display: inline-block !important;position: relative;}#sk-container-id-2 div.sk-text-repr-fallback {display: none;}</style><div id=\"sk-container-id-2\" class=\"sk-top-container\"><div class=\"sk-text-repr-fallback\"><pre>Perceptron()</pre><b>In a Jupyter environment, please rerun this cell to show the HTML representation or trust the notebook. <br />On GitHub, the HTML representation is unable to render, please try loading this page with nbviewer.org.</b></div><div class=\"sk-container\" hidden><div class=\"sk-item\"><div class=\"sk-estimator sk-toggleable\"><input class=\"sk-toggleable__control sk-hidden--visually\" id=\"sk-estimator-id-2\" type=\"checkbox\" checked><label for=\"sk-estimator-id-2\" class=\"sk-toggleable__label sk-toggleable__label-arrow\">Perceptron</label><div class=\"sk-toggleable__content\"><pre>Perceptron()</pre></div></div></div></div></div>"
     },
     "execution_count": 26,
     "metadata": {},
     "output_type": "execute_result"
    }
   ],
   "source": [
    "clf = Perceptron(random_state=0) #Se crea una instancia de la clase Perceptron.\n",
    "clf.fit(X_train, y_train) #Se entrena el modelo."
   ],
   "metadata": {
    "collapsed": false,
    "pycharm": {
     "name": "#%%\n"
    }
   }
  },
  {
   "cell_type": "code",
   "execution_count": 27,
   "outputs": [
    {
     "name": "stdout",
     "output_type": "stream",
     "text": [
      "              precision    recall  f1-score   support\n",
      "\n",
      "         0.0       0.96      0.51      0.67       891\n",
      "         1.0       0.71      0.98      0.83      1109\n",
      "\n",
      "    accuracy                           0.77      2000\n",
      "   macro avg       0.84      0.75      0.75      2000\n",
      "weighted avg       0.82      0.77      0.76      2000\n",
      "\n"
     ]
    }
   ],
   "source": [
    "y_pred = clf.predict(X_test) #Se predice el protocolo que debe seguir el vehículo al manipular un producto cualquiera en el trayecto del almacén a la zona de manufactura.\n",
    "print(metrics.classification_report(y_test, y_pred)) #Se muestra el reporte de metricas del modelo."
   ],
   "metadata": {
    "collapsed": false,
    "pycharm": {
     "name": "#%%\n"
    }
   }
  },
  {
   "cell_type": "markdown",
   "source": [
    "**Conclusiones:**\n",
    "Las conclusiones de esta primera parte de la actividad son que podemos darnos cuenta de la importancia de tener una forma con la que generar datos de prueba de calidad y que para encontrarle fue necesario hacer una busqueda que tomó un tiempo considerable.\n",
    "Además de esto el trabajo usual de realizar el análisis, ajuste y limpieza de datos que tambien toma buena parte del tiempo.\n",
    "Fue muy ilustrativo realizar esta parte del ejercicioya que nos obligó a buscar nuevas formas de realizar las cosas que se requieren para la actividad."
   ],
   "metadata": {
    "collapsed": false,
    "pycharm": {
     "name": "#%% md\n"
    }
   }
  },
  {
   "cell_type": "markdown",
   "source": [
    "## Parte II: Pregunta 5 ##\n",
    "Esta parte corresponde a la pregunta 5 de la actividad. que es relacionada a la distribución de los productos en la planta de manufactura.\n",
    "\n",
    "1. La planta industrial tiene una distribución como la que se muestra en la figura 1.\n",
    "\n",
    "   ![Mapeo almacen](https://raw.githubusercontent.com/janus78/MasterIA-Notebooks_Tetra3/master/f2.png)\n",
    "\n",
    "3. Cada vehículo puede transportar un máximo de tres productos al mismo tiempo.\n",
    "4. Los productos en el almacén no poseen un orden determinado.\n",
    "5. Un vehículo puede seleccionar cualquier producto con la misma probabilidad.\n",
    "6. Elabora un programa que sea capaz de determinar la ruta óptima que debe tomar el vehículo para distribuir los productos por la planta industrial, garantizando que:\n",
    "\n",
    "7. Nunca repita dos veces el mismo destino en cada viaje.\n",
    "8. Los productos del protocolo_1 tengan prioridad.\n",
    "9. La ruta trazada sea siempre la menor."
   ],
   "metadata": {
    "collapsed": false,
    "pycharm": {
     "name": "#%% md\n"
    }
   }
  },
  {
   "cell_type": "markdown",
   "source": [
    "Para el desarrollo de este ejercicio se ha realizado mucha busqueda, revisión y prácticas de diferentes tutoriales esperando lograr una implementación adecuada. Aún quedan muchas dudas y la inseguridad de que sea correcta la implementación.\n",
    "A continuación se presenta el desarrollo de este ejercicio."
   ],
   "metadata": {
    "collapsed": false,
    "pycharm": {
     "name": "#%% md\n"
    }
   }
  },
  {
   "cell_type": "markdown",
   "source": [
    "Dentro de muchos de los tutoriales, guías y consejos que se han revisado se notaba la incidencia de la creacón y uso de una matriz de distancias por lo que es la aproximación que se utiliza en este caso."
   ],
   "metadata": {
    "collapsed": false,
    "pycharm": {
     "name": "#%% md\n"
    }
   }
  },
  {
   "cell_type": "code",
   "execution_count": 28,
   "outputs": [],
   "source": [
    "#Importando las librerias necesarias.\n",
    "from scipy.spatial import distance_matrix #Se importa la libreria de distancia."
   ],
   "metadata": {
    "collapsed": false,
    "pycharm": {
     "name": "#%%\n"
    }
   }
  },
  {
   "cell_type": "code",
   "execution_count": 29,
   "outputs": [
    {
     "data": {
      "text/plain": "       x    y\nO      0  300\nB2   400    0\nB1   700    0\nC2  1000  300\nC1  1000  200\nA1   100  600",
      "text/html": "<div>\n<style scoped>\n    .dataframe tbody tr th:only-of-type {\n        vertical-align: middle;\n    }\n\n    .dataframe tbody tr th {\n        vertical-align: top;\n    }\n\n    .dataframe thead th {\n        text-align: right;\n    }\n</style>\n<table border=\"1\" class=\"dataframe\">\n  <thead>\n    <tr style=\"text-align: right;\">\n      <th></th>\n      <th>x</th>\n      <th>y</th>\n    </tr>\n  </thead>\n  <tbody>\n    <tr>\n      <th>O</th>\n      <td>0</td>\n      <td>300</td>\n    </tr>\n    <tr>\n      <th>B2</th>\n      <td>400</td>\n      <td>0</td>\n    </tr>\n    <tr>\n      <th>B1</th>\n      <td>700</td>\n      <td>0</td>\n    </tr>\n    <tr>\n      <th>C2</th>\n      <td>1000</td>\n      <td>300</td>\n    </tr>\n    <tr>\n      <th>C1</th>\n      <td>1000</td>\n      <td>200</td>\n    </tr>\n    <tr>\n      <th>A1</th>\n      <td>100</td>\n      <td>600</td>\n    </tr>\n  </tbody>\n</table>\n</div>"
     },
     "execution_count": 29,
     "metadata": {},
     "output_type": "execute_result"
    }
   ],
   "source": [
    "#Se crea un dataframe que se va a usar para la creación de la matriz de distancias.\n",
    "puntos_entrega = [[0, 300], [400, 0], [700, 0], [1000, 300], [1000, 200], [100, 600], [400, 600]] #Se crea una matriz de puntos de entrega.\n",
    "nombre_puntos = ['O', 'B2', 'B1', 'C2', 'C1', 'A1', 'A2'] #Se crea una lista de nombres de puntos.\n",
    "df_matriz = pd.DataFrame(puntos_entrega, columns=['x', 'y'], index=nombre_puntos) #Se crea un dataframe con los puntos de entrega.\n",
    "df_matriz.head(6) #Se muestra el dataframe."
   ],
   "metadata": {
    "collapsed": false,
    "pycharm": {
     "name": "#%%\n"
    }
   }
  },
  {
   "cell_type": "code",
   "execution_count": 30,
   "outputs": [
    {
     "data": {
      "text/plain": "       O   B2   B1    C2    C1   A1   A2\nO      0  500  761  1000  1004  316  500\nB2   500    0  300   670   632  670  600\nB1   761  300    0   424   360  848  670\nC2  1000  670  424     0   100  948  670\nC1  1004  632  360   100     0  984  721\nA1   316  670  848   948   984    0  300\nA2   500  600  670   670   721  300    0",
      "text/html": "<div>\n<style scoped>\n    .dataframe tbody tr th:only-of-type {\n        vertical-align: middle;\n    }\n\n    .dataframe tbody tr th {\n        vertical-align: top;\n    }\n\n    .dataframe thead th {\n        text-align: right;\n    }\n</style>\n<table border=\"1\" class=\"dataframe\">\n  <thead>\n    <tr style=\"text-align: right;\">\n      <th></th>\n      <th>O</th>\n      <th>B2</th>\n      <th>B1</th>\n      <th>C2</th>\n      <th>C1</th>\n      <th>A1</th>\n      <th>A2</th>\n    </tr>\n  </thead>\n  <tbody>\n    <tr>\n      <th>O</th>\n      <td>0</td>\n      <td>500</td>\n      <td>761</td>\n      <td>1000</td>\n      <td>1004</td>\n      <td>316</td>\n      <td>500</td>\n    </tr>\n    <tr>\n      <th>B2</th>\n      <td>500</td>\n      <td>0</td>\n      <td>300</td>\n      <td>670</td>\n      <td>632</td>\n      <td>670</td>\n      <td>600</td>\n    </tr>\n    <tr>\n      <th>B1</th>\n      <td>761</td>\n      <td>300</td>\n      <td>0</td>\n      <td>424</td>\n      <td>360</td>\n      <td>848</td>\n      <td>670</td>\n    </tr>\n    <tr>\n      <th>C2</th>\n      <td>1000</td>\n      <td>670</td>\n      <td>424</td>\n      <td>0</td>\n      <td>100</td>\n      <td>948</td>\n      <td>670</td>\n    </tr>\n    <tr>\n      <th>C1</th>\n      <td>1004</td>\n      <td>632</td>\n      <td>360</td>\n      <td>100</td>\n      <td>0</td>\n      <td>984</td>\n      <td>721</td>\n    </tr>\n    <tr>\n      <th>A1</th>\n      <td>316</td>\n      <td>670</td>\n      <td>848</td>\n      <td>948</td>\n      <td>984</td>\n      <td>0</td>\n      <td>300</td>\n    </tr>\n    <tr>\n      <th>A2</th>\n      <td>500</td>\n      <td>600</td>\n      <td>670</td>\n      <td>670</td>\n      <td>721</td>\n      <td>300</td>\n      <td>0</td>\n    </tr>\n  </tbody>\n</table>\n</div>"
     },
     "execution_count": 30,
     "metadata": {},
     "output_type": "execute_result"
    }
   ],
   "source": [
    "#Se crea un dataframe con la matriz de distancias.\n",
    "df_matriz_dist = pd.DataFrame(distance_matrix(df_matriz.values, df_matriz.values), index=df_matriz.index, columns=df_matriz.index).astype(int) #Se crea un dataframe con la matriz de distancias.\n",
    "df_matriz_dist.head(7) #Se muestra el dataframe."
   ],
   "metadata": {
    "collapsed": false,
    "pycharm": {
     "name": "#%%\n"
    }
   }
  },
  {
   "cell_type": "code",
   "execution_count": 31,
   "outputs": [],
   "source": [
    "#Se obtiene una predicción del total de productos en el dataset sintetico.\n",
    "y_all = clf.predict(X) #Se obtiene la predicción de los protocolos."
   ],
   "metadata": {
    "collapsed": false,
    "pycharm": {
     "name": "#%%\n"
    }
   }
  },
  {
   "cell_type": "code",
   "execution_count": 32,
   "outputs": [
    {
     "data": {
      "text/plain": "   Manipulacion_enc  Procedencia_enc  Embalaje_enc  Temperatura_enc  \\\n0               1.0              2.0           2.0              0.0   \n1               1.0              0.0           0.0              0.0   \n2               0.0              1.0           0.0              1.0   \n3               0.0              1.0           1.0              0.0   \n4               1.0              2.0           2.0              1.0   \n\n   Ancho(cm)  Largo(cm)  Alto(cm)  Protocolo_enc  \n0         49         44        53            1.0  \n1         96         76        85            1.0  \n2         56         56        57            1.0  \n3         75         54        55            1.0  \n4          5          8         5            0.0  ",
      "text/html": "<div>\n<style scoped>\n    .dataframe tbody tr th:only-of-type {\n        vertical-align: middle;\n    }\n\n    .dataframe tbody tr th {\n        vertical-align: top;\n    }\n\n    .dataframe thead th {\n        text-align: right;\n    }\n</style>\n<table border=\"1\" class=\"dataframe\">\n  <thead>\n    <tr style=\"text-align: right;\">\n      <th></th>\n      <th>Manipulacion_enc</th>\n      <th>Procedencia_enc</th>\n      <th>Embalaje_enc</th>\n      <th>Temperatura_enc</th>\n      <th>Ancho(cm)</th>\n      <th>Largo(cm)</th>\n      <th>Alto(cm)</th>\n      <th>Protocolo_enc</th>\n    </tr>\n  </thead>\n  <tbody>\n    <tr>\n      <th>0</th>\n      <td>1.0</td>\n      <td>2.0</td>\n      <td>2.0</td>\n      <td>0.0</td>\n      <td>49</td>\n      <td>44</td>\n      <td>53</td>\n      <td>1.0</td>\n    </tr>\n    <tr>\n      <th>1</th>\n      <td>1.0</td>\n      <td>0.0</td>\n      <td>0.0</td>\n      <td>0.0</td>\n      <td>96</td>\n      <td>76</td>\n      <td>85</td>\n      <td>1.0</td>\n    </tr>\n    <tr>\n      <th>2</th>\n      <td>0.0</td>\n      <td>1.0</td>\n      <td>0.0</td>\n      <td>1.0</td>\n      <td>56</td>\n      <td>56</td>\n      <td>57</td>\n      <td>1.0</td>\n    </tr>\n    <tr>\n      <th>3</th>\n      <td>0.0</td>\n      <td>1.0</td>\n      <td>1.0</td>\n      <td>0.0</td>\n      <td>75</td>\n      <td>54</td>\n      <td>55</td>\n      <td>1.0</td>\n    </tr>\n    <tr>\n      <th>4</th>\n      <td>1.0</td>\n      <td>2.0</td>\n      <td>2.0</td>\n      <td>1.0</td>\n      <td>5</td>\n      <td>8</td>\n      <td>5</td>\n      <td>0.0</td>\n    </tr>\n  </tbody>\n</table>\n</div>"
     },
     "execution_count": 32,
     "metadata": {},
     "output_type": "execute_result"
    }
   ],
   "source": [
    "X_full = X.copy() #Se crea una copia del dataset original.\n",
    "X_full['Protocolo_enc'] = y_all #Se agrega la columna de etiquetas al dataset.\n",
    "X_full.head()"
   ],
   "metadata": {
    "collapsed": false,
    "pycharm": {
     "name": "#%%\n"
    }
   }
  },
  {
   "cell_type": "code",
   "execution_count": 33,
   "outputs": [
    {
     "name": "stdout",
     "output_type": "stream",
     "text": [
      "Los totales por embalaje y protocolo son:\n",
      "Embalaje A, Protocolo 1: 1346\n",
      "Embalaje A, Protocolo 2: 2987\n",
      "Embalaje B, Protocolo 1: 877\n",
      "Embalaje B, Protocolo 2: 2955\n",
      "Embalaje C, Protocolo 1: 84\n",
      "Embalaje C, Protocolo 2: 1751\n"
     ]
    }
   ],
   "source": [
    "#Se obtienen los totales de productos para cada protocolo y embalaje.\n",
    "total_pt1_A = X_full.apply(lambda x : x['Protocolo_enc'] == 0 and x['Embalaje_enc'] == 0, axis=1).sum() #Se obtiene el total de productos para el protocolo_1 y el embalaje A.\n",
    "total_pt2_A = X_full.apply(lambda x : x['Protocolo_enc'] == 1 and x['Embalaje_enc'] == 0, axis=1).sum() #Se obtiene el total de productos para el protocolo_2 y el embalaje A.\n",
    "total_pt1_B = X_full.apply(lambda x : x['Protocolo_enc'] == 0 and x['Embalaje_enc'] == 1, axis=1).sum() #Se obtiene el total de productos para el protocolo_1 y el embalaje B.\n",
    "total_pt2_B = X_full.apply(lambda x : x['Protocolo_enc'] == 1 and x['Embalaje_enc'] == 1, axis=1).sum() #Se obtiene el total de productos para el protocolo_2 y el embalaje B.\n",
    "total_pt1_C = X_full.apply(lambda x : x['Protocolo_enc'] == 0 and x['Embalaje_enc'] == 2, axis=1).sum() #Se obtiene el total de productos para el protocolo_1 y el embalaje C.\n",
    "total_pt2_C = X_full.apply(lambda x : x['Protocolo_enc'] == 1 and x['Embalaje_enc'] == 2, axis=1).sum() #Se obtiene el total de productos para el protocolo_2 y el embalaje C.\n",
    "\n",
    "print(f\"Los totales por embalaje y protocolo son:\\nEmbalaje A, Protocolo 1: {total_pt1_A}\\nEmbalaje A, Protocolo 2: {total_pt2_A}\\nEmbalaje B, Protocolo 1: {total_pt1_B}\\nEmbalaje B, Protocolo 2: {total_pt2_B}\\nEmbalaje C, Protocolo 1: {total_pt1_C}\\nEmbalaje C, Protocolo 2: {total_pt2_C}\") #Se muestra el total de productos para cada protocolo y embalaje."
   ],
   "metadata": {
    "collapsed": false,
    "pycharm": {
     "name": "#%%\n"
    }
   }
  },
  {
   "cell_type": "markdown",
   "source": [
    "Se pudieron obtener los totales de productos para cada protocolo y embalaje. Debido a restricciones que se encontraron con la herramienta que con eltiempo no alcancé a encontrar como solucionar no se usaron estos paquetes ya que la implementación de este algoritmo no se pudo lograr. Tiene una restricción de que la canticas de paquetes a entregar no puede ser mayor a la capacidad del vehículo.\n",
    "Traté de implementar un pickup and delivery pereo ya no alcancé a lograrlo.\n",
    "Hice la mayor cantidad de intentos que el tiempo libre me permitió."
   ],
   "metadata": {
    "collapsed": false,
    "pycharm": {
     "name": "#%% md\n"
    }
   }
  },
  {
   "cell_type": "code",
   "execution_count": 34,
   "outputs": [
    {
     "data": {
      "text/plain": "[29, 8, 17, 0, 13, 29]"
     },
     "execution_count": 34,
     "metadata": {},
     "output_type": "execute_result"
    }
   ],
   "source": [
    "#Creando el arreglo de demanda\n",
    "demanda = [total_pt2_B//100, total_pt1_B//100, total_pt2_C//100, total_pt1_C//100, total_pt1_A//100, total_pt2_A//100] #Se crea un arreglo de demanda.\n",
    "demanda"
   ],
   "metadata": {
    "collapsed": false,
    "pycharm": {
     "name": "#%%\n"
    }
   }
  },
  {
   "cell_type": "markdown",
   "source": [
    "* Construyendo el modelo usando Google OR Tools.\n",
    "OR Tools de Google es un set de herramientas para optimización combinatoria que se trata de encontrar la mejor solucion de un set de posibles soluciones."
   ],
   "metadata": {
    "collapsed": false,
    "pycharm": {
     "name": "#%% md\n"
    }
   }
  },
  {
   "cell_type": "code",
   "execution_count": 36,
   "outputs": [],
   "source": [
    "#Se importan las librerias necesarias.\n",
    "from ortools.constraint_solver import routing_enums_pb2 #Se importa la libreria de routing_enums_pb2.\n",
    "from ortools.constraint_solver import pywrapcp #Se importa la libreria de pywrapcp."
   ],
   "metadata": {
    "collapsed": false,
    "pycharm": {
     "name": "#%%\n"
    }
   }
  },
  {
   "cell_type": "code",
   "execution_count": 37,
   "outputs": [],
   "source": [
    "#Se convierte la matiz de distancias a numpy.\n",
    "matriz_dist = df_matriz_dist.to_numpy() #Se convierte la matiz de distancias a numpy."
   ],
   "metadata": {
    "collapsed": false,
    "pycharm": {
     "name": "#%%\n"
    }
   }
  },
  {
   "cell_type": "markdown",
   "source": [
    "En este caso no se pudo usar el valor original del total de paquetes por protocolo y embalaje por lo que el arreglo de demanda tiene valores que son iguales o menores a la capacidad del vehiculo que es de 3."
   ],
   "metadata": {
    "collapsed": false,
    "pycharm": {
     "name": "#%% md\n"
    }
   }
  },
  {
   "cell_type": "code",
   "execution_count": 68,
   "outputs": [],
   "source": [
    "def crear_modelo_datos():\n",
    "    datos = {}\n",
    "    datos['matriz_dist'] = matriz_dist #Se agrega la matriz de distancias al diccionario.\n",
    "    datos['demanda'] = [0, 1, 3, 1, 2, 1, 2] #Se agrega la demanda al diccionario.\n",
    "    datos['capacidad_vehiculo'] = [3, 3, 3, 3] #Se agrega la capacidad del vehiculo al diccionario.\n",
    "    datos['num_vehiculos'] = 4 #Se agrega el numero de vehiculos al diccionario.\n",
    "    datos['almacen'] = 0 #Se agrega el almacen al diccionario.\n",
    "    return datos #Se retorna el diccionario."
   ],
   "metadata": {
    "collapsed": false,
    "pycharm": {
     "name": "#%%\n"
    }
   }
  },
  {
   "cell_type": "code",
   "execution_count": 69,
   "outputs": [],
   "source": [
    "def imprimir_solucion(datos, route_manager, rutas, solucion):\n",
    "    print(f'Objetivo: {solucion.ObjectiveValue()}')\n",
    "    nodos_eliminados = 'Nodos eliminados:'\n",
    "    for node in range(rutas.Size()):\n",
    "        if rutas.IsStart(node) or rutas.IsEnd(node):\n",
    "            continue\n",
    "        if solucion.Value(rutas.NextVar(node)) == node:\n",
    "            nodos_eliminados += ' {}'.format(route_manager.IndexToNode(node))\n",
    "    print(nodos_eliminados)\n",
    "    distancia_total = 0 #Se inicializa la distancia total.\n",
    "    carga_total = 0 #Se inicializa la carga total.\n",
    "    for id_vehiculo in range(datos['num_vehiculos']): #Para cada vehiculo.\n",
    "        indice = rutas.Start(id_vehiculo) #Se obtiene el indice de inicio.\n",
    "        plan_salida = f'Ruta para el vehiculo {id_vehiculo + 1}:\\n' #Se crea el plan de salida.\n",
    "        distancia_ruta = 0 #Se inicializa la distancia de la ruta.\n",
    "        carga_ruta = 0 #Se inicializa la carga de la ruta.\n",
    "        while not rutas.IsEnd(indice): #Mientras no se llegue al final de la ruta.\n",
    "            indice_nodo = route_manager.IndexToNode(indice) #Se obtiene el indice del nodo.\n",
    "            carga_ruta += datos['demanda'][indice_nodo] #Se agrega la cantidad de productos en la orden.\n",
    "            plan_salida += '{0} paquetes({1}) ->'.format(indice_nodo, carga_ruta) #Se agrega el nodo al plan de salida.\n",
    "            indice_previo = indice #Se guarda el indice anterior.\n",
    "            indice = solucion.Value(rutas.NextVar(indice)) #Se obtiene el siguiente indice.\n",
    "            distancia_ruta += rutas.GetArcCostForVehicle(indice_previo, indice, id_vehiculo) #Se agrega la distancia de la ruta.\n",
    "        plan_salida += ' {0} paquetes({1})\\n'.format(route_manager.IndexToNode(indice), carga_ruta) #Se agrega el nodo al plan de salida.\n",
    "        plan_salida += 'Distancia de la ruta: {} m\\n'.format(distancia_ruta) #Se agrega la distancia de la ruta.\n",
    "        plan_salida += 'Paquetes entregados: {} (paquetes)\\n'.format(carga_ruta) #Se agrega la cantidad de productos entregados.\n",
    "        print(plan_salida) #Se imprime el plan de salida.\n",
    "        distancia_total += distancia_ruta #Se agrega la distancia de la ruta.\n",
    "        carga_total += carga_ruta #Se agrega la carga de la ruta.\n",
    "    print('Distancia total: {} m'.format(distancia_total)) #Se imprime la distancia total.\n",
    "    print('Paquetes entregados: {} (paquetes)'.format(carga_total)) #Se imprime la cantidad de productos entregados."
   ],
   "metadata": {
    "collapsed": false,
    "pycharm": {
     "name": "#%%\n"
    }
   }
  },
  {
   "cell_type": "code",
   "execution_count": 71,
   "outputs": [],
   "source": [
    "#Funcion principal\n",
    "def main():\n",
    "    datos = crear_modelo_datos() #Se crea el diccionario de datos.\n",
    "    route_manager = pywrapcp.RoutingIndexManager(len(datos['matriz_dist']), datos['num_vehiculos'], datos['almacen']) #Se crea el manager de rutas.\n",
    "    rutas = pywrapcp.RoutingModel(route_manager) #Se crea el modelo de rutas.\n",
    "\n",
    "    print(type(rutas))\n",
    "\n",
    "    def llamada_distancia(indice_desde, indice_hasta):\n",
    "        nodo_desde = route_manager.IndexToNode(indice_desde) #Se obtiene el nodo desde.\n",
    "        nodo_hasta = route_manager.IndexToNode(indice_hasta) #Se obtiene el nodo hasta.\n",
    "        return datos['matriz_dist'][nodo_desde][nodo_hasta] #Se retorna la distancia entre los nodos.\n",
    "\n",
    "    indice_callback_transito = rutas.RegisterTransitCallback(llamada_distancia) #Se registra el callback de transito.\n",
    "\n",
    "    #Definiendo el costo de la ruta\n",
    "    rutas.SetArcCostEvaluatorOfAllVehicles(indice_callback_transito) #Se define el costo de la ruta.\n",
    "\n",
    "    #Calculando la cantidad de productos en la orden.\n",
    "    def llamada_cantidad(indice_desde):\n",
    "        nodo_desde = route_manager.IndexToNode(indice_desde) #Se obtiene el nodo desde.\n",
    "        return datos['demanda'][nodo_desde] #Se retorna la cantidad de productos en la orden.\n",
    "\n",
    "    #Agregando la restricción de capacidad\n",
    "    indice_callback_demanda = rutas.RegisterUnaryTransitCallback(llamada_cantidad) #Se registra el callback de la demanda.\n",
    "\n",
    "    rutas.AddDimensionWithVehicleCapacity(indice_callback_demanda, 0, datos['capacidad_vehiculo'], True, 'Capacity') #Se agrega la restriccion de capacidad.\n",
    "\n",
    "    #Agregando codigo para permitir omitir nodos.\n",
    "    penalty = 1000\n",
    "    for node in range(1, len(datos['matriz_dist'])):\n",
    "        rutas.AddDisjunction([route_manager.NodeToIndex(node)], penalty)\n",
    "\n",
    "\n",
    "    #Obteniendo la primera solución heurística.\n",
    "    parametros_busqueda = pywrapcp.DefaultRoutingSearchParameters() #Se crea el parametros de búsqueda.\n",
    "    parametros_busqueda.first_solution_strategy = (routing_enums_pb2.FirstSolutionStrategy.PATH_CHEAPEST_ARC) #Se define la estrategia de búsqueda.\n",
    "    parametros_busqueda.local_search_metaheuristic = (routing_enums_pb2.LocalSearchMetaheuristic.AUTOMATIC) #Se define la metaheuristica de búsqueda.\n",
    "    parametros_busqueda.time_limit.FromSeconds(20) #Se define el tiempo limite de búsqueda.\n",
    "\n",
    "    #Obteniendo la solución.\n",
    "    solucion = rutas.SolveWithParameters(parametros_busqueda) #Se obtiene la solución.\n",
    "\n",
    "    #Imprimiendo la solución.\n",
    "    if solucion:\n",
    "        imprimir_solucion(datos, route_manager, rutas, solucion) #Se imprime la solución.\n",
    "    else:\n",
    "        print('No se pudo obtener una solución.') #Se imprime que no se pudo obtener una solución."
   ],
   "metadata": {
    "collapsed": false,
    "pycharm": {
     "name": "#%%\n"
    }
   }
  },
  {
   "cell_type": "code",
   "execution_count": 72,
   "outputs": [
    {
     "name": "stdout",
     "output_type": "stream",
     "text": [
      "<class 'ortools.constraint_solver.pywrapcp.RoutingModel'>\n",
      "Objetivo: 5220\n",
      "Nodos eliminados: 2\n",
      "Ruta para el vehiculo 1:\n",
      "0 paquetes(0) ->4 paquetes(2) ->3 paquetes(3) -> 0 paquetes(3)\n",
      "Distancia de la ruta: 2104 m\n",
      "Paquetes entregados: 3 (paquetes)\n",
      "\n",
      "Ruta para el vehiculo 2:\n",
      "0 paquetes(0) -> 0 paquetes(0)\n",
      "Distancia de la ruta: 0 m\n",
      "Paquetes entregados: 0 (paquetes)\n",
      "\n",
      "Ruta para el vehiculo 3:\n",
      "0 paquetes(0) ->1 paquetes(1) -> 0 paquetes(1)\n",
      "Distancia de la ruta: 1000 m\n",
      "Paquetes entregados: 1 (paquetes)\n",
      "\n",
      "Ruta para el vehiculo 4:\n",
      "0 paquetes(0) ->5 paquetes(1) ->6 paquetes(3) -> 0 paquetes(3)\n",
      "Distancia de la ruta: 1116 m\n",
      "Paquetes entregados: 3 (paquetes)\n",
      "\n",
      "Distancia total: 4220 m\n",
      "Paquetes entregados: 7 (paquetes)\n"
     ]
    }
   ],
   "source": [
    "if __name__ == '__main__':\n",
    "    main() #Se ejecuta la función principal."
   ],
   "metadata": {
    "collapsed": false,
    "pycharm": {
     "name": "#%%\n"
    }
   }
  },
  {
   "cell_type": "code",
   "execution_count": null,
   "outputs": [],
   "source": [],
   "metadata": {
    "collapsed": false,
    "pycharm": {
     "name": "#%%\n"
    }
   }
  }
 ],
 "metadata": {
  "kernelspec": {
   "display_name": "Python 3",
   "language": "python",
   "name": "python3"
  },
  "language_info": {
   "codemirror_mode": {
    "name": "ipython",
    "version": 2
   },
   "file_extension": ".py",
   "mimetype": "text/x-python",
   "name": "python",
   "nbconvert_exporter": "python",
   "pygments_lexer": "ipython2",
   "version": "2.7.6"
  }
 },
 "nbformat": 4,
 "nbformat_minor": 0
}
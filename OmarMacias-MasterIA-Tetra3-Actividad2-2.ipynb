{
 "cells": [
  {
   "cell_type": "markdown",
   "source": [
    "## Tetramestre 3 Semana 2 - Actividad 2 - Ejercicio 2\n",
    "\n",
    "__Pregunta 2 de la actividad__\n",
    "\n",
    "Utilizando un cuaderno de Jupyter Notebook y el lenguaje de programación Python, realiza las siguientes operaciones:\n",
    " * Genera dos vectores en  y represéntalos en un plano utilizando la librería Matplotlib.\n",
    " * Calcula el producto punto entre los vectores generados.\n",
    " * Calcula la longitud de ambos vectores.\n",
    " * Encuentra el ángulo que forman los vectores entre sí y genera un nuevo vector que sea ortogonal a cualquiera de los dos primeros."
   ],
   "metadata": {
    "collapsed": false,
    "pycharm": {
     "name": "#%% md\n"
    }
   }
  },
  {
   "cell_type": "code",
   "execution_count": 79,
   "outputs": [],
   "source": [
    "import numpy as np\n",
    "import matplotlib.pyplot as plt"
   ],
   "metadata": {
    "collapsed": false,
    "pycharm": {
     "name": "#%%\n"
    }
   }
  },
  {
   "cell_type": "markdown",
   "source": [
    " * Metodo para gráficar vectores tomado del material de apoyo proporcionado por el maestro en clase."
   ],
   "metadata": {
    "collapsed": false,
    "pycharm": {
     "name": "#%% md\n"
    }
   }
  },
  {
   "cell_type": "code",
   "execution_count": 80,
   "outputs": [],
   "source": [
    "def graficarVectores(vecs, cols, alpha = 1):\n",
    "  plt.figure()\n",
    "  plt.axvline(x = 0, color = \"grey\")\n",
    "  plt.axhline(y = 0, color = \"grey\")\n",
    "\n",
    "  for i in range(len(vecs)):\n",
    "        x = np.concatenate([[0,0], vecs[i]])\n",
    "        plt.quiver([x[0]],\n",
    "                   [x[1]],\n",
    "                   [x[2]],\n",
    "                   [x[3]],\n",
    "                  angles='xy', scale_units='xy', scale=1,\n",
    "                   color=cols[i],\n",
    "                  alpha = alpha)"
   ],
   "metadata": {
    "collapsed": false,
    "pycharm": {
     "name": "#%%\n"
    }
   }
  },
  {
   "cell_type": "markdown",
   "source": [
    "__Generación de dos vectores y representación en un plano con matplotlib__"
   ],
   "metadata": {
    "collapsed": false,
    "pycharm": {
     "name": "#%% md\n"
    }
   }
  },
  {
   "cell_type": "code",
   "execution_count": 81,
   "outputs": [
    {
     "data": {
      "text/plain": "(-1.0, 12.0)"
     },
     "execution_count": 81,
     "metadata": {},
     "output_type": "execute_result"
    },
    {
     "data": {
      "text/plain": "<Figure size 432x288 with 1 Axes>",
      "image/png": "[encoded data removed]"
     },
     "metadata": {
      "needs_background": "light"
     },
     "output_type": "display_data"
    }
   ],
   "source": [
    "x = np.array([2,6])\n",
    "y = np.array([4,10])\n",
    "graficarVectores([x,y], [\"red\", \"blue\"])\n",
    "plt.xlim(-1, 12)\n",
    "plt.ylim(-1, 12)"
   ],
   "metadata": {
    "collapsed": false,
    "pycharm": {
     "name": "#%%\n"
    }
   }
  },
  {
   "cell_type": "markdown",
   "source": [
    "__Calculando el producto punto de estos vectores__"
   ],
   "metadata": {
    "collapsed": false,
    "pycharm": {
     "name": "#%% md\n"
    }
   }
  },
  {
   "cell_type": "code",
   "execution_count": 82,
   "outputs": [
    {
     "name": "stdout",
     "output_type": "stream",
     "text": [
      "El producto punto entre los vectores es:  68\n"
     ]
    }
   ],
   "source": [
    "prod_punto = np.dot(x,y)\n",
    "print(\"El producto punto entre los vectores es: \", prod_punto)"
   ],
   "metadata": {
    "collapsed": false,
    "pycharm": {
     "name": "#%%\n"
    }
   }
  },
  {
   "cell_type": "markdown",
   "source": [
    "__Calculando la longitud (norma) de los vectores__"
   ],
   "metadata": {
    "collapsed": false,
    "pycharm": {
     "name": "#%% md\n"
    }
   }
  },
  {
   "cell_type": "code",
   "execution_count": 83,
   "outputs": [
    {
     "name": "stdout",
     "output_type": "stream",
     "text": [
      "La norma del vector x es:  6.324555320336759\n",
      "La norma del vector y es:  10.770329614269007\n"
     ]
    }
   ],
   "source": [
    "norma_x = np.linalg.norm(x, ord=2)\n",
    "norma_y = np.linalg.norm(y, ord=2)\n",
    "print(\"La norma del vector x es: \", norma_x)\n",
    "print(\"La norma del vector y es: \", norma_y)"
   ],
   "metadata": {
    "collapsed": false,
    "pycharm": {
     "name": "#%%\n"
    }
   }
  },
  {
   "cell_type": "markdown",
   "source": [
    "__Encontrando el angulo entre los vectores y un vector ortogonal a vector x__\n",
    "* Para esta parte se tomó como regerencia la implementación de la fórmula proporcionada en el notebook de la práctica del tema 3."
   ],
   "metadata": {
    "collapsed": false,
    "pycharm": {
     "name": "#%% md\n"
    }
   }
  },
  {
   "cell_type": "code",
   "execution_count": 84,
   "outputs": [
    {
     "name": "stdout",
     "output_type": "stream",
     "text": [
      "El ángulo entre los vectores es:  3.36646066342994\n"
     ]
    }
   ],
   "source": [
    "x_vstack = np.vstack(x)\n",
    "y_vstack = np.vstack(y)\n",
    "\n",
    "cosAngle = np.dot(x_vstack.T, y_vstack)/np.sqrt(np.dot(np.dot(x_vstack.T, x_vstack), np.dot(y_vstack.T, y_vstack)))[0][0]\n",
    "angle = np.arccos(cosAngle[0][0]) * (180 / np.pi)\n",
    "print(\"El ángulo entre los vectores es: \", angle)"
   ],
   "metadata": {
    "collapsed": false,
    "pycharm": {
     "name": "#%%\n"
    }
   }
  },
  {
   "cell_type": "markdown",
   "source": [
    "__Obtener un vector ortogonal al vector x__\n",
    "* Para este caso se tomó como referencia la respuesta de la duda presentada en stack overflow donde se explica como se obtiene esto en la siguiente dirección: [generating two orthogonal vectors that are orthogonal to a particular direction](https://stackoverflow.com/questions/33658620/generating-two-orthogonal-vectors-that-are-orthogonal-to-a-particular-direction)\n",
    "* En esta respuesta se comenta que se usó el proceso de Gram-Schmidt con la fórmula de la siguiente dirección: [Fórmula usada para obtener un vector ortogonal a otro a partir de uno generado](https://i.stack.imgur.com/hLiF3.gif)"
   ],
   "metadata": {
    "collapsed": false,
    "pycharm": {
     "name": "#%% md\n"
    }
   }
  },
  {
   "cell_type": "code",
   "execution_count": 85,
   "outputs": [
    {
     "name": "stdout",
     "output_type": "stream",
     "text": [
      "El vector ortogonal a x es:\n",
      " [ 4.8 -1.6]\n"
     ]
    },
    {
     "data": {
      "text/plain": "(-10.0, 12.0)"
     },
     "execution_count": 85,
     "metadata": {},
     "output_type": "execute_result"
    },
    {
     "data": {
      "text/plain": "<Figure size 432x288 with 1 Axes>",
      "image/png": "[encoded data removed]"
     },
     "metadata": {
      "needs_background": "light"
     },
     "output_type": "display_data"
    }
   ],
   "source": [
    "z_ortogonal = np.array([12,20])\n",
    "z_ortogonal = z_ortogonal-(z_ortogonal.dot(x) * x / np.linalg.norm(x)**2)\n",
    "print(\"El vector ortogonal a x es:\\n\",z_ortogonal)\n",
    "graficarVectores([x,z_ortogonal], [\"blue\", \"yellow\"])\n",
    "plt.xlim(-10, 12)\n",
    "plt.ylim(-10, 12)"
   ],
   "metadata": {
    "collapsed": false,
    "pycharm": {
     "name": "#%%\n"
    }
   }
  }
 ],
 "metadata": {
  "kernelspec": {
   "display_name": "Python 3",
   "language": "python",
   "name": "python3"
  },
  "language_info": {
   "codemirror_mode": {
    "name": "ipython",
    "version": 2
   },
   "file_extension": ".py",
   "mimetype": "text/x-python",
   "name": "python",
   "nbconvert_exporter": "python",
   "pygments_lexer": "ipython2",
   "version": "2.7.6"
  }
 },
 "nbformat": 4,
 "nbformat_minor": 0
}
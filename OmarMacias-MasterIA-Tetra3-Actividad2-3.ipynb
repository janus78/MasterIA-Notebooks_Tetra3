{
 "cells": [
  {
   "cell_type": "markdown",
   "source": [
    "## Tetramestre 3 Semana 2 - Actividad 2 - Ejercicio 3\n",
    "\n",
    "Sea el vector base b = [5,3] que genera el subespacio unidimensional U subconjunto de R^2. Encuentra el valor de la coordenada lambda, la proyección , y la matriz P para proyectar sobre el subespacio U el vector x = [-2, 7] Utiliza un cuaderno de Jupyter Notebook para elaborar tu respuesta."
   ],
   "metadata": {
    "collapsed": false,
    "pycharm": {
     "name": "#%% md\n"
    }
   }
  },
  {
   "cell_type": "markdown",
   "source": [
    "Importando las librerias necesarias usando como base el notebook presentado en la práctica de clase"
   ],
   "metadata": {
    "collapsed": false,
    "pycharm": {
     "name": "#%% md\n"
    }
   }
  },
  {
   "cell_type": "code",
   "execution_count": 1,
   "outputs": [],
   "source": [
    "import numpy as np\n",
    "import numpy.linalg as npl\n",
    "import matplotlib.pyplot as plt\n",
    "scale = 20\n",
    "origin2D = np.vstack([0,0])"
   ],
   "metadata": {
    "collapsed": false,
    "pycharm": {
     "name": "#%%\n"
    }
   }
  },
  {
   "cell_type": "markdown",
   "source": [
    "Definiendo los arreglos iniciales"
   ],
   "metadata": {
    "collapsed": false,
    "pycharm": {
     "name": "#%% md\n"
    }
   }
  },
  {
   "cell_type": "code",
   "execution_count": 3,
   "outputs": [
    {
     "name": "stdout",
     "output_type": "stream",
     "text": [
      "b:\n",
      " [[5]\n",
      " [3]]\n",
      "x:\n",
      " [[-2]\n",
      " [ 7]]\n"
     ]
    }
   ],
   "source": [
    "b = np.vstack([5,3])\n",
    "x = np.vstack([-2,7])\n",
    "print('b:\\n', b)\n",
    "print('x:\\n', x)"
   ],
   "metadata": {
    "collapsed": false,
    "pycharm": {
     "name": "#%%\n"
    }
   }
  },
  {
   "cell_type": "markdown",
   "source": [
    "Obteniendo lambda y el vector proyectado"
   ],
   "metadata": {
    "collapsed": false,
    "pycharm": {
     "name": "#%% md\n"
    }
   }
  },
  {
   "cell_type": "code",
   "execution_count": 4,
   "outputs": [
    {
     "name": "stdout",
     "output_type": "stream",
     "text": [
      "lambda:\n",
      " [[0.32352941]]\n"
     ]
    }
   ],
   "source": [
    "lambda_ = np.dot(b.T,x)/npl.norm(b)**2\n",
    "print('lambda:\\n', lambda_)"
   ],
   "metadata": {
    "collapsed": false,
    "pycharm": {
     "name": "#%%\n"
    }
   }
  },
  {
   "cell_type": "code",
   "execution_count": 5,
   "outputs": [
    {
     "name": "stdout",
     "output_type": "stream",
     "text": [
      "vector proyectado:\n",
      " [[1.61764706]\n",
      " [0.97058824]]\n"
     ]
    }
   ],
   "source": [
    "vector_proyectado = lambda_*b\n",
    "print('vector proyectado:\\n', vector_proyectado)"
   ],
   "metadata": {
    "collapsed": false,
    "pycharm": {
     "name": "#%%\n"
    }
   }
  },
  {
   "cell_type": "markdown",
   "source": [
    "Obteniendo la matriz P de proyección"
   ],
   "metadata": {
    "collapsed": false,
    "pycharm": {
     "name": "#%% md\n"
    }
   }
  },
  {
   "cell_type": "code",
   "execution_count": 6,
   "outputs": [
    {
     "name": "stdout",
     "output_type": "stream",
     "text": [
      "matriz P:\n",
      " [[0.73529412 0.44117647]\n",
      " [0.44117647 0.26470588]]\n"
     ]
    }
   ],
   "source": [
    "matriz_P = np.dot(b,b.T)/npl.norm(b)**2\n",
    "print('matriz P:\\n', matriz_P)"
   ],
   "metadata": {
    "collapsed": false,
    "pycharm": {
     "name": "#%%\n"
    }
   }
  },
  {
   "cell_type": "markdown",
   "source": [
    "Usando la matriz P para proyectar el vector x sobre el subespacio U"
   ],
   "metadata": {
    "collapsed": false,
    "pycharm": {
     "name": "#%% md\n"
    }
   }
  },
  {
   "cell_type": "code",
   "execution_count": 9,
   "outputs": [
    {
     "name": "stdout",
     "output_type": "stream",
     "text": [
      "vector proyectado usando P:\n",
      " [[1.61764706]\n",
      " [0.97058824]]\n"
     ]
    }
   ],
   "source": [
    "vector_proyectado = np.dot(matriz_P,x)\n",
    "print('vector proyectado usando P:\\n', vector_proyectado)"
   ],
   "metadata": {
    "collapsed": false,
    "pycharm": {
     "name": "#%%\n"
    }
   }
  },
  {
   "cell_type": "markdown",
   "source": [
    "Comprobando con gráfica la proyección, se toma como base de apoyo para la gráfica el código proporcionado en la actividad de clase"
   ],
   "metadata": {
    "collapsed": false,
    "pycharm": {
     "name": "#%% md\n"
    }
   }
  },
  {
   "cell_type": "code",
   "execution_count": 16,
   "outputs": [
    {
     "data": {
      "text/plain": "<matplotlib.legend.Legend at 0x242ec95faf0>"
     },
     "execution_count": 16,
     "metadata": {},
     "output_type": "execute_result"
    },
    {
     "data": {
      "text/plain": "<Figure size 432x288 with 1 Axes>",
      "image/png": "[encoded data removed]"
     },
     "metadata": {
      "needs_background": "light"
     },
     "output_type": "display_data"
    }
   ],
   "source": [
    "fig = plt.figure()\n",
    "ax = fig.add_subplot(111)\n",
    "plt.xlim(-2,4)\n",
    "plt.ylim(-1,4)\n",
    "\n",
    "plt.quiver(*origin2D, *b, scale=scale, color='k', width=0.01)\n",
    "plt.quiver(*origin2D, *vector_proyectado, scale=scale, color='orange', width=0.01)\n",
    "plt.quiver(*origin2D, *x, scale=scale, color='r')\n",
    "ax.set_aspect('equal', adjustable='box')\n",
    "plt.legend(['b', r'$\\pi_U(x)$', 'x'])"
   ],
   "metadata": {
    "collapsed": false,
    "pycharm": {
     "name": "#%%\n"
    }
   }
  }
 ],
 "metadata": {
  "kernelspec": {
   "display_name": "Python 3",
   "language": "python",
   "name": "python3"
  },
  "language_info": {
   "codemirror_mode": {
    "name": "ipython",
    "version": 2
   },
   "file_extension": ".py",
   "mimetype": "text/x-python",
   "name": "python",
   "nbconvert_exporter": "python",
   "pygments_lexer": "ipython2",
   "version": "2.7.6"
  }
 },
 "nbformat": 4,
 "nbformat_minor": 0
}
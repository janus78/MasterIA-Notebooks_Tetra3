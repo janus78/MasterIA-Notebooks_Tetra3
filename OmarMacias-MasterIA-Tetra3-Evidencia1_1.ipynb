{
 "cells": [
  {
   "cell_type": "markdown",
   "source": [
    "## Evidencia 1 - Pregunta 1- Resolver sistemas de ecuaciones\n",
    "\n",
    "Resuelve las siguientes ecuaciones lineales:\n",
    "* a. $$8x + 5y + 3z - 6w = 41$$\n",
    "$$15x - 3y + 4z + 7w = 13$$\n",
    "$$x + 6y - 2z + w = -12$$\n",
    "$$-2x + y + 7z - 3w = 0$$\n",
    "* b. $$x + 4z = 14$$\n",
    "$$5x + 3y + 2z = 25$$\n",
    "$$3x + 4y = -12$$"
   ],
   "metadata": {
    "collapsed": false,
    "pycharm": {
     "name": "#%% md\n"
    }
   }
  },
  {
   "cell_type": "code",
   "execution_count": 1,
   "outputs": [],
   "source": [
    "import numpy as np"
   ],
   "metadata": {
    "collapsed": false,
    "pycharm": {
     "name": "#%%\n"
    }
   }
  },
  {
   "cell_type": "markdown",
   "source": [
    "**Para el sistema de ecuaciones a. se crea la matriz de coeficientes y la matriz de resultados:**"
   ],
   "metadata": {
    "collapsed": false,
    "pycharm": {
     "name": "#%% md\n"
    }
   }
  },
  {
   "cell_type": "code",
   "execution_count": 4,
   "outputs": [
    {
     "name": "stdout",
     "output_type": "stream",
     "text": [
      "La matriz de coeficientes es:\n",
      " [[ 8  5  3 -6]\n",
      " [15 -3  4  7]\n",
      " [ 1  6 -2  1]\n",
      " [-2  1  7 -3]]\n",
      "La matriz de resultados es:\n",
      " [ 41  13 -12   0]\n"
     ]
    }
   ],
   "source": [
    "matriz_a = np.array([[8, 5, 3, -6], [15, -3, 4, 7], [1, 6, -2, 1], [-2, 1, 7, -3]])\n",
    "print(\"La matriz de coeficientes A es:\\n\",matriz_a)\n",
    "matriz_a_resultados = np.array([41, 13, -12, 0])\n",
    "print(\"La matriz de resultados A es:\\n\",matriz_a_resultados)"
   ],
   "metadata": {
    "collapsed": false,
    "pycharm": {
     "name": "#%%\n"
    }
   }
  },
  {
   "cell_type": "markdown",
   "source": [
    "**Se obtienen las soluciones usando el método solve de la librería numpy:**"
   ],
   "metadata": {
    "collapsed": false,
    "pycharm": {
     "name": "#%% md\n"
    }
   }
  },
  {
   "cell_type": "code",
   "execution_count": 5,
   "outputs": [
    {
     "name": "stdout",
     "output_type": "stream",
     "text": [
      "Las soluciones del sistema de ecuaciones a son:\n",
      " [ 3.03126383 -2.00339183 -0.96681905 -4.94455095]\n"
     ]
    }
   ],
   "source": [
    "soluciones_a = np.linalg.solve(matriz_a, matriz_a_resultados)\n",
    "print(\"Las soluciones del sistema de ecuaciones A son:\\n\",soluciones_a)"
   ],
   "metadata": {
    "collapsed": false,
    "pycharm": {
     "name": "#%%\n"
    }
   }
  },
  {
   "cell_type": "markdown",
   "source": [
    "**Para el sistema de ecuaciones b. se crea la matriz de coeficientes y la matriz de resultados:**"
   ],
   "metadata": {
    "collapsed": false,
    "pycharm": {
     "name": "#%% md\n"
    }
   }
  },
  {
   "cell_type": "code",
   "execution_count": 7,
   "outputs": [
    {
     "name": "stdout",
     "output_type": "stream",
     "text": [
      "La matriz de coeficientes B es:\n",
      " [[1 0 4]\n",
      " [5 3 2]\n",
      " [3 4 0]]\n",
      "La matriz de resultados B es:\n",
      " [ 14  25 -12]\n"
     ]
    }
   ],
   "source": [
    "matriz_b = np.array([[1, 0, 4], [5, 3, 2], [3, 4, 0]])\n",
    "print(\"La matriz de coeficientes B es:\\n\",matriz_b)\n",
    "matriz_b_resultados = np.array([14, 25, -12])\n",
    "print(\"La matriz de resultados B es:\\n\",matriz_b_resultados)"
   ],
   "metadata": {
    "collapsed": false,
    "pycharm": {
     "name": "#%%\n"
    }
   }
  },
  {
   "cell_type": "markdown",
   "source": [
    "**Se obtienen las soluciones usando el método solve de la librería numpy:**"
   ],
   "metadata": {
    "collapsed": false,
    "pycharm": {
     "name": "#%% md\n"
    }
   }
  },
  {
   "cell_type": "code",
   "execution_count": 8,
   "outputs": [
    {
     "name": "stdout",
     "output_type": "stream",
     "text": [
      "Las soluciones del sistema de ecuaciones B son:\n",
      " [ 12.  -12.    0.5]\n"
     ]
    }
   ],
   "source": [
    "soluciones_b = np.linalg.solve(matriz_b, matriz_b_resultados)\n",
    "print(\"Las soluciones del sistema de ecuaciones B son:\\n\",soluciones_b)"
   ],
   "metadata": {
    "collapsed": false,
    "pycharm": {
     "name": "#%%\n"
    }
   }
  }
 ],
 "metadata": {
  "kernelspec": {
   "display_name": "Python 3",
   "language": "python",
   "name": "python3"
  },
  "language_info": {
   "codemirror_mode": {
    "name": "ipython",
    "version": 2
   },
   "file_extension": ".py",
   "mimetype": "text/x-python",
   "name": "python",
   "nbconvert_exporter": "python",
   "pygments_lexer": "ipython2",
   "version": "2.7.6"
  }
 },
 "nbformat": 4,
 "nbformat_minor": 0
}
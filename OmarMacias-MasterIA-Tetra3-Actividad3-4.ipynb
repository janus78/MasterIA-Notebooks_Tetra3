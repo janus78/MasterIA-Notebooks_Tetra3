{
 "cells": [
  {
   "cell_type": "markdown",
   "source": [
    "## Actividad Semana 3 - Pregunta 4\n",
    "**Pregunta 4**\n",
    "Los dispositivos electrónicos que se construían a base de transistores en la década de 1990 presentaban dos tipos de fallas principales: la fuente de alimentación y el circuito principal (tarjeta principal). Según las estadísticas de esa época un taller promedio recibía de manera mensual un 30% de equipos con afectaciones en la fuente de alimentación y la efectividad de la reparación de un equipo era de un 75% si la falla estaba localizada en el circuito principal y de un 20% si el defecto se encontraba en la fuente.\n",
    "\n",
    "Calcule la probabilidad de que un equipo que no tuviera reparación hubiera ingresado al taller por problemas en la tarjeta principal."
   ],
   "metadata": {
    "collapsed": false,
    "pycharm": {
     "name": "#%% md\n"
    }
   }
  },
  {
   "cell_type": "markdown",
   "source": [
    "Obtenemos las variables conocidas del problema:"
   ],
   "metadata": {
    "collapsed": false,
    "pycharm": {
     "name": "#%% md\n"
    }
   }
  },
  {
   "cell_type": "code",
   "execution_count": 1,
   "outputs": [],
   "source": [
    "Pfc = 0.7 # Probabilidad de falla en la tarjeta principal\n",
    "Pff = 0.3 # Probabilidad de falla en la fuente de alimentación\n",
    "Psfc = 0.75 # Probabilidad de reparación en la tarjeta principal\n",
    "Psff = 0.2 # Probabilidad de reparación en la fuente de alimentación\n",
    "Pnsfc = 0.25 # Probabilidad de no reparación en la tarjeta principal\n",
    "Pnsff = 0.8 # Probabilidad de no reparación en la fuente de alimentación"
   ],
   "metadata": {
    "collapsed": false,
    "pycharm": {
     "name": "#%%\n"
    }
   }
  },
  {
   "cell_type": "markdown",
   "source": [
    "Se calcula la probabilidad de fallas totales:"
   ],
   "metadata": {
    "collapsed": false,
    "pycharm": {
     "name": "#%% md\n"
    }
   }
  },
  {
   "cell_type": "code",
   "execution_count": 2,
   "outputs": [
    {
     "name": "stdout",
     "output_type": "stream",
     "text": [
      "Pft = 0.415\n"
     ]
    }
   ],
   "source": [
    "Pft = Pff * Pnsff + Pfc * Pnsfc\n",
    "print(\"Pft =\", Pft)"
   ],
   "metadata": {
    "collapsed": false,
    "pycharm": {
     "name": "#%%\n"
    }
   }
  },
  {
   "cell_type": "markdown",
   "source": [
    "Se calcula la probabilidad de que no hay reparación si la falla es en la tarjeta principal:"
   ],
   "metadata": {
    "collapsed": false,
    "pycharm": {
     "name": "#%% md\n"
    }
   }
  },
  {
   "cell_type": "code",
   "execution_count": 4,
   "outputs": [
    {
     "name": "stdout",
     "output_type": "stream",
     "text": [
      "Pfcns = 0.4216867469879518\n",
      "Pfcns = 42.16867469879518 %\n"
     ]
    }
   ],
   "source": [
    "Pfcns = Pfc * Pnsfc / Pft\n",
    "print(\"Pfcns =\", Pfcns)\n",
    "print(\"Pfcns =\", Pfcns * 100, \"%\")"
   ],
   "metadata": {
    "collapsed": false,
    "pycharm": {
     "name": "#%%\n"
    }
   }
  },
  {
   "cell_type": "code",
   "execution_count": null,
   "outputs": [],
   "source": [],
   "metadata": {
    "collapsed": false,
    "pycharm": {
     "name": "#%%\n"
    }
   }
  }
 ],
 "metadata": {
  "kernelspec": {
   "display_name": "Python 3",
   "language": "python",
   "name": "python3"
  },
  "language_info": {
   "codemirror_mode": {
    "name": "ipython",
    "version": 2
   },
   "file_extension": ".py",
   "mimetype": "text/x-python",
   "name": "python",
   "nbconvert_exporter": "python",
   "pygments_lexer": "ipython2",
   "version": "2.7.6"
  }
 },
 "nbformat": 4,
 "nbformat_minor": 0
}
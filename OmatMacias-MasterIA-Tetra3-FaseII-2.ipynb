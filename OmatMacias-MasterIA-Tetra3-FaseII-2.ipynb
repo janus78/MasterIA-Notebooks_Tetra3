{
 "cells": [
  {
   "cell_type": "markdown",
   "source": [
    "## FASE II\n",
    "\n",
    "Se presenta a continuación el desarrollo de la actividad correspondiente a la fase II.\n",
    "\n",
    "Considera que cada producto que se encuentra en el almacén central, además de ser identificado por el tipo de embalaje, también posee como propiedad sus dimensiones (largo, ancho y altura con un máximo de 100,0 cm y un mínimo de 5,0 cm en cada dimensión), peso (kg), el tipo de manipulación que requiere (frágil, normal), lugar de procedencia (A, B, C, D) y temperatura de almacenamiento (ambiente, refrigerado).\n",
    "\n",
    "Si el vehículo autónomo tiene integrados dos protocolos de manipulación de carga (Protocolo_1 y Protocolo_2), realiza las siguientes operaciones:\n",
    "1. Genera un conjunto de datos de prueba (mínimo 10,000 muestras), considerando los criterios antes indicados y teniendo en cuenta tu experiencia personal, donde, a partir del análisis de la información del producto, estos puedan ser catalogados dentro los protocolos disponibles.\n",
    "\n",
    "2. Construye un modelo de aprendizaje automático supervisado a partir del conjunto de datos elaborado, que sea capaz de determinar el tipo de protocolo que debe seguir el vehículo al manipular un producto cualquiera en el trayecto del almacén a la zona de manufactura."
   ],
   "metadata": {
    "collapsed": false,
    "pycharm": {
     "name": "#%% md\n"
    }
   }
  },
  {
   "cell_type": "markdown",
   "source": [
    "Importamos las librerías requeridas para ejecutar los requerimientos de los puntos anteriores.* La librería \"svd\" se encontró en un tutorial de internet relacionado a la generación de datos sintéticos.\n",
    "[Top 3 Python Packages for Generating Synthetic Data](https://towardsdatascience.com/top-3-python-packages-to-generate-synthetic-data-33a351a5de0c)\n",
    "* Para esta generación de datos se requiere una pequeña muestra con datos de ejemplo así que se generó un archivo csv llamado \"paquetes_fase_II.csv\" con una muestra de 10 registros que usa la librería svd para generar los datos sintéticos de 10000."
   ],
   "metadata": {
    "collapsed": false,
    "pycharm": {
     "name": "#%% md\n"
    }
   }
  },
  {
   "cell_type": "code",
   "execution_count": 1,
   "outputs": [],
   "source": [
    "from sdv.tabular import GaussianCopula #Librería usada para apoyar la creación de datos sintéticos.\n",
    "import pandas as pd\n",
    "from sklearn.preprocessing import OrdinalEncoder\n",
    "from sklearn.model_selection import train_test_split\n",
    "from sklearn.linear_model import Perceptron\n",
    "from sklearn import metrics\n",
    "import numpy as np"
   ],
   "metadata": {
    "collapsed": false,
    "pycharm": {
     "name": "#%%\n"
    }
   }
  },
  {
   "cell_type": "code",
   "execution_count": 2,
   "outputs": [
    {
     "data": {
      "text/plain": "  Embalaje  Ancho(cm)  Largo(cm)  Alto(cm) Procedencia Manipulacion  \\\n0        A         35         40        50           A       normal   \n1        B         80         70        60           B       fragil   \n2        C          5          8         4           C       fragil   \n3        A         25         16        24           B       normal   \n4        C         12         21         5           A       fragil   \n\n   Temperatura    Protocolo  \n0     ambiente  protocolo_1  \n1  refrigerado  protocolo_2  \n2     ambiente  protocolo_2  \n3     ambiente  protocolo_1  \n4  refrigerado  protocolo_1  ",
      "text/html": "<div>\n<style scoped>\n    .dataframe tbody tr th:only-of-type {\n        vertical-align: middle;\n    }\n\n    .dataframe tbody tr th {\n        vertical-align: top;\n    }\n\n    .dataframe thead th {\n        text-align: right;\n    }\n</style>\n<table border=\"1\" class=\"dataframe\">\n  <thead>\n    <tr style=\"text-align: right;\">\n      <th></th>\n      <th>Embalaje</th>\n      <th>Ancho(cm)</th>\n      <th>Largo(cm)</th>\n      <th>Alto(cm)</th>\n      <th>Procedencia</th>\n      <th>Manipulacion</th>\n      <th>Temperatura</th>\n      <th>Protocolo</th>\n    </tr>\n  </thead>\n  <tbody>\n    <tr>\n      <th>0</th>\n      <td>A</td>\n      <td>35</td>\n      <td>40</td>\n      <td>50</td>\n      <td>A</td>\n      <td>normal</td>\n      <td>ambiente</td>\n      <td>protocolo_1</td>\n    </tr>\n    <tr>\n      <th>1</th>\n      <td>B</td>\n      <td>80</td>\n      <td>70</td>\n      <td>60</td>\n      <td>B</td>\n      <td>fragil</td>\n      <td>refrigerado</td>\n      <td>protocolo_2</td>\n    </tr>\n    <tr>\n      <th>2</th>\n      <td>C</td>\n      <td>5</td>\n      <td>8</td>\n      <td>4</td>\n      <td>C</td>\n      <td>fragil</td>\n      <td>ambiente</td>\n      <td>protocolo_2</td>\n    </tr>\n    <tr>\n      <th>3</th>\n      <td>A</td>\n      <td>25</td>\n      <td>16</td>\n      <td>24</td>\n      <td>B</td>\n      <td>normal</td>\n      <td>ambiente</td>\n      <td>protocolo_1</td>\n    </tr>\n    <tr>\n      <th>4</th>\n      <td>C</td>\n      <td>12</td>\n      <td>21</td>\n      <td>5</td>\n      <td>A</td>\n      <td>fragil</td>\n      <td>refrigerado</td>\n      <td>protocolo_1</td>\n    </tr>\n  </tbody>\n</table>\n</div>"
     },
     "execution_count": 2,
     "metadata": {},
     "output_type": "execute_result"
    }
   ],
   "source": [
    "data = pd.read_csv('https://raw.githubusercontent.com/janus78/MasterIA-Notebooks_Tetra3/master/paquetes_fase_II.csv')\n",
    "data.head()"
   ],
   "metadata": {
    "collapsed": false,
    "pycharm": {
     "name": "#%%\n"
    }
   }
  },
  {
   "cell_type": "code",
   "execution_count": 3,
   "outputs": [],
   "source": [
    "model = GaussianCopula() #Se crea una instancia de la librería \"GaussianCopula\" para generar datos sintéticos.\n",
    "model.fit(data) #Se entrena el modelo con los datos de ejemplo."
   ],
   "metadata": {
    "collapsed": false,
    "pycharm": {
     "name": "#%%\n"
    }
   }
  },
  {
   "cell_type": "code",
   "execution_count": 4,
   "outputs": [
    {
     "data": {
      "text/plain": "  Embalaje  Ancho(cm)  Largo(cm)  Alto(cm) Procedencia Manipulacion  \\\n0        C         23         16        11           C       fragil   \n1        C         27          9         5           B       fragil   \n2        C         79         68        66           B       normal   \n3        B         13         19        21           C       fragil   \n4        B         66         53        45           A       normal   \n\n   Temperatura    Protocolo  \n0  refrigerado  protocolo_1  \n1  refrigerado  protocolo_1  \n2  refrigerado  protocolo_2  \n3     ambiente  protocolo_2  \n4  refrigerado  protocolo_2  ",
      "text/html": "<div>\n<style scoped>\n    .dataframe tbody tr th:only-of-type {\n        vertical-align: middle;\n    }\n\n    .dataframe tbody tr th {\n        vertical-align: top;\n    }\n\n    .dataframe thead th {\n        text-align: right;\n    }\n</style>\n<table border=\"1\" class=\"dataframe\">\n  <thead>\n    <tr style=\"text-align: right;\">\n      <th></th>\n      <th>Embalaje</th>\n      <th>Ancho(cm)</th>\n      <th>Largo(cm)</th>\n      <th>Alto(cm)</th>\n      <th>Procedencia</th>\n      <th>Manipulacion</th>\n      <th>Temperatura</th>\n      <th>Protocolo</th>\n    </tr>\n  </thead>\n  <tbody>\n    <tr>\n      <th>0</th>\n      <td>C</td>\n      <td>23</td>\n      <td>16</td>\n      <td>11</td>\n      <td>C</td>\n      <td>fragil</td>\n      <td>refrigerado</td>\n      <td>protocolo_1</td>\n    </tr>\n    <tr>\n      <th>1</th>\n      <td>C</td>\n      <td>27</td>\n      <td>9</td>\n      <td>5</td>\n      <td>B</td>\n      <td>fragil</td>\n      <td>refrigerado</td>\n      <td>protocolo_1</td>\n    </tr>\n    <tr>\n      <th>2</th>\n      <td>C</td>\n      <td>79</td>\n      <td>68</td>\n      <td>66</td>\n      <td>B</td>\n      <td>normal</td>\n      <td>refrigerado</td>\n      <td>protocolo_2</td>\n    </tr>\n    <tr>\n      <th>3</th>\n      <td>B</td>\n      <td>13</td>\n      <td>19</td>\n      <td>21</td>\n      <td>C</td>\n      <td>fragil</td>\n      <td>ambiente</td>\n      <td>protocolo_2</td>\n    </tr>\n    <tr>\n      <th>4</th>\n      <td>B</td>\n      <td>66</td>\n      <td>53</td>\n      <td>45</td>\n      <td>A</td>\n      <td>normal</td>\n      <td>refrigerado</td>\n      <td>protocolo_2</td>\n    </tr>\n  </tbody>\n</table>\n</div>"
     },
     "execution_count": 4,
     "metadata": {},
     "output_type": "execute_result"
    }
   ],
   "source": [
    "sample = model.sample(10000) #Se generan datos sintéticos, un total de 10000.\n",
    "sample.head() #Se muestran los primeros 5 registros."
   ],
   "metadata": {
    "collapsed": false,
    "pycharm": {
     "name": "#%%\n"
    }
   }
  },
  {
   "cell_type": "code",
   "execution_count": 5,
   "outputs": [
    {
     "name": "stdout",
     "output_type": "stream",
     "text": [
      "(10000, 8)\n",
      "Embalaje        0\n",
      "Ancho(cm)       0\n",
      "Largo(cm)       0\n",
      "Alto(cm)        0\n",
      "Procedencia     0\n",
      "Manipulacion    0\n",
      "Temperatura     0\n",
      "Protocolo       0\n",
      "dtype: int64\n"
     ]
    }
   ],
   "source": [
    "# se valida el tamaño de la muestra generada.\n",
    "print(sample.shape)\n",
    "print(sample.isna().sum()) #Se verifica que no haya nulos."
   ],
   "metadata": {
    "collapsed": false,
    "pycharm": {
     "name": "#%%\n"
    }
   }
  },
  {
   "cell_type": "code",
   "execution_count": 6,
   "outputs": [
    {
     "data": {
      "text/plain": "   metric                                     name  raw_score  \\\n0  CSTest                              Chi-Squared   0.931448   \n1  KSTest  Inverted Kolmogorov-Smirnov D statistic   0.819759   \n\n   normalized_score  min_value  max_value      goal error  \n0          0.931448        0.0        1.0  MAXIMIZE  None  \n1          0.819759        0.0        1.0  MAXIMIZE  None  ",
      "text/html": "<div>\n<style scoped>\n    .dataframe tbody tr th:only-of-type {\n        vertical-align: middle;\n    }\n\n    .dataframe tbody tr th {\n        vertical-align: top;\n    }\n\n    .dataframe thead th {\n        text-align: right;\n    }\n</style>\n<table border=\"1\" class=\"dataframe\">\n  <thead>\n    <tr style=\"text-align: right;\">\n      <th></th>\n      <th>metric</th>\n      <th>name</th>\n      <th>raw_score</th>\n      <th>normalized_score</th>\n      <th>min_value</th>\n      <th>max_value</th>\n      <th>goal</th>\n      <th>error</th>\n    </tr>\n  </thead>\n  <tbody>\n    <tr>\n      <th>0</th>\n      <td>CSTest</td>\n      <td>Chi-Squared</td>\n      <td>0.931448</td>\n      <td>0.931448</td>\n      <td>0.0</td>\n      <td>1.0</td>\n      <td>MAXIMIZE</td>\n      <td>None</td>\n    </tr>\n    <tr>\n      <th>1</th>\n      <td>KSTest</td>\n      <td>Inverted Kolmogorov-Smirnov D statistic</td>\n      <td>0.819759</td>\n      <td>0.819759</td>\n      <td>0.0</td>\n      <td>1.0</td>\n      <td>MAXIMIZE</td>\n      <td>None</td>\n    </tr>\n  </tbody>\n</table>\n</div>"
     },
     "execution_count": 6,
     "metadata": {},
     "output_type": "execute_result"
    }
   ],
   "source": [
    "from sdv.evaluation import evaluate #Librería usada para evaluar el modelo de generación de datos sintéticos.\n",
    "evaluate(sample, data, metrics=['CSTest', 'KSTest'], aggregate = False) #Se evalúa el modelo con los datos de ejemplo generados con la librería."
   ],
   "metadata": {
    "collapsed": false,
    "pycharm": {
     "name": "#%%\n"
    }
   }
  },
  {
   "cell_type": "markdown",
   "source": [
    "Podemos notar en las métricas mostradas en la celda anterior que la calidad de la generación de datos sintéticos muestra buenos valores en la calidad de los mismos con score entre el 80 y 90%.\n",
    "\n",
    "* A continuación se va a proceder a categorizar con enteros las columnas que tienen valores string ya que esto facilita la implementación del modelo de aprendizaje automático."
   ],
   "metadata": {
    "collapsed": false,
    "pycharm": {
     "name": "#%% md\n"
    }
   }
  },
  {
   "cell_type": "code",
   "execution_count": 7,
   "outputs": [
    {
     "data": {
      "text/plain": "  Embalaje  Ancho(cm)  Largo(cm)  Alto(cm) Procedencia Manipulacion  \\\n0        C         23         16        11           C       fragil   \n1        C         27          9         5           B       fragil   \n2        C         79         68        66           B       normal   \n3        B         13         19        21           C       fragil   \n4        B         66         53        45           A       normal   \n\n   Temperatura    Protocolo  Manipulacion_enc  Procedencia_enc  Embalaje_enc  \\\n0  refrigerado  protocolo_1               0.0              2.0           2.0   \n1  refrigerado  protocolo_1               0.0              1.0           2.0   \n2  refrigerado  protocolo_2               1.0              1.0           2.0   \n3     ambiente  protocolo_2               0.0              2.0           1.0   \n4  refrigerado  protocolo_2               1.0              0.0           1.0   \n\n   Temperatura_enc  Protocolo_enc  \n0              1.0            0.0  \n1              1.0            0.0  \n2              1.0            1.0  \n3              0.0            1.0  \n4              1.0            1.0  ",
      "text/html": "<div>\n<style scoped>\n    .dataframe tbody tr th:only-of-type {\n        vertical-align: middle;\n    }\n\n    .dataframe tbody tr th {\n        vertical-align: top;\n    }\n\n    .dataframe thead th {\n        text-align: right;\n    }\n</style>\n<table border=\"1\" class=\"dataframe\">\n  <thead>\n    <tr style=\"text-align: right;\">\n      <th></th>\n      <th>Embalaje</th>\n      <th>Ancho(cm)</th>\n      <th>Largo(cm)</th>\n      <th>Alto(cm)</th>\n      <th>Procedencia</th>\n      <th>Manipulacion</th>\n      <th>Temperatura</th>\n      <th>Protocolo</th>\n      <th>Manipulacion_enc</th>\n      <th>Procedencia_enc</th>\n      <th>Embalaje_enc</th>\n      <th>Temperatura_enc</th>\n      <th>Protocolo_enc</th>\n    </tr>\n  </thead>\n  <tbody>\n    <tr>\n      <th>0</th>\n      <td>C</td>\n      <td>23</td>\n      <td>16</td>\n      <td>11</td>\n      <td>C</td>\n      <td>fragil</td>\n      <td>refrigerado</td>\n      <td>protocolo_1</td>\n      <td>0.0</td>\n      <td>2.0</td>\n      <td>2.0</td>\n      <td>1.0</td>\n      <td>0.0</td>\n    </tr>\n    <tr>\n      <th>1</th>\n      <td>C</td>\n      <td>27</td>\n      <td>9</td>\n      <td>5</td>\n      <td>B</td>\n      <td>fragil</td>\n      <td>refrigerado</td>\n      <td>protocolo_1</td>\n      <td>0.0</td>\n      <td>1.0</td>\n      <td>2.0</td>\n      <td>1.0</td>\n      <td>0.0</td>\n    </tr>\n    <tr>\n      <th>2</th>\n      <td>C</td>\n      <td>79</td>\n      <td>68</td>\n      <td>66</td>\n      <td>B</td>\n      <td>normal</td>\n      <td>refrigerado</td>\n      <td>protocolo_2</td>\n      <td>1.0</td>\n      <td>1.0</td>\n      <td>2.0</td>\n      <td>1.0</td>\n      <td>1.0</td>\n    </tr>\n    <tr>\n      <th>3</th>\n      <td>B</td>\n      <td>13</td>\n      <td>19</td>\n      <td>21</td>\n      <td>C</td>\n      <td>fragil</td>\n      <td>ambiente</td>\n      <td>protocolo_2</td>\n      <td>0.0</td>\n      <td>2.0</td>\n      <td>1.0</td>\n      <td>0.0</td>\n      <td>1.0</td>\n    </tr>\n    <tr>\n      <th>4</th>\n      <td>B</td>\n      <td>66</td>\n      <td>53</td>\n      <td>45</td>\n      <td>A</td>\n      <td>normal</td>\n      <td>refrigerado</td>\n      <td>protocolo_2</td>\n      <td>1.0</td>\n      <td>0.0</td>\n      <td>1.0</td>\n      <td>1.0</td>\n      <td>1.0</td>\n    </tr>\n  </tbody>\n</table>\n</div>"
     },
     "execution_count": 7,
     "metadata": {},
     "output_type": "execute_result"
    }
   ],
   "source": [
    "#Se usará el ordinal encoder de sklearn para categorizar las columnas que tienen valores string.\n",
    "ord_enc = OrdinalEncoder()\n",
    "sample['Manipulacion_enc'] = ord_enc.fit_transform(sample[['Manipulacion']]) #Se categoriza la columna \"Manipulacion\" con enteros.\n",
    "sample['Procedencia_enc'] = ord_enc.fit_transform(sample[['Procedencia']])  #Se categoriza la columna \"Procedencia\" con enteros.\n",
    "sample['Embalaje_enc'] = ord_enc.fit_transform(sample[['Embalaje']])    #Se categoriza la columna \"Embalaje\" con enteros.\n",
    "sample['Temperatura_enc'] = ord_enc.fit_transform(sample[['Temperatura']])  #Se categoriza la columna \"Temperatura\" con enteros.\n",
    "sample['Protocolo_enc'] = ord_enc.fit_transform(sample[['Protocolo']])  #Se categoriza la columna \"Protocolo_1\" con enteros.\n",
    "sample.head()"
   ],
   "metadata": {
    "collapsed": false,
    "pycharm": {
     "name": "#%%\n"
    }
   }
  },
  {
   "cell_type": "markdown",
   "source": [
    "* Se procede a obtener el dataset final \"X\" con las columnas requeridas para la implementación del modelo de aprendizaje automático.\n",
    "* Y se obtiene la columna de etiquetas \"y\" que corresponde al protocolo que debe seguir el vehículo al manipular un producto cualquiera en el trayecto del almacén a la zona de manufactura."
   ],
   "metadata": {
    "collapsed": false,
    "pycharm": {
     "name": "#%% md\n"
    }
   }
  },
  {
   "cell_type": "code",
   "execution_count": 8,
   "outputs": [
    {
     "data": {
      "text/plain": "   Manipulacion_enc  Procedencia_enc  Embalaje_enc  Temperatura_enc  \\\n0               0.0              2.0           2.0              1.0   \n1               0.0              1.0           2.0              1.0   \n2               1.0              1.0           2.0              1.0   \n3               0.0              2.0           1.0              0.0   \n4               1.0              0.0           1.0              1.0   \n\n   Ancho(cm)  Largo(cm)  Alto(cm)  \n0         23         16        11  \n1         27          9         5  \n2         79         68        66  \n3         13         19        21  \n4         66         53        45  ",
      "text/html": "<div>\n<style scoped>\n    .dataframe tbody tr th:only-of-type {\n        vertical-align: middle;\n    }\n\n    .dataframe tbody tr th {\n        vertical-align: top;\n    }\n\n    .dataframe thead th {\n        text-align: right;\n    }\n</style>\n<table border=\"1\" class=\"dataframe\">\n  <thead>\n    <tr style=\"text-align: right;\">\n      <th></th>\n      <th>Manipulacion_enc</th>\n      <th>Procedencia_enc</th>\n      <th>Embalaje_enc</th>\n      <th>Temperatura_enc</th>\n      <th>Ancho(cm)</th>\n      <th>Largo(cm)</th>\n      <th>Alto(cm)</th>\n    </tr>\n  </thead>\n  <tbody>\n    <tr>\n      <th>0</th>\n      <td>0.0</td>\n      <td>2.0</td>\n      <td>2.0</td>\n      <td>1.0</td>\n      <td>23</td>\n      <td>16</td>\n      <td>11</td>\n    </tr>\n    <tr>\n      <th>1</th>\n      <td>0.0</td>\n      <td>1.0</td>\n      <td>2.0</td>\n      <td>1.0</td>\n      <td>27</td>\n      <td>9</td>\n      <td>5</td>\n    </tr>\n    <tr>\n      <th>2</th>\n      <td>1.0</td>\n      <td>1.0</td>\n      <td>2.0</td>\n      <td>1.0</td>\n      <td>79</td>\n      <td>68</td>\n      <td>66</td>\n    </tr>\n    <tr>\n      <th>3</th>\n      <td>0.0</td>\n      <td>2.0</td>\n      <td>1.0</td>\n      <td>0.0</td>\n      <td>13</td>\n      <td>19</td>\n      <td>21</td>\n    </tr>\n    <tr>\n      <th>4</th>\n      <td>1.0</td>\n      <td>0.0</td>\n      <td>1.0</td>\n      <td>1.0</td>\n      <td>66</td>\n      <td>53</td>\n      <td>45</td>\n    </tr>\n  </tbody>\n</table>\n</div>"
     },
     "execution_count": 8,
     "metadata": {},
     "output_type": "execute_result"
    }
   ],
   "source": [
    "X = sample[['Manipulacion_enc', 'Procedencia_enc', 'Embalaje_enc', 'Temperatura_enc', 'Ancho(cm)', 'Largo(cm)', 'Alto(cm)']] #Se obtiene el dataset final \"X\" con las columnas requeridas para la implementación del modelo de aprendizaje automático.\n",
    "y = sample['Protocolo_enc'] #Se obtiene la columna de etiquetas \"y\" que corresponde al protocolo que debe seguir el vehículo al manipular un producto cualquiera en el trayecto del almacén a la zona de manufactura.\n",
    "X_train, X_test, y_train, y_test = train_test_split(X, y, test_size=0.2, random_state=0) #Se separan los datos de entrenamiento y prueba.\n",
    "X.head()"
   ],
   "metadata": {
    "collapsed": false,
    "pycharm": {
     "name": "#%%\n"
    }
   }
  },
  {
   "cell_type": "markdown",
   "source": [
    "* Se utiliza el clasificador Perceptron para implementar el modelo de aprendizaje automático."
   ],
   "metadata": {
    "collapsed": false,
    "pycharm": {
     "name": "#%% md\n"
    }
   }
  },
  {
   "cell_type": "code",
   "execution_count": 9,
   "outputs": [
    {
     "data": {
      "text/plain": "Perceptron()",
      "text/html": "<style>#sk-container-id-1 {color: black;background-color: white;}#sk-container-id-1 pre{padding: 0;}#sk-container-id-1 div.sk-toggleable {background-color: white;}#sk-container-id-1 label.sk-toggleable__label {cursor: pointer;display: block;width: 100%;margin-bottom: 0;padding: 0.3em;box-sizing: border-box;text-align: center;}#sk-container-id-1 label.sk-toggleable__label-arrow:before {content: \"▸\";float: left;margin-right: 0.25em;color: #696969;}#sk-container-id-1 label.sk-toggleable__label-arrow:hover:before {color: black;}#sk-container-id-1 div.sk-estimator:hover label.sk-toggleable__label-arrow:before {color: black;}#sk-container-id-1 div.sk-toggleable__content {max-height: 0;max-width: 0;overflow: hidden;text-align: left;background-color: #f0f8ff;}#sk-container-id-1 div.sk-toggleable__content pre {margin: 0.2em;color: black;border-radius: 0.25em;background-color: #f0f8ff;}#sk-container-id-1 input.sk-toggleable__control:checked~div.sk-toggleable__content {max-height: 200px;max-width: 100%;overflow: auto;}#sk-container-id-1 input.sk-toggleable__control:checked~label.sk-toggleable__label-arrow:before {content: \"▾\";}#sk-container-id-1 div.sk-estimator input.sk-toggleable__control:checked~label.sk-toggleable__label {background-color: #d4ebff;}#sk-container-id-1 div.sk-label input.sk-toggleable__control:checked~label.sk-toggleable__label {background-color: #d4ebff;}#sk-container-id-1 input.sk-hidden--visually {border: 0;clip: rect(1px 1px 1px 1px);clip: rect(1px, 1px, 1px, 1px);height: 1px;margin: -1px;overflow: hidden;padding: 0;position: absolute;width: 1px;}#sk-container-id-1 div.sk-estimator {font-family: monospace;background-color: #f0f8ff;border: 1px dotted black;border-radius: 0.25em;box-sizing: border-box;margin-bottom: 0.5em;}#sk-container-id-1 div.sk-estimator:hover {background-color: #d4ebff;}#sk-container-id-1 div.sk-parallel-item::after {content: \"\";width: 100%;border-bottom: 1px solid gray;flex-grow: 1;}#sk-container-id-1 div.sk-label:hover label.sk-toggleable__label {background-color: #d4ebff;}#sk-container-id-1 div.sk-serial::before {content: \"\";position: absolute;border-left: 1px solid gray;box-sizing: border-box;top: 0;bottom: 0;left: 50%;z-index: 0;}#sk-container-id-1 div.sk-serial {display: flex;flex-direction: column;align-items: center;background-color: white;padding-right: 0.2em;padding-left: 0.2em;position: relative;}#sk-container-id-1 div.sk-item {position: relative;z-index: 1;}#sk-container-id-1 div.sk-parallel {display: flex;align-items: stretch;justify-content: center;background-color: white;position: relative;}#sk-container-id-1 div.sk-item::before, #sk-container-id-1 div.sk-parallel-item::before {content: \"\";position: absolute;border-left: 1px solid gray;box-sizing: border-box;top: 0;bottom: 0;left: 50%;z-index: -1;}#sk-container-id-1 div.sk-parallel-item {display: flex;flex-direction: column;z-index: 1;position: relative;background-color: white;}#sk-container-id-1 div.sk-parallel-item:first-child::after {align-self: flex-end;width: 50%;}#sk-container-id-1 div.sk-parallel-item:last-child::after {align-self: flex-start;width: 50%;}#sk-container-id-1 div.sk-parallel-item:only-child::after {width: 0;}#sk-container-id-1 div.sk-dashed-wrapped {border: 1px dashed gray;margin: 0 0.4em 0.5em 0.4em;box-sizing: border-box;padding-bottom: 0.4em;background-color: white;}#sk-container-id-1 div.sk-label label {font-family: monospace;font-weight: bold;display: inline-block;line-height: 1.2em;}#sk-container-id-1 div.sk-label-container {text-align: center;}#sk-container-id-1 div.sk-container {/* jupyter's `normalize.less` sets `[hidden] { display: none; }` but bootstrap.min.css set `[hidden] { display: none !important; }` so we also need the `!important` here to be able to override the default hidden behavior on the sphinx rendered scikit-learn.org. See: https://github.com/scikit-learn/scikit-learn/issues/21755 */display: inline-block !important;position: relative;}#sk-container-id-1 div.sk-text-repr-fallback {display: none;}</style><div id=\"sk-container-id-1\" class=\"sk-top-container\"><div class=\"sk-text-repr-fallback\"><pre>Perceptron()</pre><b>In a Jupyter environment, please rerun this cell to show the HTML representation or trust the notebook. <br />On GitHub, the HTML representation is unable to render, please try loading this page with nbviewer.org.</b></div><div class=\"sk-container\" hidden><div class=\"sk-item\"><div class=\"sk-estimator sk-toggleable\"><input class=\"sk-toggleable__control sk-hidden--visually\" id=\"sk-estimator-id-1\" type=\"checkbox\" checked><label for=\"sk-estimator-id-1\" class=\"sk-toggleable__label sk-toggleable__label-arrow\">Perceptron</label><div class=\"sk-toggleable__content\"><pre>Perceptron()</pre></div></div></div></div></div>"
     },
     "execution_count": 9,
     "metadata": {},
     "output_type": "execute_result"
    }
   ],
   "source": [
    "clf = Perceptron(random_state=0) #Se crea una instancia de la clase Perceptron.\n",
    "clf.fit(X_train, y_train) #Se entrena el modelo."
   ],
   "metadata": {
    "collapsed": false,
    "pycharm": {
     "name": "#%%\n"
    }
   }
  },
  {
   "cell_type": "code",
   "execution_count": 10,
   "outputs": [
    {
     "name": "stdout",
     "output_type": "stream",
     "text": [
      "              precision    recall  f1-score   support\n",
      "\n",
      "         0.0       0.61      0.77      0.68       777\n",
      "         1.0       0.82      0.68      0.75      1223\n",
      "\n",
      "    accuracy                           0.72      2000\n",
      "   macro avg       0.71      0.73      0.71      2000\n",
      "weighted avg       0.74      0.72      0.72      2000\n",
      "\n"
     ]
    }
   ],
   "source": [
    "y_pred = clf.predict(X_test) #Se predice el protocolo que debe seguir el vehículo al manipular un producto cualquiera en el trayecto del almacén a la zona de manufactura.\n",
    "print(metrics.classification_report(y_test, y_pred)) #Se muestra el reporte de metricas del modelo."
   ],
   "metadata": {
    "collapsed": false,
    "pycharm": {
     "name": "#%%\n"
    }
   }
  },
  {
   "cell_type": "markdown",
   "source": [
    "**Conclusiones:**\n",
    "Las conclusiones de esta primera parte de la actividad son que podemos darnos cuenta de la importancia de tener una forma con la que generar datos de prueba de calidad y que para encontrarle fue necesario hacer una busqueda que tomó un tiempo considerable.\n",
    "Además de esto el trabajo usual de realizar el análisis, ajuste y limpieza de datos que tambien toma buena parte del tiempo.\n",
    "Fue muy ilustrativo realizar esta parte del ejercicioya que nos obligó a buscar nuevas formas de realizar las cosas que se requieren para la actividad."
   ],
   "metadata": {
    "collapsed": false,
    "pycharm": {
     "name": "#%% md\n"
    }
   }
  },
  {
   "cell_type": "markdown",
   "source": [
    "## Parte II: Pregunta 5 ##\n",
    "Esta parte corresponde a la pregunta 5 de la actividad. que es relacionada a la distribución de los productos en la planta de manufactura.\n",
    "\n",
    "1. La planta industrial tiene una distribución como la que se muestra en la figura 1.\n",
    "\n",
    "   ![Mapeo almacen](https://raw.githubusercontent.com/janus78/MasterIA-Notebooks_Tetra3/master/f2.png)\n",
    "\n",
    "3. Cada vehículo puede transportar un máximo de tres productos al mismo tiempo.\n",
    "4. Los productos en el almacén no poseen un orden determinado.\n",
    "5. Un vehículo puede seleccionar cualquier producto con la misma probabilidad.\n",
    "6. Elabora un programa que sea capaz de determinar la ruta óptima que debe tomar el vehículo para distribuir los productos por la planta industrial, garantizando que:\n",
    "\n",
    "7. Nunca repita dos veces el mismo destino en cada viaje.\n",
    "8. Los productos del protocolo_1 tengan prioridad.\n",
    "9. La ruta trazada sea siempre la menor."
   ],
   "metadata": {
    "collapsed": false,
    "pycharm": {
     "name": "#%% md\n"
    }
   }
  },
  {
   "cell_type": "markdown",
   "source": [
    "Para el desarrollo de este ejercicio se ha realizado mucha busqueda, revisión y prácticas de diferentes tutoriales esperando lograr una implementación adecuada. Aún quedan muchas dudas y la inseguridad de que sea correcta la implementación.\n",
    "A continuación se presenta el desarrollo de este ejercicio."
   ],
   "metadata": {
    "collapsed": false,
    "pycharm": {
     "name": "#%% md\n"
    }
   }
  },
  {
   "cell_type": "markdown",
   "source": [
    "Dentro de muchos de los tutoriales, guías y consejos que se han revisado se notaba la incidencia de la creación y uso de una matriz de distancias por lo que es la aproximación que se utiliza en este caso."
   ],
   "metadata": {
    "collapsed": false,
    "pycharm": {
     "name": "#%% md\n"
    }
   }
  },
  {
   "cell_type": "code",
   "execution_count": 11,
   "outputs": [],
   "source": [
    "#Se obtiene una predicción del total de productos en el dataset sintetico.\n",
    "y_all = clf.predict(X) #Se obtiene la predicción de los protocolos."
   ],
   "metadata": {
    "collapsed": false,
    "pycharm": {
     "name": "#%%\n"
    }
   }
  },
  {
   "cell_type": "code",
   "execution_count": 12,
   "outputs": [
    {
     "data": {
      "text/plain": "   Manipulacion_enc  Procedencia_enc  Embalaje_enc  Temperatura_enc  \\\n0               0.0              2.0           2.0              1.0   \n1               0.0              1.0           2.0              1.0   \n2               1.0              1.0           2.0              1.0   \n3               0.0              2.0           1.0              0.0   \n4               1.0              0.0           1.0              1.0   \n\n   Ancho(cm)  Largo(cm)  Alto(cm)  Protocolo_enc  \n0         23         16        11            0.0  \n1         27          9         5            0.0  \n2         79         68        66            0.0  \n3         13         19        21            1.0  \n4         66         53        45            0.0  ",
      "text/html": "<div>\n<style scoped>\n    .dataframe tbody tr th:only-of-type {\n        vertical-align: middle;\n    }\n\n    .dataframe tbody tr th {\n        vertical-align: top;\n    }\n\n    .dataframe thead th {\n        text-align: right;\n    }\n</style>\n<table border=\"1\" class=\"dataframe\">\n  <thead>\n    <tr style=\"text-align: right;\">\n      <th></th>\n      <th>Manipulacion_enc</th>\n      <th>Procedencia_enc</th>\n      <th>Embalaje_enc</th>\n      <th>Temperatura_enc</th>\n      <th>Ancho(cm)</th>\n      <th>Largo(cm)</th>\n      <th>Alto(cm)</th>\n      <th>Protocolo_enc</th>\n    </tr>\n  </thead>\n  <tbody>\n    <tr>\n      <th>0</th>\n      <td>0.0</td>\n      <td>2.0</td>\n      <td>2.0</td>\n      <td>1.0</td>\n      <td>23</td>\n      <td>16</td>\n      <td>11</td>\n      <td>0.0</td>\n    </tr>\n    <tr>\n      <th>1</th>\n      <td>0.0</td>\n      <td>1.0</td>\n      <td>2.0</td>\n      <td>1.0</td>\n      <td>27</td>\n      <td>9</td>\n      <td>5</td>\n      <td>0.0</td>\n    </tr>\n    <tr>\n      <th>2</th>\n      <td>1.0</td>\n      <td>1.0</td>\n      <td>2.0</td>\n      <td>1.0</td>\n      <td>79</td>\n      <td>68</td>\n      <td>66</td>\n      <td>0.0</td>\n    </tr>\n    <tr>\n      <th>3</th>\n      <td>0.0</td>\n      <td>2.0</td>\n      <td>1.0</td>\n      <td>0.0</td>\n      <td>13</td>\n      <td>19</td>\n      <td>21</td>\n      <td>1.0</td>\n    </tr>\n    <tr>\n      <th>4</th>\n      <td>1.0</td>\n      <td>0.0</td>\n      <td>1.0</td>\n      <td>1.0</td>\n      <td>66</td>\n      <td>53</td>\n      <td>45</td>\n      <td>0.0</td>\n    </tr>\n  </tbody>\n</table>\n</div>"
     },
     "execution_count": 12,
     "metadata": {},
     "output_type": "execute_result"
    }
   ],
   "source": [
    "X_full = X.copy() #Se crea una copia del dataset original.\n",
    "X_full['Protocolo_enc'] = y_all #Se agrega la columna de etiquetas al dataset.\n",
    "X_full.head()"
   ],
   "metadata": {
    "collapsed": false,
    "pycharm": {
     "name": "#%%\n"
    }
   }
  },
  {
   "cell_type": "code",
   "execution_count": 55,
   "outputs": [
    {
     "name": "stdout",
     "output_type": "stream",
     "text": [
      "Los totales por embalaje y protocolo son:\n",
      "Embalaje A, Protocolo 1: 2257\n",
      "Embalaje A, Protocolo 2: 1526\n",
      "Embalaje B, Protocolo 1: 2085\n",
      "Embalaje B, Protocolo 2: 2291\n",
      "Embalaje C, Protocolo 1: 710\n",
      "Embalaje C, Protocolo 2: 1131\n"
     ]
    }
   ],
   "source": [
    "#Se obtienen los totales de productos para cada protocolo y embalaje.\n",
    "total_pt1_A = X_full.apply(lambda x : x['Protocolo_enc'] == 0 and x['Embalaje_enc'] == 0, axis=1).sum() #Se obtiene el total de productos para el protocolo_1 y el embalaje A.\n",
    "total_pt2_A = X_full.apply(lambda x : x['Protocolo_enc'] == 1 and x['Embalaje_enc'] == 0, axis=1).sum() #Se obtiene el total de productos para el protocolo_2 y el embalaje A.\n",
    "total_pt1_B = X_full.apply(lambda x : x['Protocolo_enc'] == 0 and x['Embalaje_enc'] == 1, axis=1).sum() #Se obtiene el total de productos para el protocolo_1 y el embalaje B.\n",
    "total_pt2_B = X_full.apply(lambda x : x['Protocolo_enc'] == 1 and x['Embalaje_enc'] == 1, axis=1).sum() #Se obtiene el total de productos para el protocolo_2 y el embalaje B.\n",
    "total_pt1_C = X_full.apply(lambda x : x['Protocolo_enc'] == 0 and x['Embalaje_enc'] == 2, axis=1).sum() #Se obtiene el total de productos para el protocolo_1 y el embalaje C.\n",
    "total_pt2_C = X_full.apply(lambda x : x['Protocolo_enc'] == 1 and x['Embalaje_enc'] == 2, axis=1).sum() #Se obtiene el total de productos para el protocolo_2 y el embalaje C.\n",
    "\n",
    "print(f\"Los totales por embalaje y protocolo son:\\nEmbalaje A, Protocolo 1: {total_pt1_A}\\nEmbalaje A, Protocolo 2: {total_pt2_A}\\nEmbalaje B, Protocolo 1: {total_pt1_B}\\nEmbalaje B, Protocolo 2: {total_pt2_B}\\nEmbalaje C, Protocolo 1: {total_pt1_C}\\nEmbalaje C, Protocolo 2: {total_pt2_C}\") #Se muestra el total de productos para cada protocolo y embalaje."
   ],
   "metadata": {
    "collapsed": false,
    "pycharm": {
     "name": "#%%\n"
    }
   }
  },
  {
   "cell_type": "code",
   "execution_count": 56,
   "outputs": [
    {
     "data": {
      "text/plain": "     A1    A2    B1    B2   C1    C2\n0  2257  1526  2085  2291  710  1131",
      "text/html": "<div>\n<style scoped>\n    .dataframe tbody tr th:only-of-type {\n        vertical-align: middle;\n    }\n\n    .dataframe tbody tr th {\n        vertical-align: top;\n    }\n\n    .dataframe thead th {\n        text-align: right;\n    }\n</style>\n<table border=\"1\" class=\"dataframe\">\n  <thead>\n    <tr style=\"text-align: right;\">\n      <th></th>\n      <th>A1</th>\n      <th>A2</th>\n      <th>B1</th>\n      <th>B2</th>\n      <th>C1</th>\n      <th>C2</th>\n    </tr>\n  </thead>\n  <tbody>\n    <tr>\n      <th>0</th>\n      <td>2257</td>\n      <td>1526</td>\n      <td>2085</td>\n      <td>2291</td>\n      <td>710</td>\n      <td>1131</td>\n    </tr>\n  </tbody>\n</table>\n</div>"
     },
     "execution_count": 56,
     "metadata": {},
     "output_type": "execute_result"
    }
   ],
   "source": [
    "#Creando arreglo con el numero de paquetes por punto de entrega\n",
    "demandas = pd.DataFrame([[total_pt1_A, total_pt2_A, total_pt1_B, total_pt2_B, total_pt1_C, total_pt2_C]], columns=['A1', 'A2', 'B1', 'B2', 'C1', 'C2']) #Se crea un dataframe con el numero de paquetes por punto de entrega.\n",
    "demandas"
   ],
   "metadata": {
    "collapsed": false,
    "pycharm": {
     "name": "#%%\n"
    }
   }
  },
  {
   "cell_type": "code",
   "execution_count": 57,
   "outputs": [],
   "source": [
    "#Importando las librerias necesarias.\n",
    "from scipy.spatial import distance_matrix #Se importa la libreria de distancia.\n",
    "from ortools.constraint_solver import routing_enums_pb2 #Se importa la libreria de routing de ortools Google.\n",
    "from ortools.constraint_solver import pywrapcp #Se importa la libreria de routing de ortools Google.\n",
    "from python_tsp.exact import solve_tsp_dynamic_programming #Otra alternativa para encontrar la ruta mas corta y su peso"
   ],
   "metadata": {
    "collapsed": false,
    "pycharm": {
     "name": "#%%\n"
    }
   }
  },
  {
   "cell_type": "code",
   "execution_count": 58,
   "outputs": [],
   "source": [
    "#Creando el método para la generación de la matriz de distancias.\n",
    "def distancia_matriz(arreglo_coordenadas):\n",
    "    dist_matrix = distance_matrix(arreglo_coordenadas.values, arreglo_coordenadas.values).astype(int) #Se calcula la matriz de distancias.\n",
    "    return dist_matrix #Se retorna la matriz de distancias."
   ],
   "metadata": {
    "collapsed": false,
    "pycharm": {
     "name": "#%%\n"
    }
   }
  },
  {
   "cell_type": "code",
   "execution_count": 59,
   "outputs": [],
   "source": [
    "#Definiendo puntos de entrega en el almacen\n",
    "A1 = [100, 600] #Punto de entrega embalaje A protocolo 1\n",
    "A2 = [400, 600] #Punto de entrega embalaje A protocolo 2\n",
    "B1 = [700, 0] #Punto de entrega embalaje B protocolo 1\n",
    "B2 = [400, 0] #Punto de entrega embalaje B protocolo 2\n",
    "C1 = [1000, 200] #Punto de entrega embalaje C protocolo 1\n",
    "C2 = [1000, 300] #Punto de entrega embalaje C protocolo 2"
   ],
   "metadata": {
    "collapsed": false,
    "pycharm": {
     "name": "#%%\n"
    }
   }
  },
  {
   "cell_type": "markdown",
   "source": [
    "A continuación se definen metodos y pasos para obtener la ruta más corta y el total recorrido usando Google OR Tools"
   ],
   "metadata": {
    "collapsed": false,
    "pycharm": {
     "name": "#%% md\n"
    }
   }
  },
  {
   "cell_type": "code",
   "execution_count": 60,
   "outputs": [],
   "source": [
    "#Creando el modelo de datos\n",
    "def create_data_model(distance_matrix):\n",
    "    data = {'distance_matrix': distance_matrix, 'num_vehicles': 1, 'depot': 0}  #Se crea un diccionario vacio.\n",
    "    return data #Se retorna el diccionario."
   ],
   "metadata": {
    "collapsed": false,
    "pycharm": {
     "name": "#%%\n"
    }
   }
  },
  {
   "cell_type": "code",
   "execution_count": 61,
   "outputs": [],
   "source": [
    "#Creando método para imprimir y regresar el valor de la ruta más corta.\n",
    "def print_solution(manager, routing, solution):\n",
    "    print('Objective: {} m'.format(solution.ObjectiveValue()))\n",
    "    index = routing.Start(0)\n",
    "    plan_output = 'Ruta para el vehiculo 0:\\n'\n",
    "    route_distance = 0\n",
    "    while not routing.IsEnd(index):\n",
    "        plan_output += ' {} ->'.format(manager.IndexToNode(index))\n",
    "        previous_index = index\n",
    "        index = solution.Value(routing.NextVar(index))\n",
    "        route_distance += routing.GetArcCostForVehicle(previous_index, index, 0)\n",
    "    plan_output += ' {}\\n'.format(manager.IndexToNode(index))\n",
    "    print(plan_output)\n",
    "    plan_output += 'Distancia de la ruta: {}m\\n'.format(route_distance)\n",
    "    return route_distance #Se retorna la distancia de la ruta."
   ],
   "metadata": {
    "collapsed": false,
    "pycharm": {
     "name": "#%%\n"
    }
   }
  },
  {
   "cell_type": "code",
   "execution_count": 62,
   "outputs": [],
   "source": [
    "#Proceso ruta mas corta\n",
    "def get_route(distance_matrix_initial):\n",
    "    data = create_data_model(distance_matrix_initial) #Se crea el modelo de datos.\n",
    "\n",
    "    manager = pywrapcp.RoutingIndexManager(len(data['distance_matrix']), data['num_vehicles'], data['depot']) #Se crea el manejador de rutas.\n",
    "\n",
    "    routing = pywrapcp.RoutingModel(manager) #Se crea el modelo de rutas.\n",
    "\n",
    "    routing.SetVehicleUsedWhenEmpty(True, 0) #Se considera el costo de la ruta vacía.\n",
    "\n",
    "    #Creando el metodo de distancias\n",
    "    def distance_callback(from_index, to_index):\n",
    "        from_node = manager.IndexToNode(from_index)\n",
    "        to_node = manager.IndexToNode(to_index)\n",
    "        return data['distance_matrix'][from_node][to_node]\n",
    "\n",
    "    transit_callback_index = routing.RegisterTransitCallback(distance_callback) #Se registra el callback de distancias.\n",
    "\n",
    "    routing.SetArcCostEvaluatorOfAllVehicles(transit_callback_index) #Se establece el callback de distancias.\n",
    "\n",
    "    #Obteniendo la primera solución heurística\n",
    "    search_parameters = pywrapcp.DefaultRoutingSearchParameters() #Se crea el objeto de búsqueda.\n",
    "    search_parameters.first_solution_strategy = routing_enums_pb2.FirstSolutionStrategy.PATH_CHEAPEST_ARC\n",
    "    search_parameters.local_search_metaheuristic = routing_enums_pb2.LocalSearchMetaheuristic.GUIDED_LOCAL_SEARCH\n",
    "    search_parameters.time_limit.seconds = 10 #Se establece el tiempo limite de búsqueda.\n",
    "    search_parameters.log_search = True #Se establece el log de búsqueda.\n",
    "\n",
    "    #Solución\n",
    "    solution = routing.SolveWithParameters(search_parameters) #Se obtiene la solución.\n",
    "\n",
    "    #Imprimiendo la solución y obteniendo el valor\n",
    "    if solution:\n",
    "        return print_solution(manager, routing, solution) #Se imprime la solución.\n",
    "    else:\n",
    "        return 0 #Se retorna nulo.\n",
    "        print('No se pudo obtener una solución') #Se imprime que no se pudo obtener una solución."
   ],
   "metadata": {
    "collapsed": false,
    "pycharm": {
     "name": "#%%\n"
    }
   }
  },
  {
   "cell_type": "markdown",
   "source": [
    "A continuación se definen metodos y pasos para obtener la ruta más corta y el total recorrido para todos los paquetes de los diferentes embalajes y protocolos. Se tiene un arreglo de prioridades para cada embalaje y protocolo. Se le da preferencia al protocolo 1."
   ],
   "metadata": {
    "collapsed": false,
    "pycharm": {
     "name": "#%% md\n"
    }
   }
  },
  {
   "cell_type": "code",
   "execution_count": 63,
   "outputs": [
    {
     "name": "stdout",
     "output_type": "stream",
     "text": [
      "La ruta total recorrida por el vehiculo para entregar todos los productos con prioridad de protocolo 1 es:\n",
      "5,335,993m\n"
     ]
    }
   ],
   "source": [
    "not_completed = True #Se crea una variable para saber si todos los paquetes fueron entregados.\n",
    "ruta_total = 0 #Se crea una variable para saber la distancia total recorrida.\n",
    "probability_array = [0.3, 0.034, 0.3, 0.033, 0.3, 0.033] #Se crea un arreglo para guardar las probabilidades de seleccionar protocolo 1 y darle mayor prioridad, la suma de las probabilidades debe ser 1.\n",
    "while not_completed:\n",
    "    if len(demandas.columns) <= 0: #Se valida que todos los paquetes fueron entregados.\n",
    "        not_completed = False\n",
    "        continue\n",
    "    demanda_array = demandas.columns.values #Se obtiene el arreglo de las demandas.\n",
    "    packages = np.random.choice(demanda_array, 3, replace=True, p=probability_array) #Se obtienen 3 paquetes aleatorios dando prioridad a los del protocolo 1.\n",
    "    paquetes = packages.tolist() #Se obtiene los nombres de las columnas.\n",
    "    dict_columns = {item: paquetes.count(item) for item in paquetes} #Se crea un diccionario con los nombres de las columnas y el número de paquetes.\n",
    "\n",
    "    #print(packages, paquetes, dict_columns) #Se imprimen los datos.\n",
    "\n",
    "    coords_demanda = [[0, 300]] #Se crea una lista para guardar las coordenadas de los paquetes. El primer elemento es la ubicación del depósito.\n",
    "\n",
    "    for key in dict_columns:\n",
    "        if key == 'A1':\n",
    "            coords_demanda.append(A1)\n",
    "            total_pt1_A -= dict_columns[key] #Se resta el número de paquetes de la columna A1.\n",
    "            if total_pt1_A <= 0: #Se balancearan las probabilidades antes de eliminar la columna completada de reparto\n",
    "                A1_prob = probability_array[demandas.columns.get_loc('A1')] #Se obtiene la probabilidad de la columna A1.\n",
    "                if 'B1' in demandas.columns:\n",
    "                    probability_array[demandas.columns.get_loc('B1')] = A1_prob + probability_array[demandas.columns.get_loc('B1')] #Se le suma la probabilidad de la columna B1.\n",
    "                    probability_array.pop(demandas.columns.get_loc('A1')) #Se elimina la probabilidad de seleccionar la columna A1.\n",
    "                elif 'C1' in demandas.columns:\n",
    "                    probability_array[demandas.columns.get_loc('C1')] = A1_prob + probability_array[demandas.columns.get_loc('C1')] #Se le suma la probabilidad de la columna C1.\n",
    "                    probability_array.pop(demandas.columns.get_loc('A1')) #Se elimina la probabilidad de seleccionar la columna A1.\n",
    "                else:\n",
    "                    probability_array.pop(demandas.columns.get_loc('A1')) #Se elimina la probabilidad de seleccionar la columna A1.\n",
    "                    if probability_array:\n",
    "                        probability_array[0] = A1_prob + probability_array[0] #Se le suma la probabilidad de la columna A1.\n",
    "                demandas.drop('A1', axis=1, inplace=True) #Se elimina la columna A1 del reparto.\n",
    "        elif key == 'A2':\n",
    "            coords_demanda.append(A2)\n",
    "            total_pt2_A -= dict_columns[key] #Se resta el número de paquetes de la columna A2.\n",
    "            if total_pt2_A <= 0:  #Se balancearan las probabilidades antes de eliminar la columna completada de reparto\n",
    "                A2_prob = probability_array[demandas.columns.get_loc('A2')] #Se obtiene la probabilidad de la columna A2.\n",
    "                probability_array.pop(demandas.columns.get_loc('A2')) #Se elimina la probabilidad de seleccionar la columna A2.\n",
    "                if probability_array:\n",
    "                    probability_array[0] = A2_prob + probability_array[0] #Se le suma la probabilidad de la columna A2.\n",
    "                demandas.drop('A2', axis=1, inplace=True) #Se elimina la columna A2 del reparto.\n",
    "        elif key == 'B1':\n",
    "            coords_demanda.append(B1)\n",
    "            total_pt1_B -= dict_columns[key] #Se resta el número de paquetes de la columna B1.\n",
    "            if total_pt1_B <= 0: #Se balancearan las probabilidades antes de eliminar la columna completada de reparto\n",
    "                B1_prob = probability_array[demandas.columns.get_loc('B1')] #Se obtiene la probabilidad de la columna B1.\n",
    "                if 'A1' in demandas.columns:\n",
    "                    probability_array[demandas.columns.get_loc('A1')] = B1_prob + probability_array[demandas.columns.get_loc('A1')] #Se le suma la probabilidad de la columna A1.\n",
    "                    probability_array.pop(demandas.columns.get_loc('B1')) #Se elimina la probabilidad de seleccionar la columna B1.\n",
    "                elif 'C1' in demandas.columns:\n",
    "                    probability_array[demandas.columns.get_loc('C1')] = B1_prob + probability_array[demandas.columns.get_loc('C1')] #Se le suma la probabilidad de la columna C1.\n",
    "                    probability_array.pop(demandas.columns.get_loc('B1')) #Se elimina la probabilidad de seleccionar la columna B1.\n",
    "                else:\n",
    "                    probability_array.pop(demandas.columns.get_loc('B1')) #Se elimina la probabilidad de seleccionar la columna B1.\n",
    "                    if probability_array:\n",
    "                        probability_array[0] = B1_prob + probability_array[0] #Se le suma la probabilidad de la columna B1.\n",
    "                demandas.drop('B1', axis=1, inplace=True) #Se elimina la columna B1 del reparto.\n",
    "        elif key == 'B2':\n",
    "            coords_demanda.append(B2)\n",
    "            total_pt2_B -= dict_columns[key] #Se resta el número de paquetes de la columna B2.\n",
    "            if total_pt2_B <= 0: #Se balancearan las probabilidades antes de eliminar la columna completada de reparto\n",
    "                B2_prob = probability_array[demandas.columns.get_loc('B2')] #Se obtiene la probabilidad de la columna B2.\n",
    "                probability_array.pop(demandas.columns.get_loc('B2')) #Se elimina la probabilidad de seleccionar la columna B2.\n",
    "                if probability_array:\n",
    "                    probability_array[0] = B2_prob + probability_array[0] #Se le suma la probabilidad de la columna B2.\n",
    "                demandas.drop('B2', axis=1, inplace=True) #Se elimina la columna B2 del reparto.\n",
    "        elif key == 'C1':\n",
    "            coords_demanda.append(C1)\n",
    "            total_pt1_C -= dict_columns[key] #Se resta el número de paquetes de la columna C1.\n",
    "            if total_pt1_C <= 0: #Se balancearan las probabilidades antes de eliminar la columna completada de reparto\n",
    "                C1_prob = probability_array[demandas.columns.get_loc('C1')] #Se obtiene la probabilidad de la columna C1.\n",
    "                if 'A1' in demandas.columns:\n",
    "                    probability_array[demandas.columns.get_loc('A1')] = C1_prob + probability_array[demandas.columns.get_loc('A1')] #Se le suma la probabilidad de la columna C1.\n",
    "                    probability_array.pop(demandas.columns.get_loc('C1')) #Se elimina la probabilidad de seleccionar la columna B1.\n",
    "                elif 'B1' in demandas.columns:\n",
    "                    probability_array[demandas.columns.get_loc('B1')] = B1_prob + probability_array[demandas.columns.get_loc('C1')] #Se le suma la probabilidad de la columna B1.\n",
    "                    probability_array.pop(demandas.columns.get_loc('C1')) #Se elimina la probabilidad de seleccionar la columna C1.\n",
    "                else:\n",
    "                    probability_array.pop(demandas.columns.get_loc('C1')) #Se elimina la probabilidad de seleccionar la columna C1.\n",
    "                    if probability_array:\n",
    "                        probability_array[0] = C1_prob + probability_array[0] #Se le suma la probabilidad de la columna C1.\n",
    "                demandas.drop('C1', axis=1, inplace=True) #Se elimina la columna C1 del reparto.\n",
    "        elif key == 'C2':\n",
    "            coords_demanda.append(C2)\n",
    "            total_pt2_C -= dict_columns[key] #Se resta el número de paquetes de la columna C2.\n",
    "            if total_pt2_C <= 0: #Se balancearan las probabilidades antes de eliminar la columna completada de reparto\n",
    "                C2_prob = probability_array[demandas.columns.get_loc('C2')] #Se obtiene la probabilidad de la columna B2.\n",
    "                probability_array.pop(demandas.columns.get_loc('C2')) #Se elimina la probabilidad de seleccionar la columna B2.\n",
    "                if probability_array:\n",
    "                    probability_array[0] = B2_prob + probability_array[0] #Se le suma la probabilidad de la columna B2.\n",
    "                demandas.drop('C2', axis=1, inplace=True) #Se elimina la columna C2 del reparto.\n",
    "\n",
    "    #print(coords_demanda) #Se imprime la lista de coordenadas.\n",
    "\n",
    "    df_coords_demanda = pd.DataFrame(coords_demanda, columns=['x', 'y']) #Se crea un dataframe con las coordenadas de los paquetes.\n",
    "    #print(df_coords_demanda) #Se imprime el dataframe.\n",
    "\n",
    "    demanda_distance_matrix = distancia_matriz(df_coords_demanda) #Se obtiene la matriz de distancias.\n",
    "\n",
    "    #print(demanda_distance_matrix)#Se obtiene la matriz de distancias.\n",
    "\n",
    "    #ruta_total += get_route(df_coords_demanda) Este usa la implementación de la librería de google y esa regresa la ruta pero no el costo. Se deja como referencia por si se quiere probar esta forma\n",
    "    permutation,  distance = solve_tsp_dynamic_programming(demanda_distance_matrix) #Se obtiene la ruta y el costo de la ruta. Se usa la implementación de la librería python_tsp\n",
    "    ruta_total += distance #Se suma el costo de la ruta.\n",
    "    #print('Rute', permutation + [0]) #Se imprime la ruta.\n",
    "    #print('Distancia de ruta', distance) #Se imprime el costo de la ruta.\n",
    "    #print(total_pt1_A, total_pt2_A, total_pt1_B, total_pt2_B, total_pt1_C, total_pt2_C) #Se imprime los totales de paquetes por cada punto.\n",
    "ruta_total = \"{:,}\".format(ruta_total) #Se formatea el costo de la ruta.\n",
    "print(f\"La ruta total recorrida por el vehiculo para entregar todos los productos con prioridad de protocolo 1 es:\\n{ruta_total}m\") #Se imprime la distancia total recorrida."
   ],
   "metadata": {
    "collapsed": false,
    "pycharm": {
     "name": "#%%\n"
    }
   }
  }
 ],
 "metadata": {
  "kernelspec": {
   "display_name": "Python 3",
   "language": "python",
   "name": "python3"
  },
  "language_info": {
   "codemirror_mode": {
    "name": "ipython",
    "version": 2
   },
   "file_extension": ".py",
   "mimetype": "text/x-python",
   "name": "python",
   "nbconvert_exporter": "python",
   "pygments_lexer": "ipython2",
   "version": "2.7.6"
  }
 },
 "nbformat": 4,
 "nbformat_minor": 0
}
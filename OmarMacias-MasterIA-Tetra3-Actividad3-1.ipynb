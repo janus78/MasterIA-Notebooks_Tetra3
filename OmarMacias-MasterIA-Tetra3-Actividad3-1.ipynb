{
 "cells": [
  {
   "cell_type": "markdown",
   "source": [
    "## Actividad 3 - Semana 3 - Pregunta 1\n",
    "Se presentan a continuación las soluciones del punto 1 de la actividad.\n",
    "\n",
    "**Pregunta 1**\n",
    "Utilizando un cuaderno de Jupyter Notebook y el lenguaje de programación\n",
    "Python, realice las siguientes operaciones:\n",
    "* Calcule la primera derivada de las siguientes funciones:\n",
    "\\begin{flalign*}\n",
    "& A.\\text{ }f(x) = 3x + 4e^{-(4x)}\\\\\n",
    "& B.\\text{ }f(x) = 5x^{3x+1} - 8x^2 - 3x\n",
    "\\end{flalign*}\n",
    "\n",
    "* Calcule la segunda derivada de las siguientes funciones:\n",
    "\\begin{flalign*}\n",
    "& C.\\text{ }f(x) = 4x^4 + 6x^2 + e^{4x^2}\\\\\n",
    "& D.\\text{ }f(x) = \\frac{1}{2x^3 + 8x}\n",
    "\\end{flalign*}\n"
   ],
   "metadata": {
    "collapsed": false,
    "pycharm": {
     "name": "#%% md\n"
    }
   }
  },
  {
   "cell_type": "code",
   "execution_count": 32,
   "outputs": [],
   "source": [
    "import sympy as sym\n",
    "x,y = sym.symbols('x y')"
   ],
   "metadata": {
    "collapsed": false,
    "pycharm": {
     "name": "#%%\n"
    }
   }
  },
  {
   "cell_type": "markdown",
   "source": [
    "Definiendo las variables de las funciones A y B"
   ],
   "metadata": {
    "collapsed": false,
    "pycharm": {
     "name": "#%% md\n"
    }
   }
  },
  {
   "cell_type": "code",
   "execution_count": 33,
   "outputs": [
    {
     "data": {
      "text/plain": "3*x + 4*exp(-4*x)",
      "text/latex": "$\\displaystyle 3 x + 4 e^{- 4 x}$"
     },
     "execution_count": 33,
     "metadata": {},
     "output_type": "execute_result"
    }
   ],
   "source": [
    "f1 = 3*x + 4*sym.exp(-4*x)\n",
    "f1"
   ],
   "metadata": {
    "collapsed": false,
    "pycharm": {
     "name": "#%%\n"
    }
   }
  },
  {
   "cell_type": "code",
   "execution_count": 34,
   "outputs": [
    {
     "data": {
      "text/plain": "8*x**2 - 3*x + 5*x**(3*x + 1)",
      "text/latex": "$\\displaystyle 8 x^{2} - 3 x + 5 x^{3 x + 1}$"
     },
     "execution_count": 34,
     "metadata": {},
     "output_type": "execute_result"
    }
   ],
   "source": [
    "f2 = 5*x**(3*x+1) + 8*x**2 - 3*x\n",
    "f2"
   ],
   "metadata": {
    "collapsed": false,
    "pycharm": {
     "name": "#%%\n"
    }
   }
  },
  {
   "cell_type": "markdown",
   "source": [
    "Obteniendo la primera derivada de las funciones A y B"
   ],
   "metadata": {
    "collapsed": false,
    "pycharm": {
     "name": "#%% md\n"
    }
   }
  },
  {
   "cell_type": "code",
   "execution_count": 35,
   "outputs": [],
   "source": [
    "derivada1_f1 = sym.diff(f1,x)\n",
    "derivada1_f2 = sym.diff(f2,x)"
   ],
   "metadata": {
    "collapsed": false,
    "pycharm": {
     "name": "#%%\n"
    }
   }
  },
  {
   "cell_type": "code",
   "execution_count": 36,
   "outputs": [
    {
     "name": "stdout",
     "output_type": "stream",
     "text": [
      "3 - 16*exp(-4*x)\n"
     ]
    }
   ],
   "source": [
    "print(derivada1_f1)"
   ],
   "metadata": {
    "collapsed": false,
    "pycharm": {
     "name": "#%%\n"
    }
   }
  },
  {
   "cell_type": "code",
   "execution_count": 37,
   "outputs": [
    {
     "name": "stdout",
     "output_type": "stream",
     "text": [
      "16*x + 5*x**(3*x + 1)*(3*log(x) + (3*x + 1)/x) - 3\n"
     ]
    }
   ],
   "source": [
    "print(derivada1_f2)"
   ],
   "metadata": {
    "collapsed": false,
    "pycharm": {
     "name": "#%%\n"
    }
   }
  },
  {
   "cell_type": "markdown",
   "source": [
    "Definiendo las variables de las funciones C y D"
   ],
   "metadata": {
    "collapsed": false,
    "pycharm": {
     "name": "#%% md\n"
    }
   }
  },
  {
   "cell_type": "code",
   "execution_count": 38,
   "outputs": [
    {
     "data": {
      "text/plain": "4*x**4 + 6*x**2 + exp(4*x**2)",
      "text/latex": "$\\displaystyle 4 x^{4} + 6 x^{2} + e^{4 x^{2}}$"
     },
     "execution_count": 38,
     "metadata": {},
     "output_type": "execute_result"
    }
   ],
   "source": [
    "f3 = 4*x**4 + 6*x**2 + sym.exp(4*x**2)\n",
    "f3"
   ],
   "metadata": {
    "collapsed": false,
    "pycharm": {
     "name": "#%%\n"
    }
   }
  },
  {
   "cell_type": "code",
   "execution_count": 39,
   "outputs": [
    {
     "data": {
      "text/plain": "1/(2*x**3 + 8*x)",
      "text/latex": "$\\displaystyle \\frac{1}{2 x^{3} + 8 x}$"
     },
     "execution_count": 39,
     "metadata": {},
     "output_type": "execute_result"
    }
   ],
   "source": [
    "f4 = 1/(2*x**3 + 8*x)\n",
    "f4"
   ],
   "metadata": {
    "collapsed": false,
    "pycharm": {
     "name": "#%%\n"
    }
   }
  },
  {
   "cell_type": "markdown",
   "source": [
    "Obteniendo la segunda derivada de las funciones C y D"
   ],
   "metadata": {
    "collapsed": false,
    "pycharm": {
     "name": "#%% md\n"
    }
   }
  },
  {
   "cell_type": "code",
   "execution_count": 40,
   "outputs": [
    {
     "data": {
      "text/plain": "4*(16*x**2*exp(4*x**2) + 12*x**2 + 2*exp(4*x**2) + 3)",
      "text/latex": "$\\displaystyle 4 \\cdot \\left(16 x^{2} e^{4 x^{2}} + 12 x^{2} + 2 e^{4 x^{2}} + 3\\right)$"
     },
     "execution_count": 40,
     "metadata": {},
     "output_type": "execute_result"
    }
   ],
   "source": [
    "derivada2_f3 = sym.diff(f3,x,2)\n",
    "derivada2_f3"
   ],
   "metadata": {
    "collapsed": false,
    "pycharm": {
     "name": "#%%\n"
    }
   }
  },
  {
   "cell_type": "code",
   "execution_count": 41,
   "outputs": [
    {
     "data": {
      "text/plain": "(-3 + (3*x**2 + 4)**2/(x**2*(x**2 + 4)))/(x*(x**2 + 4)**2)",
      "text/latex": "$\\displaystyle \\frac{-3 + \\frac{\\left(3 x^{2} + 4\\right)^{2}}{x^{2} \\left(x^{2} + 4\\right)}}{x \\left(x^{2} + 4\\right)^{2}}$"
     },
     "execution_count": 41,
     "metadata": {},
     "output_type": "execute_result"
    }
   ],
   "source": [
    "derivada2_f4 = sym.diff(f4,x,2)\n",
    "derivada2_f4"
   ],
   "metadata": {
    "collapsed": false,
    "pycharm": {
     "name": "#%%\n"
    }
   }
  },
  {
   "cell_type": "code",
   "execution_count": null,
   "outputs": [],
   "source": [],
   "metadata": {
    "collapsed": false,
    "pycharm": {
     "name": "#%%\n"
    }
   }
  }
 ],
 "metadata": {
  "kernelspec": {
   "display_name": "Python 3",
   "language": "python",
   "name": "python3"
  },
  "language_info": {
   "codemirror_mode": {
    "name": "ipython",
    "version": 2
   },
   "file_extension": ".py",
   "mimetype": "text/x-python",
   "name": "python",
   "nbconvert_exporter": "python",
   "pygments_lexer": "ipython2",
   "version": "2.7.6"
  }
 },
 "nbformat": 4,
 "nbformat_minor": 0
}
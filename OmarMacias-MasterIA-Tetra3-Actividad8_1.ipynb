{
 "cells": [
  {
   "cell_type": "markdown",
   "source": [
    "## Actividad 8 pregunta 1\n",
    "\n",
    "Se presenta a continuación el desarrollo de la pregunta 1 de la actividad 8 que indica lo siguiente:\n",
    "\n",
    "La ecuación fundamental de la programación dinámica se usa para resolver problemas de optimización iterativa. El“problema de la mochila” es uno de los ejemplos clásicos que se utilizan para demostrar el funcionamiento de este tipo de modelos. Partiendo del ejemplo mostrado en el tema 15, desarrolla la segunda parte del algoritmo para determinar cuáles son las piezas específicas que se deben seleccionar."
   ],
   "metadata": {
    "collapsed": false,
    "pycharm": {
     "name": "#%% md\n"
    }
   }
  },
  {
   "cell_type": "code",
   "execution_count": 1,
   "outputs": [],
   "source": [
    "#Agregamos la implementación de la primera parte de la pregunta 1\n",
    "import numpy as np"
   ],
   "metadata": {
    "collapsed": false,
    "pycharm": {
     "name": "#%%\n"
    }
   }
  },
  {
   "cell_type": "code",
   "execution_count": 9,
   "outputs": [],
   "source": [
    "#Se define la función que realiza el problema de la mochila con programación dinámica visto en clase y además se le agrega la parte requerida por el ejercicio que es imprimir los valores de las variables de la mochila y las piezas específicas\n",
    "def opt_knapsack (v,w,C,it):\n",
    "\n",
    "    N = len(v)\n",
    "    m = {}\n",
    "\n",
    "    for c in range(C+1):\n",
    "        m[(0,c)] = 0\n",
    "\n",
    "    for i in range(1, N+1):\n",
    "        for c in range(C+1):\n",
    "            if w[i-1]<= c:\n",
    "                m[(i,c)] = max(m[i-1,c], v[i-1] + m[(i-1,c-w[i-1])])\n",
    "            else:\n",
    "                m[(i,c)] = m[(i-1,c)]\n",
    "    total = m[(N,C)]\n",
    "    print(f\"El valor total posible optimizado es: {total}\\n\")\n",
    "    print(\"Las piezas específicas son:\\n\")\n",
    "\n",
    "    c = C\n",
    "    for i in range(it,0,-1):\n",
    "        if total <= 0:\n",
    "            break\n",
    "\n",
    "        #Es esta parte se toma la comparación de este item en la lista definida en m y se compara con el valor de la variable c, si es igual se imprime el item y se resta el valor de la variable c\n",
    "        if total == m[(i-1, c)]:\n",
    "            continue\n",
    "        else:\n",
    "            #Si se toma este camino es porque el siguiente item se tomó en cuenta para el valor total\n",
    "            print(f\"Peso del item: {w[i-1]}, Valor del item: {v[i-1]}\\n\")\n",
    "\n",
    "            #Se resta el valor del peso\n",
    "            total = total - v[i-1]\n",
    "            c = c - w[i-1]"
   ],
   "metadata": {
    "collapsed": false,
    "pycharm": {
     "name": "#%%\n"
    }
   }
  },
  {
   "cell_type": "code",
   "execution_count": 14,
   "outputs": [
    {
     "name": "stdout",
     "output_type": "stream",
     "text": [
      "El valor total posible optimizado es: 5700\n",
      "\n",
      "Las piezas específicas son:\n",
      "\n",
      "Peso del item: 7, Valor del item: 950\n",
      "\n",
      "Peso del item: 6, Valor del item: 800\n",
      "\n",
      "Peso del item: 5, Valor del item: 1000\n",
      "\n",
      "Peso del item: 9, Valor del item: 1200\n",
      "\n",
      "Peso del item: 10, Valor del item: 1500\n",
      "\n",
      "Peso del item: 3, Valor del item: 250\n",
      "\n"
     ]
    }
   ],
   "source": [
    "#Definimos la llamada para probar el algoritmo\n",
    "\n",
    "#parametro v: valores de los items\n",
    "#parametro w: pesos de los items\n",
    "#parametro C: capacidad de la mochila\n",
    "v = [500, 250, 1500, 1200, 1200, 1000, 800, 950]\n",
    "w = [4,3,10,12,9,5,6,7]\n",
    "C = 40\n",
    "items = len(v)\n",
    "\n",
    "opt_knapsack(v,w,C,items)"
   ],
   "metadata": {
    "collapsed": false,
    "pycharm": {
     "name": "#%%\n"
    }
   }
  }
 ],
 "metadata": {
  "kernelspec": {
   "display_name": "Python 3",
   "language": "python",
   "name": "python3"
  },
  "language_info": {
   "codemirror_mode": {
    "name": "ipython",
    "version": 2
   },
   "file_extension": ".py",
   "mimetype": "text/x-python",
   "name": "python",
   "nbconvert_exporter": "python",
   "pygments_lexer": "ipython2",
   "version": "2.7.6"
  }
 },
 "nbformat": 4,
 "nbformat_minor": 0
}
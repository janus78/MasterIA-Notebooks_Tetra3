{
 "cells": [
  {
   "cell_type": "markdown",
   "source": [
    "## Actividad 3 - Semana 3 - Pregunta 2\n",
    "Se presentan a continuación las soluciones del punto 2 de la actividad.\n",
    "\n",
    "**Pregunta 2**\n",
    "Utilizando un cuaderno de Jupyter Notebook y el lenguaje de programación\n",
    "Python, realice las siguientes operaciones:\n",
    "* Calcule las primeras derivadas parciales de las siguientes funciones:\n",
    "\\begin{flalign*}\n",
    "& A.\\text{ }f(x,y) = 4x^3y + 5y^2 - 7y\\\\\n",
    "& B.\\text{ }f(x,y) = \\frac{y^2}{1-e^x}\n",
    "\\end{flalign*}\n",
    "\n",
    "* Calcule la segundas derivadas parciales de las siguientes funciones:\n",
    "\\begin{flalign*}\n",
    "& C.\\text{ }f(x,y) = 3x^5y + \\frac{y^3}{3}\\\\\n",
    "& D.\\text{ }f(x,y) = \\frac{sin^{-1}x^3}{(\\cos{2y})^2}\n",
    "\\end{flalign*}"
   ],
   "metadata": {
    "collapsed": false,
    "pycharm": {
     "name": "#%% md\n"
    }
   }
  },
  {
   "cell_type": "code",
   "execution_count": 2,
   "outputs": [],
   "source": [
    "import sympy as sym\n",
    "x,y = sym.symbols('x y')"
   ],
   "metadata": {
    "collapsed": false,
    "pycharm": {
     "name": "#%%\n"
    }
   }
  },
  {
   "cell_type": "markdown",
   "source": [
    "**Definición de funciones A y B**"
   ],
   "metadata": {
    "collapsed": false,
    "pycharm": {
     "name": "#%% md\n"
    }
   }
  },
  {
   "cell_type": "code",
   "execution_count": 3,
   "outputs": [
    {
     "data": {
      "text/plain": "4*x**3*y + 5*y**2 - 7*y",
      "text/latex": "$\\displaystyle 4 x^{3} y + 5 y^{2} - 7 y$"
     },
     "execution_count": 3,
     "metadata": {},
     "output_type": "execute_result"
    }
   ],
   "source": [
    "f1 = 4*x**3*y + 5*y**2 - 7*y\n",
    "f1"
   ],
   "metadata": {
    "collapsed": false,
    "pycharm": {
     "name": "#%%\n"
    }
   }
  },
  {
   "cell_type": "code",
   "execution_count": 4,
   "outputs": [
    {
     "data": {
      "text/plain": "y**2/(1 - exp(x))",
      "text/latex": "$\\displaystyle \\frac{y^{2}}{1 - e^{x}}$"
     },
     "execution_count": 4,
     "metadata": {},
     "output_type": "execute_result"
    }
   ],
   "source": [
    "f2 = y**2/(1-sym.exp(x))\n",
    "f2"
   ],
   "metadata": {
    "collapsed": false,
    "pycharm": {
     "name": "#%%\n"
    }
   }
  },
  {
   "cell_type": "markdown",
   "source": [
    "Obtención de la primera derivada parcial de la función A en x"
   ],
   "metadata": {
    "collapsed": false,
    "pycharm": {
     "name": "#%% md\n"
    }
   }
  },
  {
   "cell_type": "code",
   "execution_count": 5,
   "outputs": [
    {
     "data": {
      "text/plain": "12*x**2*y",
      "text/latex": "$\\displaystyle 12 x^{2} y$"
     },
     "execution_count": 5,
     "metadata": {},
     "output_type": "execute_result"
    }
   ],
   "source": [
    "derivada_parcial_x_f1 = sym.diff(f1,x)\n",
    "derivada_parcial_x_f1"
   ],
   "metadata": {
    "collapsed": false,
    "pycharm": {
     "name": "#%%\n"
    }
   }
  },
  {
   "cell_type": "markdown",
   "source": [
    "Obtención de la primera derivada parcial de la función A en y"
   ],
   "metadata": {
    "collapsed": false,
    "pycharm": {
     "name": "#%% md\n"
    }
   }
  },
  {
   "cell_type": "code",
   "execution_count": 7,
   "outputs": [
    {
     "data": {
      "text/plain": "4*x**3 + 10*y - 7",
      "text/latex": "$\\displaystyle 4 x^{3} + 10 y - 7$"
     },
     "execution_count": 7,
     "metadata": {},
     "output_type": "execute_result"
    }
   ],
   "source": [
    "derivada_parcial_y_f1 = sym.diff(f1,y)\n",
    "derivada_parcial_y_f1"
   ],
   "metadata": {
    "collapsed": false,
    "pycharm": {
     "name": "#%%\n"
    }
   }
  },
  {
   "cell_type": "markdown",
   "source": [
    "Obtencion de la primera derivada parcial de la función B en x"
   ],
   "metadata": {
    "collapsed": false,
    "pycharm": {
     "name": "#%% md\n"
    }
   }
  },
  {
   "cell_type": "code",
   "execution_count": 8,
   "outputs": [
    {
     "data": {
      "text/plain": "y**2*exp(x)/(1 - exp(x))**2",
      "text/latex": "$\\displaystyle \\frac{y^{2} e^{x}}{\\left(1 - e^{x}\\right)^{2}}$"
     },
     "execution_count": 8,
     "metadata": {},
     "output_type": "execute_result"
    }
   ],
   "source": [
    "derivada_parcial_x_f2 = sym.diff(f2,x)\n",
    "derivada_parcial_x_f2"
   ],
   "metadata": {
    "collapsed": false,
    "pycharm": {
     "name": "#%%\n"
    }
   }
  },
  {
   "cell_type": "markdown",
   "source": [
    "Obtencion de la primera derivada parcial de la función B en y"
   ],
   "metadata": {
    "collapsed": false,
    "pycharm": {
     "name": "#%% md\n"
    }
   }
  },
  {
   "cell_type": "code",
   "execution_count": 9,
   "outputs": [
    {
     "data": {
      "text/plain": "2*y/(1 - exp(x))",
      "text/latex": "$\\displaystyle \\frac{2 y}{1 - e^{x}}$"
     },
     "execution_count": 9,
     "metadata": {},
     "output_type": "execute_result"
    }
   ],
   "source": [
    "derivada_parcial_y_f2 = sym.diff(f2,y)\n",
    "derivada_parcial_y_f2"
   ],
   "metadata": {
    "collapsed": false,
    "pycharm": {
     "name": "#%%\n"
    }
   }
  },
  {
   "cell_type": "markdown",
   "source": [
    "**Definicion de funciones C y D**"
   ],
   "metadata": {
    "collapsed": false,
    "pycharm": {
     "name": "#%% md\n"
    }
   }
  },
  {
   "cell_type": "code",
   "execution_count": 10,
   "outputs": [
    {
     "data": {
      "text/plain": "3*x**5*y + y**3/3",
      "text/latex": "$\\displaystyle 3 x^{5} y + \\frac{y^{3}}{3}$"
     },
     "execution_count": 10,
     "metadata": {},
     "output_type": "execute_result"
    }
   ],
   "source": [
    "f3 = 3*x**5*y + y**3/3\n",
    "f3"
   ],
   "metadata": {
    "collapsed": false,
    "pycharm": {
     "name": "#%%\n"
    }
   }
  },
  {
   "cell_type": "code",
   "execution_count": 12,
   "outputs": [
    {
     "data": {
      "text/plain": "asin(x**3)/cos(2*y)**2",
      "text/latex": "$\\displaystyle \\frac{\\operatorname{asin}{\\left(x^{3} \\right)}}{\\cos^{2}{\\left(2 y \\right)}}$"
     },
     "execution_count": 12,
     "metadata": {},
     "output_type": "execute_result"
    }
   ],
   "source": [
    "f4 = sym.asin(x**3)/(sym.cos(2*y))**2\n",
    "f4"
   ],
   "metadata": {
    "collapsed": false,
    "pycharm": {
     "name": "#%%\n"
    }
   }
  },
  {
   "cell_type": "markdown",
   "source": [
    "Obtencion de la segunda derivada parcial de la función C en x"
   ],
   "metadata": {
    "collapsed": false,
    "pycharm": {
     "name": "#%% md\n"
    }
   }
  },
  {
   "cell_type": "code",
   "execution_count": 13,
   "outputs": [
    {
     "data": {
      "text/plain": "60*x**3*y",
      "text/latex": "$\\displaystyle 60 x^{3} y$"
     },
     "execution_count": 13,
     "metadata": {},
     "output_type": "execute_result"
    }
   ],
   "source": [
    "derivada_parcial_x_f3 = sym.diff(f3,x,2)\n",
    "derivada_parcial_x_f3"
   ],
   "metadata": {
    "collapsed": false,
    "pycharm": {
     "name": "#%%\n"
    }
   }
  },
  {
   "cell_type": "markdown",
   "source": [
    "Obtencion de la segunda derivada parcial de la función C en y"
   ],
   "metadata": {
    "collapsed": false,
    "pycharm": {
     "name": "#%% md\n"
    }
   }
  },
  {
   "cell_type": "code",
   "execution_count": 14,
   "outputs": [
    {
     "data": {
      "text/plain": "2*y",
      "text/latex": "$\\displaystyle 2 y$"
     },
     "execution_count": 14,
     "metadata": {},
     "output_type": "execute_result"
    }
   ],
   "source": [
    "derivada_parcial_y_f3 = sym.diff(f3,y,2)\n",
    "derivada_parcial_y_f3"
   ],
   "metadata": {
    "collapsed": false,
    "pycharm": {
     "name": "#%%\n"
    }
   }
  },
  {
   "cell_type": "markdown",
   "source": [
    "Obtencion de la segunda derivada parcial de la función D en x"
   ],
   "metadata": {
    "collapsed": false,
    "pycharm": {
     "name": "#%% md\n"
    }
   }
  },
  {
   "cell_type": "code",
   "execution_count": 15,
   "outputs": [
    {
     "data": {
      "text/plain": "-3*x*(3*x**6/(x**6 - 1) - 2)/(sqrt(1 - x**6)*cos(2*y)**2)",
      "text/latex": "$\\displaystyle - \\frac{3 x \\left(\\frac{3 x^{6}}{x^{6} - 1} - 2\\right)}{\\sqrt{1 - x^{6}} \\cos^{2}{\\left(2 y \\right)}}$"
     },
     "execution_count": 15,
     "metadata": {},
     "output_type": "execute_result"
    }
   ],
   "source": [
    "derivada_parcial_x_f4 = sym.diff(f4,x,2)\n",
    "derivada_parcial_x_f4"
   ],
   "metadata": {
    "collapsed": false,
    "pycharm": {
     "name": "#%%\n"
    }
   }
  },
  {
   "cell_type": "markdown",
   "source": [
    "Obtencion de la segunda derivada parcial de la función D en y"
   ],
   "metadata": {
    "collapsed": false,
    "pycharm": {
     "name": "#%% md\n"
    }
   }
  },
  {
   "cell_type": "code",
   "execution_count": 16,
   "outputs": [
    {
     "data": {
      "text/plain": "8*(3*sin(2*y)**2/cos(2*y)**2 + 1)*asin(x**3)/cos(2*y)**2",
      "text/latex": "$\\displaystyle \\frac{8 \\cdot \\left(\\frac{3 \\sin^{2}{\\left(2 y \\right)}}{\\cos^{2}{\\left(2 y \\right)}} + 1\\right) \\operatorname{asin}{\\left(x^{3} \\right)}}{\\cos^{2}{\\left(2 y \\right)}}$"
     },
     "execution_count": 16,
     "metadata": {},
     "output_type": "execute_result"
    }
   ],
   "source": [
    "derivada_parcial_y_f4 = sym.diff(f4,y,2)\n",
    "derivada_parcial_y_f4"
   ],
   "metadata": {
    "collapsed": false,
    "pycharm": {
     "name": "#%%\n"
    }
   }
  },
  {
   "cell_type": "code",
   "execution_count": null,
   "outputs": [],
   "source": [],
   "metadata": {
    "collapsed": false,
    "pycharm": {
     "name": "#%%\n"
    }
   }
  }
 ],
 "metadata": {
  "kernelspec": {
   "display_name": "Python 3",
   "language": "python",
   "name": "python3"
  },
  "language_info": {
   "codemirror_mode": {
    "name": "ipython",
    "version": 2
   },
   "file_extension": ".py",
   "mimetype": "text/x-python",
   "name": "python",
   "nbconvert_exporter": "python",
   "pygments_lexer": "ipython2",
   "version": "2.7.6"
  }
 },
 "nbformat": 4,
 "nbformat_minor": 0
}
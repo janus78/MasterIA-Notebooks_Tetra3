{
 "cells": [
  {
   "cell_type": "markdown",
   "source": [
    "## Tetramestre 3 - Actividad 1\n",
    "\n",
    "__Pregunta 3__\n",
    "\n",
    "A continuación se describen los resultados correspondientes al punto 3 de la actividad 1. El enunciado de ese punto se muestra en el siguiente párrafo.\n",
    "\n",
    "Utilizando un cuaderno de Jupyter Notebook y el lenguaje de programación Python, realiza las siguientes operaciones:\n",
    "* Genera una matriz cuadrada de 4x4.\n",
    "* Calcula su inversa y su traspuesta.\n",
    "* Multiplica la matriz por un escalar.\n",
    "* Realiza el producto interno con una nueva matriz de dimensiones 4x2.\n",
    "\n"
   ],
   "metadata": {
    "collapsed": false,
    "pycharm": {
     "name": "#%% md\n"
    }
   }
  },
  {
   "cell_type": "code",
   "execution_count": 1,
   "outputs": [],
   "source": [
    "import numpy as np"
   ],
   "metadata": {
    "collapsed": false,
    "pycharm": {
     "name": "#%%\n"
    }
   }
  },
  {
   "cell_type": "markdown",
   "source": [
    "**Generación de la matriz cuadrada de 4x4**"
   ],
   "metadata": {
    "collapsed": false,
    "pycharm": {
     "name": "#%% md\n"
    }
   }
  },
  {
   "cell_type": "code",
   "execution_count": 4,
   "outputs": [
    {
     "name": "stdout",
     "output_type": "stream",
     "text": [
      "Matriz cuadrada de 4x4:\n",
      " [[ 5  6  7  8]\n",
      " [20  4  1 12]\n",
      " [ 9 10 11 12]\n",
      " [13 14 15 16]]\n"
     ]
    }
   ],
   "source": [
    "matriz_4x4 = np.array([[5,6,7,8],[20,4,1,12],[9,10,11,12],[13,14,15,16]])\n",
    "print(\"Matriz cuadrada de 4x4:\\n\",matriz_4x4)"
   ],
   "metadata": {
    "collapsed": false,
    "pycharm": {
     "name": "#%%\n"
    }
   }
  },
  {
   "cell_type": "markdown",
   "source": [
    "**Inversa de la matriz cuadrada de 4x4**"
   ],
   "metadata": {
    "collapsed": false,
    "pycharm": {
     "name": "#%% md\n"
    }
   }
  },
  {
   "cell_type": "code",
   "execution_count": 5,
   "outputs": [
    {
     "name": "stdout",
     "output_type": "stream",
     "text": [
      "Matriz inversa de la matriz cuadrada de 4x4:\n",
      " [[-7.57817245e+13  3.69591346e-02  1.51563449e+14 -7.57817245e+13]\n",
      " [ 2.21932193e+14 -3.68088942e-02 -4.43864386e+14  2.21932193e+14]\n",
      " [-2.16519213e+14 -3.72596154e-02  4.33038426e+14 -2.16519213e+14]\n",
      " [ 7.03687442e+13  3.71093750e-02 -1.40737488e+14  7.03687442e+13]]\n"
     ]
    }
   ],
   "source": [
    "determinante = np.linalg.det(matriz_4x4)\n",
    "if(determinante == 0):\n",
    "    print(\"La matriz no tiene inversa\")\n",
    "else:\n",
    "    matriz_inversa = np.linalg.inv(matriz_4x4)\n",
    "    print(\"Matriz inversa de la matriz cuadrada de 4x4:\\n\",matriz_inversa)"
   ],
   "metadata": {
    "collapsed": false,
    "pycharm": {
     "name": "#%%\n"
    }
   }
  },
  {
   "cell_type": "markdown",
   "source": [
    "**Multiplicación de la matriz cuadrada de 4x4 por un escalar**"
   ],
   "metadata": {
    "collapsed": false,
    "pycharm": {
     "name": "#%% md\n"
    }
   }
  },
  {
   "cell_type": "code",
   "execution_count": 6,
   "outputs": [
    {
     "name": "stdout",
     "output_type": "stream",
     "text": [
      "Matriz cuadrada de 4x4 multiplicada por un escalar:\n",
      " [[10 12 14 16]\n",
      " [40  8  2 24]\n",
      " [18 20 22 24]\n",
      " [26 28 30 32]]\n"
     ]
    }
   ],
   "source": [
    "escalar = 2\n",
    "matriz_producto_escalar = matriz_4x4 * escalar\n",
    "print(\"Matriz cuadrada de 4x4 multiplicada por un escalar:\\n\",matriz_producto_escalar)"
   ],
   "metadata": {
    "collapsed": false,
    "pycharm": {
     "name": "#%%\n"
    }
   }
  },
  {
   "cell_type": "markdown",
   "source": [
    "**Producto interno de la matriz cuadrada de 4x4 por una nueva matriz de dimensiones 4x2**"
   ],
   "metadata": {
    "collapsed": false,
    "pycharm": {
     "name": "#%% md\n"
    }
   }
  },
  {
   "cell_type": "code",
   "execution_count": 9,
   "outputs": [
    {
     "name": "stdout",
     "output_type": "stream",
     "text": [
      "Producto interno de la matriz cuadrada de 4x4 por una nueva matriz de dimensiones 4x2:\n",
      " [[199 143]\n",
      " [361 210]\n",
      " [327 227]\n",
      " [455 311]]\n"
     ]
    }
   ],
   "source": [
    "matriz_4x2 = np.array([[12,5],[8,2],[5,6],[7,8]])\n",
    "matriz_producto_interno = np.dot(matriz_4x4,matriz_4x2)\n",
    "print(\"Producto interno de la matriz cuadrada de 4x4 por una nueva matriz de dimensiones 4x2:\\n\",matriz_producto_interno)"
   ],
   "metadata": {
    "collapsed": false,
    "pycharm": {
     "name": "#%%\n"
    }
   }
  },
  {
   "cell_type": "code",
   "execution_count": null,
   "outputs": [],
   "source": [],
   "metadata": {
    "collapsed": false,
    "pycharm": {
     "name": "#%%\n"
    }
   }
  }
 ],
 "metadata": {
  "kernelspec": {
   "display_name": "Python 3",
   "language": "python",
   "name": "python3"
  },
  "language_info": {
   "codemirror_mode": {
    "name": "ipython",
    "version": 2
   },
   "file_extension": ".py",
   "mimetype": "text/x-python",
   "name": "python",
   "nbconvert_exporter": "python",
   "pygments_lexer": "ipython2",
   "version": "2.7.6"
  }
 },
 "nbformat": 4,
 "nbformat_minor": 0
}
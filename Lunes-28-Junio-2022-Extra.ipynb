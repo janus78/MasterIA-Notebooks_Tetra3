{
 "cells": [
  {
   "cell_type": "markdown",
   "source": [
    "Regresion lineal gradiente descendiente"
   ],
   "metadata": {
    "collapsed": false,
    "pycharm": {
     "name": "#%% md\n"
    }
   }
  },
  {
   "cell_type": "code",
   "execution_count": 1,
   "outputs": [],
   "source": [
    "import numpy as np\n",
    "import matplotlib.pyplot as plt\n",
    "import sympy as sp"
   ],
   "metadata": {
    "collapsed": false,
    "pycharm": {
     "name": "#%%\n"
    }
   }
  },
  {
   "cell_type": "code",
   "execution_count": 2,
   "outputs": [],
   "source": [
    "x = np.array([20, 45, 80, 100, 160, 175, 190, 215, 223, 257,289,300,358,400,428,460,489])\n",
    "y = np.array([10, 19, 27, 38, 47, 56, 63, 74, 87, 96, 110, 126,148,159,170,200,216])"
   ],
   "metadata": {
    "collapsed": false,
    "pycharm": {
     "name": "#%%\n"
    }
   }
  },
  {
   "cell_type": "code",
   "execution_count": 3,
   "outputs": [
    {
     "data": {
      "text/plain": "17"
     },
     "execution_count": 3,
     "metadata": {},
     "output_type": "execute_result"
    }
   ],
   "source": [
    "len(x)"
   ],
   "metadata": {
    "collapsed": false,
    "pycharm": {
     "name": "#%%\n"
    }
   }
  },
  {
   "cell_type": "code",
   "execution_count": 4,
   "outputs": [
    {
     "data": {
      "text/plain": "<matplotlib.collections.PathCollection at 0x22dd0867ac0>"
     },
     "execution_count": 4,
     "metadata": {},
     "output_type": "execute_result"
    },
    {
     "data": {
      "text/plain": "<Figure size 432x288 with 1 Axes>",
      "image/png": "[encoded data removed]"
     },
     "metadata": {
      "needs_background": "light"
     },
     "output_type": "display_data"
    }
   ],
   "source": [
    "plt.scatter(x,y)"
   ],
   "metadata": {
    "collapsed": false,
    "pycharm": {
     "name": "#%%\n"
    }
   }
  },
  {
   "cell_type": "code",
   "execution_count": 21,
   "outputs": [],
   "source": [
    "def descripcion_modelo(x, m, b):\n",
    "    n = x.shape[0]\n",
    "    #obtener el tamaño del conjunto de dato\n",
    "    y_est = np.zeros(n) #crear un vector de ceros de tamaño n\n",
    "    for i in range(n):\n",
    "        y_est[i] = m*x[i] + b #calcular el valor de y_est\n",
    "    return y_est"
   ],
   "metadata": {
    "collapsed": false,
    "pycharm": {
     "name": "#%%\n"
    }
   }
  },
  {
   "cell_type": "code",
   "execution_count": 26,
   "outputs": [
    {
     "data": {
      "text/plain": "array([  8.1,  18.1,  32.1,  40.1,  64.1,  70.1,  76.1,  86.1,  89.3,\n       102.9, 115.7, 120.1, 143.3, 160.1, 171.3, 184.1, 195.7])"
     },
     "execution_count": 26,
     "metadata": {},
     "output_type": "execute_result"
    }
   ],
   "source": [
    "m = 0.4\n",
    "b = 0.1\n",
    "descripcion_modelo(x, m, b)"
   ],
   "metadata": {
    "collapsed": false,
    "pycharm": {
     "name": "#%%\n"
    }
   }
  },
  {
   "cell_type": "code",
   "execution_count": 27,
   "outputs": [
    {
     "data": {
      "text/plain": "[<matplotlib.lines.Line2D at 0x22dd424d6c0>]"
     },
     "execution_count": 27,
     "metadata": {},
     "output_type": "execute_result"
    },
    {
     "data": {
      "text/plain": "<Figure size 432x288 with 1 Axes>",
      "image/png": "[encoded data removed]"
     },
     "metadata": {
      "needs_background": "light"
     },
     "output_type": "display_data"
    }
   ],
   "source": [
    "plt.scatter(x,y)\n",
    "plt.plot(x, descripcion_modelo(x, m, b), c='r')"
   ],
   "metadata": {
    "collapsed": false,
    "pycharm": {
     "name": "#%%\n"
    }
   }
  },
  {
   "cell_type": "markdown",
   "source": [
    "Creando la función de costo"
   ],
   "metadata": {
    "collapsed": false,
    "pycharm": {
     "name": "#%% md\n"
    }
   }
  },
  {
   "cell_type": "markdown",
   "source": [
    "$$J(m,b) = \\frac{1}{2n} \\sum\\limits_{i = 0}^{n-1} (f_{m,b}(x^{(i)}) - y^{(i)})^2 \\tag{1}$$"
   ],
   "metadata": {
    "collapsed": false,
    "pycharm": {
     "name": "#%% md\n"
    }
   }
  },
  {
   "cell_type": "code",
   "execution_count": 28,
   "outputs": [],
   "source": [
    "def costo(x, y, m, b):\n",
    "    n = x.shape[0]\n",
    "    suma_costos = 0\n",
    "    y_est = np.zeros(n)\n",
    "    for i in range(n):\n",
    "        y_est[i] = m*x[i] + b\n",
    "        costo = (y_est[i] - y[i])**2\n",
    "        suma_costos= suma_costos + costo\n",
    "    costo_total = (1/(2*n)) * suma_costos\n",
    "    return costo_total"
   ],
   "metadata": {
    "collapsed": false,
    "pycharm": {
     "name": "#%%\n"
    }
   }
  },
  {
   "cell_type": "code",
   "execution_count": 29,
   "outputs": [
    {
     "data": {
      "text/plain": "48.65205882352939"
     },
     "execution_count": 29,
     "metadata": {},
     "output_type": "execute_result"
    }
   ],
   "source": [
    "costo(x, y, m, b)"
   ],
   "metadata": {
    "collapsed": false,
    "pycharm": {
     "name": "#%%\n"
    }
   }
  },
  {
   "cell_type": "markdown",
   "source": [
    "Gradiente descendiente"
   ],
   "metadata": {
    "collapsed": false,
    "pycharm": {
     "name": "#%% md\n"
    }
   }
  },
  {
   "cell_type": "markdown",
   "source": [
    "Repetir hasta alcanzar la convergencia\n",
    "\n",
    "$$ m = m -  \\alpha \\frac{\\partial J(m,b)}{\\partial m} $$\n",
    "\n",
    "$$ b = b -  \\alpha \\frac{\\partial J(m,b)}{\\partial b} $$"
   ],
   "metadata": {
    "collapsed": false,
    "pycharm": {
     "name": "#%% md\n"
    }
   }
  },
  {
   "cell_type": "markdown",
   "source": [
    "El Gradiente se define por\n",
    "\n",
    "$$\n",
    "\\begin{align}\n",
    "\\frac{\\partial J(m,b)}{\\partial m}  &= \\frac{1}{n} \\sum\\limits_{i = 0}^{n-1} (f_{m,b}(x^{(i)}) - y^{(i)})x^{(i)} \\tag{4}\\\\\n",
    "  \\frac{\\partial J(m,b)}{\\partial b}  &= \\frac{1}{n} \\sum\\limits_{i = 0}^{n-1} (f_{m,b}(x^{(i)}) - y^{(i)}) \\tag{5}\\\\\n",
    "\\end{align}\n",
    "$$"
   ],
   "metadata": {
    "collapsed": false,
    "pycharm": {
     "name": "#%% md\n"
    }
   }
  },
  {
   "cell_type": "code",
   "execution_count": 31,
   "outputs": [],
   "source": [
    "def gradiente(x, y, m, b):\n",
    "    n = x.shape[0]\n",
    "    dj_dm = 0\n",
    "    dj_db = 0\n",
    "    y_est = np.zeros(n)\n",
    "\n",
    "    for i in range(n):\n",
    "        y_est[i] = m*x[i] + b\n",
    "        dj_dm = dj_dm + (y_est[i] - y[i])*x[i]\n",
    "        dj_db = dj_db + (y_est[i] - y[i])\n",
    "    dj_dm = (1/n) * dj_dm\n",
    "    dj_db = (1/n) * dj_db\n",
    "    return dj_dm, dj_db"
   ],
   "metadata": {
    "collapsed": false,
    "pycharm": {
     "name": "#%%\n"
    }
   }
  },
  {
   "cell_type": "code",
   "execution_count": 48,
   "outputs": [],
   "source": [
    "#El alpha es el tamaño del pasp para encontrar la convergencia\n",
    "costo_final = []\n",
    "def gradiente_descendiente(x, y, m_inicial, b_inicial, alpha, iteraciones, funcion_costo, funcion_gradiente):\n",
    "    m = m_inicial\n",
    "    b = b_inicial\n",
    "    for i in range(iteraciones):\n",
    "        dj_dm, dj_db = funcion_gradiente(x, y, m, b)\n",
    "        m = m - alpha * dj_dm\n",
    "        b = b - alpha * dj_db\n",
    "        costo_final.append(funcion_costo(x, y, m, b))\n",
    "    return m, b"
   ],
   "metadata": {
    "collapsed": false,
    "pycharm": {
     "name": "#%%\n"
    }
   }
  },
  {
   "cell_type": "code",
   "execution_count": 69,
   "outputs": [
    {
     "name": "stdout",
     "output_type": "stream",
     "text": [
      "m:  1.3252816641588576e+39 b:  4.056000172269124e+36\n",
      "Costo final [41113857.64034308, 259947937534.49, 1643557981113057.5, 1.0391630198716623e+19, 6.570256688708458e+22, 4.154138679881966e+26, 2.6265135426670416e+30, 1.6606507200210734e+34, 1.049970148300166e+38, 6.638586302527743e+41, 13421.88072683298, 342497265.1657293, 8771227618146.658, 2.2462790964444205e+17, 5.752638055717204e+21, 1.4732294242717955e+26, 3.7728863097569117e+30, 9.662222917782956e+34, 2.474459711958436e+39, 6.337000210206665e+43, 74.09563256448733, 1339.28105476978, 64249.043399771486, 3192356.507028661, 158733497.15163338, 7892817670.663422, 392460255936.81384, 19514583995045.652, 970337716453615.1, 4.824880121521872e+16, 48.5713442024848, 48.50310266744923, 48.445406535117115, 48.396626040671265, 48.35538329524813, 48.32051335915749, 48.29103133113707, 48.26610452387701, 48.24502893974578, 48.22720938213211, 48.5713442024848, 48.50310266744923, 48.445406535117115, 48.396626040671265, 48.35538329524813, 48.32051335915749, 48.29103133113707, 48.26610452387701, 48.24502893974578, 48.22720938213211, 48.21214264052731, 48.199403274310335, 48.188631593612065, 48.179523497705766, 48.17182188384878, 48.165309383864496, 48.159802223268386, 48.15514502944863, 48.151206442230595, 48.14787540281589, 48.14505801625766, 48.14267489883063, 48.14065893536009, 48.13895338314877, 48.137510268936694, 48.13628903360795, 48.13525538635321, 48.13438033591969, 48.1336393715777, 48.13301177066792, 48.132480013164546, 48.13202928671661, 48.131647068183796, 48.13132276984495, 48.13104744028391, 48.13081351150269, 48.13061458511813, 48.130445251600506, 48.13030093744905, 48.130177775985764, 48.1300724981177, 48.12998233998201, 48.129904964863414, 48.129838397180144, 48.12978096667155, 48.12973126121139, 48.129688086913845, 48.12965043440521, 48.129617450307634, 48.64368267928095, 48.63544086122447, 48.62733121501206, 48.61935162084747, 48.61149999293231, 48.60377427892021, 48.596172459381066, 48.588692547272764, 48.581332587421564, 48.57409065601112, 48.56696486007982, 48.559953337025554, 48.55305425411916, 48.546265808024735, 48.53958622432905, 48.53301375707688, 48.52654668831524, 48.520183327643934, 48.513922011773445, 48.50776110409065, 48.50169899423073, 48.49573409765609, 48.48986485524229, 48.484089732870295, 48.478407221025904, 48.47281583440431, 48.46731411152261, 48.46190061433731, 48.45657392786858, 48.451332659830314, 48.44617544026605, 48.44110092119096, 48.43610777623952, 48.43119470031858, 48.4263604092665, 48.42160363951703, 48.41692314776941, 48.412317710663075, 48.40778612445789, 48.40332720471978, 48.39893978601037, 48.394622721583374, 48.39037488308377, 48.38619516025355, 48.382082460641115, 48.37803570931575, 48.37405384858698, 48.37013583772731, 48.36628065270103, 74.09563256448733, 1339.28105476978, 64249.043399771486, 3192356.507028661, 158733497.15163338, 7892817670.663422, 392460255936.81384, 19514583995045.652, 970337716453615.1, 4.824880121521872e+16, 2.399109896721288e+18, 1.1929266948772504e+20, 5.931675332153755e+21, 2.949449651615164e+23, 1.4665760953329467e+25, 7.292361957167828e+26, 3.6260336632771746e+28, 1.802998836926313e+30, 8.965180987921636e+31, 4.457821519353338e+33, 2.216594704020201e+35, 1.1021733509427578e+37, 5.4804159430912194e+38, 2.7250666951435224e+40, 1.3550045416428413e+42, 6.737586684189499e+43, 3.3501787582150455e+45, 1.66583351548307e+47, 8.283143980010148e+48, 4.11868734515659e+50, 2.0479645757808315e+52, 1.018324177625506e+54, 5.063486658900291e+55, 2.517753943998966e+57, 1.2519209291052223e+59, 6.225016612395094e+60, 3.095309849344162e+62, 1.539103212089371e+64, 7.652993763986927e+65, 3.805353214234075e+67, 1.892163188897947e+69, 9.408539317791215e+70, 4.67827577525067e+72, 2.326212761625081e+74, 1.1566795273109867e+76, 5.7514409299591e+77, 2.8598304015728536e+79, 1.4220140701016486e+81, 7.070782989281202e+82]\n"
     ]
    }
   ],
   "source": [
    "m_inicial =0.4\n",
    "b_inicial = 0.1\n",
    "alpha = 0.0001\n",
    "m, b = gradiente_descendiente(x, y, m_inicial, b_inicial, alpha, 49, costo, gradiente)\n",
    "print('m: ', m, 'b: ', b)\n",
    "print('Costo final', costo_final)"
   ],
   "metadata": {
    "collapsed": false,
    "pycharm": {
     "name": "#%%\n"
    }
   }
  },
  {
   "cell_type": "markdown",
   "source": [],
   "metadata": {
    "collapsed": false,
    "pycharm": {
     "name": "#%% md\n"
    }
   }
  },
  {
   "cell_type": "code",
   "execution_count": 70,
   "outputs": [
    {
     "data": {
      "text/plain": "[<matplotlib.lines.Line2D at 0x22dd844b6a0>]"
     },
     "execution_count": 70,
     "metadata": {},
     "output_type": "execute_result"
    },
    {
     "data": {
      "text/plain": "<Figure size 432x288 with 1 Axes>",
      "image/png": "[encoded data removed]"
     },
     "metadata": {
      "needs_background": "light"
     },
     "output_type": "display_data"
    }
   ],
   "source": [
    "plt.scatter(x,y)\n",
    "plt.plot(x, descripcion_modelo(x, m, b), c='r')"
   ],
   "metadata": {
    "collapsed": false,
    "pycharm": {
     "name": "#%%\n"
    }
   }
  },
  {
   "cell_type": "code",
   "execution_count": 71,
   "outputs": [
    {
     "data": {
      "text/plain": "[<matplotlib.lines.Line2D at 0x22dd84adf00>]"
     },
     "execution_count": 71,
     "metadata": {},
     "output_type": "execute_result"
    },
    {
     "data": {
      "text/plain": "<Figure size 432x288 with 1 Axes>",
      "image/png": "[encoded data removed]"
     },
     "metadata": {
      "needs_background": "light"
     },
     "output_type": "display_data"
    }
   ],
   "source": [
    "x_loss = [x for x in range(len(costo_final))]\n",
    "plt.plot(x_loss, costo_final)"
   ],
   "metadata": {
    "collapsed": false,
    "pycharm": {
     "name": "#%%\n"
    }
   }
  },
  {
   "cell_type": "code",
   "execution_count": null,
   "outputs": [],
   "source": [],
   "metadata": {
    "collapsed": false,
    "pycharm": {
     "name": "#%%\n"
    }
   }
  }
 ],
 "metadata": {
  "kernelspec": {
   "display_name": "Python 3",
   "language": "python",
   "name": "python3"
  },
  "language_info": {
   "codemirror_mode": {
    "name": "ipython",
    "version": 2
   },
   "file_extension": ".py",
   "mimetype": "text/x-python",
   "name": "python",
   "nbconvert_exporter": "python",
   "pygments_lexer": "ipython2",
   "version": "2.7.6"
  }
 },
 "nbformat": 4,
 "nbformat_minor": 0
}
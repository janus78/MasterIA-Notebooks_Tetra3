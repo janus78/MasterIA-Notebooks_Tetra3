{
 "cells": [
  {
   "cell_type": "markdown",
   "source": [
    "## Evidencia 2 pregunta 5\n",
    "\n",
    "A continuación se presenta el desarrollo de la pregunta 5 relativa a la programación genética y la ruta a seguir para visitar las 7 maravillas del mundo moderno.\n",
    "\n",
    "En julio de 2007, después de una reñida selección, se dieron a conocer las “siete maravillas del mundo moderno”. Utiliza tus conocimientos de programación genética y elabora un programa en Python para determinar cuál sería el orden más adecuado para visitar estos increíbles lugares.\n",
    "\n",
    "Toma en cuenta las siguientes condiciones:\n",
    "1. No se pueden repetir los destinos.\n",
    "2. Los viajes se consideran punto a punto, pero debido a las grandes distancias, se debe utilizar la función del semiverseno para encontrar el valor de la distancia que separa los destinos.\n",
    "3. El objetivo es minimizar la distancia total."
   ],
   "metadata": {
    "collapsed": false,
    "pycharm": {
     "name": "#%% md\n"
    }
   }
  },
  {
   "cell_type": "code",
   "execution_count": 60,
   "outputs": [],
   "source": [
    "#Importando librerias\n",
    "import numpy as np\n",
    "import pandas as pd\n",
    "import matplotlib.pyplot as plt\n",
    "import random\n",
    "import operator\n",
    "from haversine import haversine"
   ],
   "metadata": {
    "collapsed": false,
    "pycharm": {
     "name": "#%%\n"
    }
   }
  },
  {
   "cell_type": "code",
   "execution_count": 61,
   "outputs": [
    {
     "data": {
      "text/plain": "            Nombre   Latitud   Longitud\n0     Chichen Itza  20.68306  -88.56861\n1  Coliseo de Roma  41.89028   12.49222\n2  Cristo Redentor -22.95194  -43.21055\n3    Muralla China  40.43205  116.57037\n4     Machu Picchu -13.16312  -72.54496\n5            Petra  30.32853   35.44436\n6        Taj Mahal  27.17537   78.04210",
      "text/html": "<div>\n<style scoped>\n    .dataframe tbody tr th:only-of-type {\n        vertical-align: middle;\n    }\n\n    .dataframe tbody tr th {\n        vertical-align: top;\n    }\n\n    .dataframe thead th {\n        text-align: right;\n    }\n</style>\n<table border=\"1\" class=\"dataframe\">\n  <thead>\n    <tr style=\"text-align: right;\">\n      <th></th>\n      <th>Nombre</th>\n      <th>Latitud</th>\n      <th>Longitud</th>\n    </tr>\n  </thead>\n  <tbody>\n    <tr>\n      <th>0</th>\n      <td>Chichen Itza</td>\n      <td>20.68306</td>\n      <td>-88.56861</td>\n    </tr>\n    <tr>\n      <th>1</th>\n      <td>Coliseo de Roma</td>\n      <td>41.89028</td>\n      <td>12.49222</td>\n    </tr>\n    <tr>\n      <th>2</th>\n      <td>Cristo Redentor</td>\n      <td>-22.95194</td>\n      <td>-43.21055</td>\n    </tr>\n    <tr>\n      <th>3</th>\n      <td>Muralla China</td>\n      <td>40.43205</td>\n      <td>116.57037</td>\n    </tr>\n    <tr>\n      <th>4</th>\n      <td>Machu Picchu</td>\n      <td>-13.16312</td>\n      <td>-72.54496</td>\n    </tr>\n    <tr>\n      <th>5</th>\n      <td>Petra</td>\n      <td>30.32853</td>\n      <td>35.44436</td>\n    </tr>\n    <tr>\n      <th>6</th>\n      <td>Taj Mahal</td>\n      <td>27.17537</td>\n      <td>78.04210</td>\n    </tr>\n  </tbody>\n</table>\n</div>"
     },
     "execution_count": 61,
     "metadata": {},
     "output_type": "execute_result"
    }
   ],
   "source": [
    "#Leyendo la fuente de datos con las coordenadas de las maravillas\n",
    "df = pd.read_csv('https://raw.githubusercontent.com/janus78/MasterIA-Notebooks_Tetra3/master/SieteMaravillasMundoModerno.csv')\n",
    "df.head(10)"
   ],
   "metadata": {
    "collapsed": false,
    "pycharm": {
     "name": "#%%\n"
    }
   }
  },
  {
   "cell_type": "code",
   "execution_count": 62,
   "outputs": [],
   "source": [
    "# creando la clase para las maravillas\n",
    "class maravilla:\n",
    "    def __init__(self, x, y):\n",
    "        self.x = x\n",
    "        self.y = y\n",
    "\n",
    "    def distancia(self, maravilla):\n",
    "        #Implementando la función haverseno para calcular las distancias de la tierra con el modulo haversine\n",
    "        distancia = haversine((self.x, self.y), (maravilla.x, maravilla.y))\n",
    "        return distancia\n",
    "\n",
    "    def __repr__(self):\n",
    "        return \"(\" + str(self.x) + \",\" + str(self.y) + \")\""
   ],
   "metadata": {
    "collapsed": false,
    "pycharm": {
     "name": "#%%\n"
    }
   }
  },
  {
   "cell_type": "code",
   "execution_count": 63,
   "outputs": [
    {
     "data": {
      "text/plain": "[(20.68306,-88.56861),\n (41.89028,12.49222),\n (-22.95194,-43.21055),\n (40.43205,116.57037),\n (-13.16312,-72.54496)]"
     },
     "execution_count": 63,
     "metadata": {},
     "output_type": "execute_result"
    }
   ],
   "source": [
    "# creando una lista de maravillas\n",
    "listaMaravillas = []\n",
    "\n",
    "for i in range(0,len(df)):\n",
    "    listaMaravillas.append(maravilla(x=df.Latitud[i], y=df.Longitud[i]))\n",
    "\n",
    "#vista previa de la informacion de las ubiciones de las maravillas\n",
    "listaMaravillas[0:5]"
   ],
   "metadata": {
    "collapsed": false,
    "pycharm": {
     "name": "#%%\n"
    }
   }
  },
  {
   "cell_type": "code",
   "execution_count": 64,
   "outputs": [],
   "source": [
    "#Creando la clase aptitud para las maravillas\n",
    "class Aptitud:\n",
    "    def __init__(self, ruta):\n",
    "        self.ruta = ruta\n",
    "        self.distancia = 0\n",
    "        self.aptitud= 0.0\n",
    "\n",
    "    def distanciaRuta(self):\n",
    "        if self.distancia ==0:\n",
    "            distanciaRelativa = 0\n",
    "            for i in range(0, len(self.ruta)):\n",
    "                puntoInicial = self.ruta[i]\n",
    "                puntoFinal = None\n",
    "                if i + 1 < len(self.ruta):\n",
    "                    puntoFinal = self.ruta[i + 1]\n",
    "                else:\n",
    "                    puntoFinal = self.ruta[0]\n",
    "                distanciaRelativa += puntoInicial.distancia(puntoFinal)\n",
    "            self.distancia = distanciaRelativa\n",
    "        return self.distancia\n",
    "\n",
    "    def rutaApta(self):\n",
    "        if self.aptitud == 0:\n",
    "            self.aptitud = 1 / float(self.distanciaRuta())\n",
    "        return self.aptitud"
   ],
   "metadata": {
    "collapsed": false,
    "pycharm": {
     "name": "#%%\n"
    }
   }
  },
  {
   "cell_type": "code",
   "execution_count": 65,
   "outputs": [],
   "source": [
    "#Funcion para crear una ruta aleatoria\n",
    "def crearRuta(listaMaravillas):\n",
    "    route = random.sample(listaMaravillas, len(listaMaravillas))\n",
    "    return route"
   ],
   "metadata": {
    "collapsed": false,
    "pycharm": {
     "name": "#%%\n"
    }
   }
  },
  {
   "cell_type": "code",
   "execution_count": 66,
   "outputs": [],
   "source": [
    "#Funcion para crear una poblacion de rutas\n",
    "def poblacionInicial(tamanoPob, listaMaravillas):\n",
    "    poblacion = []\n",
    "\n",
    "    for i in range(0, tamanoPob):\n",
    "        poblacion.append(crearRuta(listaMaravillas))\n",
    "    return poblacion"
   ],
   "metadata": {
    "collapsed": false,
    "pycharm": {
     "name": "#%%\n"
    }
   }
  },
  {
   "cell_type": "code",
   "execution_count": 67,
   "outputs": [],
   "source": [
    "#funcion para la classificacion de rutas\n",
    "def clasificacionRutas(poblacion):\n",
    "    fitnessResults = {}\n",
    "    for i in range(0,len(poblacion)):\n",
    "        fitnessResults[i] = Aptitud(poblacion[i]).rutaApta()\n",
    "    return sorted(fitnessResults.items(), key = operator.itemgetter(1), reverse = True)"
   ],
   "metadata": {
    "collapsed": false,
    "pycharm": {
     "name": "#%%\n"
    }
   }
  },
  {
   "cell_type": "code",
   "execution_count": 68,
   "outputs": [],
   "source": [
    "#funcion para la seleccion de rutas\n",
    "def seleccionRutas(popRanked, indivSelecionados):\n",
    "    resultadosSeleccion = []\n",
    "    df = pd.DataFrame(np.array(popRanked), columns=[\"Indice\",\"Aptitud\"])\n",
    "    df['cum_sum'] = df.Aptitud.cumsum()\n",
    "    df['cum_perc'] = 100*df.cum_sum/df.Aptitud.sum()\n",
    "\n",
    "    for i in range(0, indivSelecionados):\n",
    "        resultadosSeleccion.append(popRanked[i][0])\n",
    "    for i in range(0, len(popRanked) - indivSelecionados):\n",
    "        pick = 100*random.random()\n",
    "        for i in range(0, len(popRanked)):\n",
    "            if pick <= df.iat[i,3]:\n",
    "                resultadosSeleccion.append(popRanked[i][0])\n",
    "                break\n",
    "    return resultadosSeleccion"
   ],
   "metadata": {
    "collapsed": false,
    "pycharm": {
     "name": "#%%\n"
    }
   }
  },
  {
   "cell_type": "code",
   "execution_count": 69,
   "outputs": [],
   "source": [
    "#funcion para el grupo de cruza\n",
    "def grupoApareamiento(poblacion, resultadosSeleccion):\n",
    "    grupoApareamiento = []\n",
    "    for i in range(0, len(resultadosSeleccion)):\n",
    "        index = resultadosSeleccion[i]\n",
    "        grupoApareamiento.append(poblacion[index])\n",
    "    return grupoApareamiento"
   ],
   "metadata": {
    "collapsed": false,
    "pycharm": {
     "name": "#%%\n"
    }
   }
  },
  {
   "cell_type": "code",
   "execution_count": 70,
   "outputs": [],
   "source": [
    "#funcion para el cruzamiento\n",
    "def reproduccion(progenitor1, progenitor2):\n",
    "    hijo = []\n",
    "    hijoP1 = []\n",
    "    hijoP2 = []\n",
    "\n",
    "    geneA = int(random.random() * len(progenitor1))\n",
    "    geneB = int(random.random() * len(progenitor2))\n",
    "\n",
    "    startGene = min(geneA, geneB)\n",
    "    endGene = max(geneA, geneB)\n",
    "\n",
    "    for i in range(startGene, endGene):\n",
    "        hijoP1.append(progenitor1[i])\n",
    "\n",
    "    hijoP2 = [item for item in progenitor2 if item not in hijoP1]\n",
    "\n",
    "    hijo = hijoP1 + hijoP2\n",
    "    return hijo"
   ],
   "metadata": {
    "collapsed": false,
    "pycharm": {
     "name": "#%%\n"
    }
   }
  },
  {
   "cell_type": "code",
   "execution_count": 71,
   "outputs": [],
   "source": [
    "#funcion para el cruzamiento de la población\n",
    "def reproduccionPoblacion(grupoApareamiento, indivSelecionados):\n",
    "    hijos = []\n",
    "    tamano = len(grupoApareamiento) - indivSelecionados\n",
    "    espacio = random.sample(grupoApareamiento, len(grupoApareamiento))\n",
    "\n",
    "    for i in range(0,indivSelecionados):\n",
    "        hijos.append(grupoApareamiento[i])\n",
    "\n",
    "    for i in range(0, tamano):\n",
    "        hijo = reproduccion(espacio[i], espacio[len(grupoApareamiento)-i-1])\n",
    "        hijos.append(hijo)\n",
    "    return hijos"
   ],
   "metadata": {
    "collapsed": false,
    "pycharm": {
     "name": "#%%\n"
    }
   }
  },
  {
   "cell_type": "code",
   "execution_count": 72,
   "outputs": [],
   "source": [
    "# función para la mutacion\n",
    "def mutacion(individuo, razonMutacion):\n",
    "    for swapped in range(len(individuo)):\n",
    "        if(random.random() < razonMutacion):\n",
    "            swapWith = int(random.random() * len(individuo))\n",
    "\n",
    "            lugar1 = individuo[swapped]\n",
    "            lugar2 = individuo[swapWith]\n",
    "\n",
    "            individuo[swapped] = lugar2\n",
    "            individuo[swapWith] = lugar1\n",
    "    return individuo"
   ],
   "metadata": {
    "collapsed": false,
    "pycharm": {
     "name": "#%%\n"
    }
   }
  },
  {
   "cell_type": "code",
   "execution_count": 73,
   "outputs": [],
   "source": [
    "# funcion para la mutacion de la poblacion\n",
    "def mutacionPoblacion(poblacion, razonMutacion):\n",
    "    pobMutada = []\n",
    "\n",
    "    for ind in range(0, len(poblacion)):\n",
    "        individuoMutar = mutacion(poblacion[ind], razonMutacion)\n",
    "        pobMutada.append(individuoMutar)\n",
    "    return pobMutada"
   ],
   "metadata": {
    "collapsed": false,
    "pycharm": {
     "name": "#%%\n"
    }
   }
  },
  {
   "cell_type": "code",
   "execution_count": 74,
   "outputs": [],
   "source": [
    "\n",
    "# Funcion para la seleccion de la siguiente generacion\n",
    "def nuevaGeneracion(generacionActual, indivSelecionados, razonMutacion):\n",
    "\n",
    "    #clasificar rutas\n",
    "    popRanked = clasificacionRutas(generacionActual)\n",
    "\n",
    "    #seleccion de los candidatos\n",
    "    selectionResults = seleccionRutas(popRanked, indivSelecionados)\n",
    "\n",
    "    #generar grupo de apareamiento\n",
    "    grupoApa = grupoApareamiento(generacionActual, selectionResults)\n",
    "\n",
    "    #generacion de la poblacion cruzada, reproducida\n",
    "    hijos = reproduccionPoblacion(grupoApa, indivSelecionados)\n",
    "\n",
    "    #incluir las mutaciones en la nueva generacion\n",
    "    nextGeneration = mutacionPoblacion(hijos, razonMutacion)\n",
    "\n",
    "    return nextGeneration"
   ],
   "metadata": {
    "collapsed": false,
    "pycharm": {
     "name": "#%%\n"
    }
   }
  },
  {
   "cell_type": "code",
   "execution_count": 75,
   "outputs": [],
   "source": [
    "# Funcion para la ejecucion del algoritmo genetico\n",
    "def algoritmoGenetico(poblacion, tamanoPoblacion, indivSelecionados, razonMutacion, generaciones):\n",
    "    pop = poblacionInicial(tamanoPoblacion, poblacion)\n",
    "    print(\"Distancia Inicial: \" + str(1 / clasificacionRutas(pop)[0][1]))\n",
    "\n",
    "    for i in range(0, generaciones):\n",
    "        pop = nuevaGeneracion(pop, indivSelecionados, razonMutacion)\n",
    "\n",
    "    print(\"Distancia Final: \" + str(1 / clasificacionRutas(pop)[0][1]))\n",
    "    bestRouteIndex = clasificacionRutas(pop)[0][0]\n",
    "    mejorRuta = pop[bestRouteIndex]\n",
    "    return mejorRuta"
   ],
   "metadata": {
    "collapsed": false,
    "pycharm": {
     "name": "#%%\n"
    }
   }
  },
  {
   "cell_type": "code",
   "execution_count": 78,
   "outputs": [
    {
     "name": "stdout",
     "output_type": "stream",
     "text": [
      "Distancia Inicial: 55552.85872129077\n",
      "Distancia Final: 39748.6639959402\n"
     ]
    },
    {
     "data": {
      "text/plain": "[(30.32853,35.44436),\n (41.89028,12.49222),\n (-22.95194,-43.21055),\n (-13.16312,-72.54496),\n (20.68306,-88.56861),\n (40.43205,116.57037),\n (27.17537,78.0421)]"
     },
     "execution_count": 78,
     "metadata": {},
     "output_type": "execute_result"
    }
   ],
   "source": [
    "# Funcion para la ejecucion del algoritmo genetico\n",
    "algoritmoGenetico(poblacion=listaMaravillas,\n",
    "                  tamanoPoblacion=7,\n",
    "                  indivSelecionados=3,\n",
    "                  razonMutacion=0.01,\n",
    "                  generaciones=500)"
   ],
   "metadata": {
    "collapsed": false,
    "pycharm": {
     "name": "#%%\n"
    }
   }
  },
  {
   "cell_type": "code",
   "execution_count": 79,
   "outputs": [],
   "source": [
    "#Grafico del algoritmo genetico\n",
    "def geneticAlgorithmPlot(population, popSize, eliteSize, mutationRate, generations):\n",
    "    pop = poblacionInicial(popSize, population)\n",
    "    progress = []\n",
    "    progress.append(1 / clasificacionRutas(pop)[0][1])\n",
    "\n",
    "    for i in range(0, generations):\n",
    "        pop = nuevaGeneracion(pop, eliteSize, mutationRate)\n",
    "        progress.append(1 / clasificacionRutas(pop)[0][1])\n",
    "\n",
    "    plt.plot(progress)\n",
    "    plt.ylabel('Distancia')\n",
    "    plt.xlabel('Generacion')\n",
    "    plt.show()"
   ],
   "metadata": {
    "collapsed": false,
    "pycharm": {
     "name": "#%%\n"
    }
   }
  },
  {
   "cell_type": "code",
   "execution_count": 81,
   "outputs": [
    {
     "data": {
      "text/plain": "<Figure size 432x288 with 1 Axes>",
      "image/png": "[encoded data removed]"
     },
     "metadata": {
      "needs_background": "light"
     },
     "output_type": "display_data"
    }
   ],
   "source": [
    "geneticAlgorithmPlot(population=listaMaravillas, popSize=7, eliteSize=3, mutationRate=0.01, generations=500)"
   ],
   "metadata": {
    "collapsed": false,
    "pycharm": {
     "name": "#%%\n"
    }
   }
  }
 ],
 "metadata": {
  "kernelspec": {
   "display_name": "Python 3",
   "language": "python",
   "name": "python3"
  },
  "language_info": {
   "codemirror_mode": {
    "name": "ipython",
    "version": 2
   },
   "file_extension": ".py",
   "mimetype": "text/x-python",
   "name": "python",
   "nbconvert_exporter": "python",
   "pygments_lexer": "ipython2",
   "version": "2.7.6"
  }
 },
 "nbformat": 4,
 "nbformat_minor": 0
}
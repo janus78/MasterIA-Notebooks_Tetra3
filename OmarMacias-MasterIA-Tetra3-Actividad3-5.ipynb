{
 "cells": [
  {
   "cell_type": "markdown",
   "source": [
    "## Actividad Semana 3 - Pregunta 5\n",
    "\n",
    "Utilizando un cuaderno de Jupyter Notebook y el lenguaje de programación Python, realiza las siguientes operaciones:\n",
    "* Importa a tu espacio de trabajo el siguiente dataset: https://www.kaggle.com/elikplim/forest-fires-data-set\n",
    "* Crea un arreglo que contenga los valores de la columna etiquetada por: #temp.\n",
    "* Construye el histograma referente al arreglo creado en el punto anterior.\n",
    "* Evalúa si la gráfica obtenida tiene semejanzas con la distribución normal y obtén la media, la mediana y la desviación estándar de los datos\n",
    "* Dibuja la gráfica de la distribución gaussiana inferida por los datos, en caso de que corresponda, y evalúa la suposición realizada en el punto anterior."
   ],
   "metadata": {
    "collapsed": false,
    "pycharm": {
     "name": "#%% md\n"
    }
   }
  },
  {
   "cell_type": "markdown",
   "source": [
    "Importando las librerias necesarias"
   ],
   "metadata": {
    "collapsed": false,
    "pycharm": {
     "name": "#%% md\n"
    }
   }
  },
  {
   "cell_type": "code",
   "execution_count": 12,
   "outputs": [],
   "source": [
    "import numpy as np\n",
    "import pandas as pd\n",
    "import matplotlib.pyplot as plt"
   ],
   "metadata": {
    "collapsed": false,
    "pycharm": {
     "name": "#%%\n"
    }
   }
  },
  {
   "cell_type": "markdown",
   "source": [
    "Cargando el dataset y obteniendo loa valores de la columna etiquetada por #temp"
   ],
   "metadata": {
    "collapsed": false,
    "pycharm": {
     "name": "#%% md\n"
    }
   }
  },
  {
   "cell_type": "code",
   "execution_count": 13,
   "outputs": [
    {
     "name": "stdout",
     "output_type": "stream",
     "text": [
      "0       8.2\n",
      "1      18.0\n",
      "2      14.6\n",
      "3       8.3\n",
      "4      11.4\n",
      "       ... \n",
      "512    27.8\n",
      "513    21.9\n",
      "514    21.2\n",
      "515    25.6\n",
      "516    11.8\n",
      "Name: temp, Length: 517, dtype: float64\n"
     ]
    }
   ],
   "source": [
    "df = pd.read_csv('forestfires.csv')\n",
    "temp_list = df['temp'].astype(float)\n",
    "print(temp_list)"
   ],
   "metadata": {
    "collapsed": false,
    "pycharm": {
     "name": "#%%\n"
    }
   }
  },
  {
   "cell_type": "markdown",
   "source": [
    "Creando el histograma referente al arreglo creado en el punto anterior."
   ],
   "metadata": {
    "collapsed": false,
    "pycharm": {
     "name": "#%% md\n"
    }
   }
  },
  {
   "cell_type": "code",
   "execution_count": 14,
   "outputs": [
    {
     "data": {
      "text/plain": "<Figure size 432x288 with 1 Axes>",
      "image/png": "[encoded data removed]"
     },
     "metadata": {
      "needs_background": "light"
     },
     "output_type": "display_data"
    }
   ],
   "source": [
    "frecuencia, temperatura, ignorar = plt.hist(temp_list, 30)\n",
    "plt.title('Histograma de temperatura')\n",
    "plt.xlabel('Temperatura')\n",
    "plt.ylabel('Frecuencia')\n",
    "plt.show()"
   ],
   "metadata": {
    "collapsed": false,
    "pycharm": {
     "name": "#%%\n"
    }
   }
  },
  {
   "cell_type": "markdown",
   "source": [
    "Este histograma tiene ligeras semejanzas con la distribución normal, aunque no lo parece del todo.\n",
    "- Obteniendo la media, la mediana y la desviación estándar de los datos"
   ],
   "metadata": {
    "collapsed": false,
    "pycharm": {
     "name": "#%% md\n"
    }
   }
  },
  {
   "cell_type": "code",
   "execution_count": 15,
   "outputs": [
    {
     "name": "stdout",
     "output_type": "stream",
     "text": [
      "Media:  18.88916827852998\n",
      "Mediana:  19.3\n",
      "Desviación estándar:  5.801006939598366\n"
     ]
    }
   ],
   "source": [
    "media = np.mean(temp_list)\n",
    "print('Media: ', media)\n",
    "mediana = np.median(temp_list)\n",
    "print('Mediana: ', mediana)\n",
    "desv_estandar = np.std(temp_list)\n",
    "print('Desviación estándar: ', desv_estandar)"
   ],
   "metadata": {
    "collapsed": false,
    "pycharm": {
     "name": "#%%\n"
    }
   }
  },
  {
   "cell_type": "markdown",
   "source": [
    "- Dibujando la gráfica de la distribución gaussiana inferida por los datos"
   ],
   "metadata": {
    "collapsed": false,
    "pycharm": {
     "name": "#%% md\n"
    }
   }
  },
  {
   "cell_type": "code",
   "execution_count": 19,
   "outputs": [
    {
     "data": {
      "text/plain": "<Figure size 432x288 with 1 Axes>",
      "image/png": "[encoded data removed]"
     },
     "metadata": {
      "needs_background": "light"
     },
     "output_type": "display_data"
    }
   ],
   "source": [
    "plt.title('Distribución gaussiana')\n",
    "plt.xlabel('Temperatura')\n",
    "plt.ylabel('Frecuencia')\n",
    "frecuencia, temperatura, ignorar = plt.hist(temp_list, 30, density=True)\n",
    "plt.plot(temp_list, 1/ (desv_estandar * np.sqrt(2 * np.pi)) * np.exp(-(temp_list - media) ** 2 / (2 * desv_estandar ** 2)), 'ro')\n",
    "plt.show()"
   ],
   "metadata": {
    "collapsed": false,
    "pycharm": {
     "name": "#%%\n"
    }
   }
  },
  {
   "cell_type": "markdown",
   "source": [
    "Evaluando la suposición realizada en el punto anterior se puede observar que la gráfica tiene semejanzas con la distribución normal."
   ],
   "metadata": {
    "collapsed": false,
    "pycharm": {
     "name": "#%% md\n"
    }
   }
  }
 ],
 "metadata": {
  "kernelspec": {
   "display_name": "Python 3",
   "language": "python",
   "name": "python3"
  },
  "language_info": {
   "codemirror_mode": {
    "name": "ipython",
    "version": 2
   },
   "file_extension": ".py",
   "mimetype": "text/x-python",
   "name": "python",
   "nbconvert_exporter": "python",
   "pygments_lexer": "ipython2",
   "version": "2.7.6"
  }
 },
 "nbformat": 4,
 "nbformat_minor": 0
}
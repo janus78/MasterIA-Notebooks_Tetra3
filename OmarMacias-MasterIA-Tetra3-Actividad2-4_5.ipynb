{
 "cells": [
  {
   "cell_type": "markdown",
   "source": [
    "## Tetramestre 3 Semana 2 - Actividad 2 - Ejercicio 4 y 5\n",
    "\n",
    "Notebook que contiene las actividades de la semana 2 del tetramestre 3 para los puntos 4 y 5 de la actividad 2."
   ],
   "metadata": {
    "collapsed": false,
    "pycharm": {
     "name": "#%% md\n"
    }
   }
  },
  {
   "cell_type": "markdown",
   "source": [
    "Importando modulos necesarios"
   ],
   "metadata": {
    "collapsed": false,
    "pycharm": {
     "name": "#%% md\n"
    }
   }
  },
  {
   "cell_type": "code",
   "execution_count": 1,
   "outputs": [],
   "source": [
    "import numpy as np\n",
    "import matplotlib.pyplot as plt"
   ],
   "metadata": {
    "collapsed": false,
    "pycharm": {
     "name": "#%%\n"
    }
   }
  },
  {
   "cell_type": "markdown",
   "source": [
    "Desarrollando el ejercicio 4\n",
    "\n",
    "* Genera una matriz cuadrada  y calcula su determinante y su traza.\n",
    "* Calcula el rango de la matriz generada y los valores de los coeficientes de su polinomio característico.\n",
    "* Encuentra las raíces polinomio característico de la matriz generada."
   ],
   "metadata": {
    "collapsed": false,
    "pycharm": {
     "name": "#%% md\n"
    }
   }
  },
  {
   "cell_type": "code",
   "execution_count": 8,
   "outputs": [
    {
     "name": "stdout",
     "output_type": "stream",
     "text": [
      "[[6 9 4]\n",
      " [8 8 0]\n",
      " [8 3 1]]\n"
     ]
    }
   ],
   "source": [
    "matriz_cuadrada = np.random.randint(0,10,(3,3))\n",
    "print(matriz_cuadrada)"
   ],
   "metadata": {
    "collapsed": false,
    "pycharm": {
     "name": "#%%\n"
    }
   }
  },
  {
   "cell_type": "markdown",
   "source": [
    "Calculando el determinante y la traza de la matriz generada"
   ],
   "metadata": {
    "collapsed": false,
    "pycharm": {
     "name": "#%% md\n"
    }
   }
  },
  {
   "cell_type": "code",
   "execution_count": 9,
   "outputs": [
    {
     "name": "stdout",
     "output_type": "stream",
     "text": [
      "El determinante de la matriz es:  -183.9999999999999\n",
      "La traza de la matriz es:  15\n"
     ]
    }
   ],
   "source": [
    "determinante = np.linalg.det(matriz_cuadrada)\n",
    "print(\"El determinante de la matriz es: \", determinante)\n",
    "traza = np.trace(matriz_cuadrada)\n",
    "print(\"La traza de la matriz es: \", traza)"
   ],
   "metadata": {
    "collapsed": false,
    "pycharm": {
     "name": "#%%\n"
    }
   }
  },
  {
   "cell_type": "markdown",
   "source": [
    "Calculando el rango de la matriz"
   ],
   "metadata": {
    "collapsed": false,
    "pycharm": {
     "name": "#%% md\n"
    }
   }
  },
  {
   "cell_type": "code",
   "execution_count": 10,
   "outputs": [
    {
     "name": "stdout",
     "output_type": "stream",
     "text": [
      "3\n"
     ]
    }
   ],
   "source": [
    "rango = np.linalg.matrix_rank(matriz_cuadrada)\n",
    "print(rango)"
   ],
   "metadata": {
    "collapsed": false,
    "pycharm": {
     "name": "#%%\n"
    }
   }
  },
  {
   "cell_type": "markdown",
   "source": [
    "Calculando los coeficientes del polinomio característico"
   ],
   "metadata": {
    "collapsed": false,
    "pycharm": {
     "name": "#%% md\n"
    }
   }
  },
  {
   "cell_type": "code",
   "execution_count": 11,
   "outputs": [
    {
     "name": "stdout",
     "output_type": "stream",
     "text": [
      "[  1. -15. -42. 184.]\n"
     ]
    }
   ],
   "source": [
    "coeficientes = np.poly(matriz_cuadrada)\n",
    "print(coeficientes)"
   ],
   "metadata": {
    "collapsed": false,
    "pycharm": {
     "name": "#%%\n"
    }
   }
  },
  {
   "cell_type": "markdown",
   "source": [
    "Calculando las raíces del polinomio característico de la matriz generada"
   ],
   "metadata": {
    "collapsed": false,
    "pycharm": {
     "name": "#%% md\n"
    }
   }
  },
  {
   "cell_type": "code",
   "execution_count": 12,
   "outputs": [
    {
     "name": "stdout",
     "output_type": "stream",
     "text": [
      "Las raíces del polinomio característico de la matriz generada son:\n",
      " [16.84488096 -4.35378078  2.50889981]\n"
     ]
    }
   ],
   "source": [
    "raices = np.roots(coeficientes)\n",
    "print(\"Las raíces del polinomio característico de la matriz generada son:\\n\", raices)"
   ],
   "metadata": {
    "collapsed": false,
    "pycharm": {
     "name": "#%%\n"
    }
   }
  },
  {
   "cell_type": "markdown",
   "source": [
    "__Desarrollando el ejercicio 5__\n",
    "Calcula los autovalores y autovectores de la siguiente matriz: A = [[5,1],[2,2]] realiza su autodescomposición y grafica los resultados obtenidos en un plano con Matplotlib."
   ],
   "metadata": {
    "collapsed": false,
    "pycharm": {
     "name": "#%% md\n"
    }
   }
  },
  {
   "cell_type": "code",
   "execution_count": 13,
   "outputs": [
    {
     "name": "stdout",
     "output_type": "stream",
     "text": [
      "La matriz A es: \n",
      " [[5 1]\n",
      " [2 2]]\n"
     ]
    }
   ],
   "source": [
    "A = np.array([[5,1],[2,2]])\n",
    "print(\"La matriz A es: \\n\", A)"
   ],
   "metadata": {
    "collapsed": false,
    "pycharm": {
     "name": "#%%\n"
    }
   }
  },
  {
   "cell_type": "markdown",
   "source": [
    "Calculando los autovalores y autovectores de la matriz A"
   ],
   "metadata": {
    "collapsed": false,
    "pycharm": {
     "name": "#%% md\n"
    }
   }
  },
  {
   "cell_type": "code",
   "execution_count": 21,
   "outputs": [
    {
     "name": "stdout",
     "output_type": "stream",
     "text": [
      "(array([5.56155281, 1.43844719]), array([[ 0.87192821, -0.27032301],\n",
      "       [ 0.48963374,  0.96276969]]))\n",
      "Los autovalores de la matriz A son: \n",
      " [5.56155281 1.43844719]\n",
      "El autovector 1 de la matriz A es: \n",
      " [0.87192821 0.48963374]\n",
      "El autovector 2 de la matriz A es: \n",
      " [-0.27032301  0.96276969]\n"
     ]
    }
   ],
   "source": [
    "result = np.linalg.eig(A)\n",
    "print(result)\n",
    "autovalores = result[0]\n",
    "autov1 = result[1][:,0]\n",
    "autov2 = result[1][:,1]\n",
    "print(\"Los autovalores de la matriz A son: \\n\", autovalores)\n",
    "print(\"El autovector 1 de la matriz A es: \\n\", autov1)\n",
    "print(\"El autovector 2 de la matriz A es: \\n\", autov2)"
   ],
   "metadata": {
    "collapsed": false,
    "pycharm": {
     "name": "#%%\n"
    }
   }
  },
  {
   "cell_type": "markdown",
   "source": [
    "Obteniendo el producto punto de la matriz A con el autovector 1"
   ],
   "metadata": {
    "collapsed": false,
    "pycharm": {
     "name": "#%% md\n"
    }
   }
  },
  {
   "cell_type": "code",
   "execution_count": 23,
   "outputs": [
    {
     "name": "stdout",
     "output_type": "stream",
     "text": [
      "El producto punto de la matriz A con el autovector 1 es: \n",
      " [4.84927478 2.7231239 ]\n"
     ]
    }
   ],
   "source": [
    "producto_punto = np.dot(A,autov1)\n",
    "print(\"El producto punto de la matriz A con el autovector 1 es: \\n\", producto_punto)"
   ],
   "metadata": {
    "collapsed": false,
    "pycharm": {
     "name": "#%%\n"
    }
   }
  },
  {
   "cell_type": "markdown",
   "source": [
    "Graficando los autovalores de la matriz A y el resultado del producto punto"
   ],
   "metadata": {
    "collapsed": false,
    "pycharm": {
     "name": "#%% md\n"
    }
   }
  },
  {
   "cell_type": "code",
   "execution_count": 25,
   "outputs": [
    {
     "data": {
      "text/plain": "<Figure size 432x288 with 1 Axes>",
      "image/png": "[encoded data removed]"
     },
     "metadata": {
      "needs_background": "light"
     },
     "output_type": "display_data"
    }
   ],
   "source": [
    "plt.quiver(0,0,producto_punto[0],producto_punto[1], color='000000', angles='xy', scale_units='xy', scale=1)\n",
    "plt.quiver(0,0,autov2[0],autov2[1], color='red', angles='xy', scale_units='xy', scale=1)\n",
    "plt.quiver(0,0,autov1[0],autov1[1], color='orange', angles='xy', scale_units='xy', scale=1)\n",
    "plt.xlim(-0.5,5)\n",
    "plt.ylim(-0.5,3)\n",
    "plt.show()"
   ],
   "metadata": {
    "collapsed": false,
    "pycharm": {
     "name": "#%%\n"
    }
   }
  }
 ],
 "metadata": {
  "kernelspec": {
   "display_name": "Python 3",
   "language": "python",
   "name": "python3"
  },
  "language_info": {
   "codemirror_mode": {
    "name": "ipython",
    "version": 2
   },
   "file_extension": ".py",
   "mimetype": "text/x-python",
   "name": "python",
   "nbconvert_exporter": "python",
   "pygments_lexer": "ipython2",
   "version": "2.7.6"
  }
 },
 "nbformat": 4,
 "nbformat_minor": 0
}
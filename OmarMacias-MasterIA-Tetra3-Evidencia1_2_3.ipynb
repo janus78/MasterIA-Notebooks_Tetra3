{
 "cells": [
  {
   "cell_type": "markdown",
   "source": [
    "# Evidencia 1 - Preguntas 2 y 3\n",
    "\n",
    "**Pregunta 2**\n",
    "Realiza el siguiente ejercicio en un nuevo cuaderno dentro del mismo proyecto principal:\n",
    "Dado el vector base $b = [2, 5] \\in R^2$ , que genera el subespacio unidimensional $u \\subseteq R^2$. Encuentra el valor de la coordenada $\\lambda$, la proyección $\\pi{_u}(x)$ y la matriz $P{_\\pi}$ para proyectar sobre el subespacio $u$ el vector $x = [-1, 4] \\in R^2$."
   ],
   "metadata": {
    "collapsed": false,
    "pycharm": {
     "name": "#%% md\n"
    }
   }
  },
  {
   "cell_type": "markdown",
   "source": [
    "Importando librerias necesarias"
   ],
   "metadata": {
    "collapsed": false,
    "pycharm": {
     "name": "#%% md\n"
    }
   }
  },
  {
   "cell_type": "code",
   "execution_count": 1,
   "outputs": [],
   "source": [
    "import numpy as np\n",
    "import numpy.linalg as npl\n",
    "import matplotlib.pyplot as plt"
   ],
   "metadata": {
    "collapsed": false,
    "pycharm": {
     "name": "#%%\n"
    }
   }
  },
  {
   "cell_type": "markdown",
   "source": [
    "Definiendo arreglos iniciales"
   ],
   "metadata": {
    "collapsed": false,
    "pycharm": {
     "name": "#%% md\n"
    }
   }
  },
  {
   "cell_type": "code",
   "execution_count": 3,
   "outputs": [
    {
     "name": "stdout",
     "output_type": "stream",
     "text": [
      "Vector base:\n",
      " [[2]\n",
      " [5]]\n",
      "Vector x:\n",
      " [[-1]\n",
      " [ 4]]\n"
     ]
    }
   ],
   "source": [
    "vector_base = np.vstack([2, 5])\n",
    "vector_x = np.vstack([-1, 4])\n",
    "print(\"Vector base:\\n\", vector_base)\n",
    "print(\"Vector x:\\n\", vector_x)"
   ],
   "metadata": {
    "collapsed": false,
    "pycharm": {
     "name": "#%%\n"
    }
   }
  },
  {
   "cell_type": "markdown",
   "source": [
    "Obteniendo lambda y vector proyeccion"
   ],
   "metadata": {
    "collapsed": false,
    "pycharm": {
     "name": "#%% md\n"
    }
   }
  },
  {
   "cell_type": "code",
   "execution_count": 4,
   "outputs": [
    {
     "name": "stdout",
     "output_type": "stream",
     "text": [
      "Lambda:\n",
      " [[0.62068966]]\n"
     ]
    }
   ],
   "source": [
    "lambda_ = np.dot(vector_base.T, vector_x) / npl.norm(vector_base) ** 2\n",
    "print(\"Lambda:\\n\", lambda_)"
   ],
   "metadata": {
    "collapsed": false,
    "pycharm": {
     "name": "#%%\n"
    }
   }
  },
  {
   "cell_type": "code",
   "execution_count": 5,
   "outputs": [
    {
     "name": "stdout",
     "output_type": "stream",
     "text": [
      "Vector proyeccion:\n",
      " [[1.24137931]\n",
      " [3.10344828]]\n"
     ]
    }
   ],
   "source": [
    "vector_proyeccion = lambda_ * vector_base\n",
    "print(\"Vector proyeccion:\\n\", vector_proyeccion)"
   ],
   "metadata": {
    "collapsed": false,
    "pycharm": {
     "name": "#%%\n"
    }
   }
  },
  {
   "cell_type": "markdown",
   "source": [
    "Obteniendo matriz proyeccion"
   ],
   "metadata": {
    "collapsed": false,
    "pycharm": {
     "name": "#%% md\n"
    }
   }
  },
  {
   "cell_type": "code",
   "execution_count": 6,
   "outputs": [
    {
     "name": "stdout",
     "output_type": "stream",
     "text": [
      "Matriz proyeccion:\n",
      " [[0.13793103 0.34482759]\n",
      " [0.34482759 0.86206897]]\n"
     ]
    }
   ],
   "source": [
    "matriz_proyeccion = np.dot(vector_base, vector_base.T) / npl.norm(vector_base) ** 2\n",
    "print(\"Matriz proyeccion:\\n\", matriz_proyeccion)"
   ],
   "metadata": {
    "collapsed": false,
    "pycharm": {
     "name": "#%%\n"
    }
   }
  },
  {
   "cell_type": "markdown",
   "source": [
    "Obteniendo vector proyeccion de x sobre el subespacio u"
   ],
   "metadata": {
    "collapsed": false,
    "pycharm": {
     "name": "#%% md\n"
    }
   }
  },
  {
   "cell_type": "code",
   "execution_count": 7,
   "outputs": [
    {
     "name": "stdout",
     "output_type": "stream",
     "text": [
      "Vector proyeccion x:\n",
      " [[1.24137931]\n",
      " [3.10344828]]\n"
     ]
    }
   ],
   "source": [
    "vector_proyeccion_x = np.dot(matriz_proyeccion, vector_x)\n",
    "print(\"Vector proyeccion x:\\n\", vector_proyeccion_x)"
   ],
   "metadata": {
    "collapsed": false,
    "pycharm": {
     "name": "#%%\n"
    }
   }
  },
  {
   "cell_type": "markdown",
   "source": [
    "**Pregunta 3**\n",
    "utiliza como base la matriz encontrada $P{_\\pi}$ y haz el cálculo de sus autovalores y autovectores. Realiza a continuación su autodescomposición y grafica los resultados obtenidos en un plano con Matplotlib"
   ],
   "metadata": {
    "collapsed": false,
    "pycharm": {
     "name": "#%% md\n"
    }
   }
  },
  {
   "cell_type": "markdown",
   "source": [
    "Calculando los autovalores y autovectores de la matriz proyeccion"
   ],
   "metadata": {
    "collapsed": false,
    "pycharm": {
     "name": "#%% md\n"
    }
   }
  },
  {
   "cell_type": "code",
   "execution_count": 19,
   "outputs": [
    {
     "name": "stdout",
     "output_type": "stream",
     "text": [
      "Componentes de resultado:\n",
      " (array([1.11022302e-16, 1.00000000e+00]), array([[-0.92847669, -0.37139068],\n",
      "       [ 0.37139068, -0.92847669]]))\n",
      "Autovalores:\n",
      " [1.11022302e-16 1.00000000e+00]\n",
      "Autovector 1:\n",
      " [-0.92847669  0.37139068]\n",
      "Autovector 2:\n",
      " [-0.37139068 -0.92847669]\n"
     ]
    }
   ],
   "source": [
    "result = npl.eig(matriz_proyeccion)\n",
    "print(\"Componentes de resultado:\\n\", result)\n",
    "autovalores = result[0]\n",
    "autovector_1 = result[1][:, 0]\n",
    "autovector_2 = result[1][:, 1]\n",
    "print(\"Autovalores:\\n\", autovalores)\n",
    "print(\"Autovector 1:\\n\", autovector_1)\n",
    "print(\"Autovector 2:\\n\", autovector_2)"
   ],
   "metadata": {
    "collapsed": false,
    "pycharm": {
     "name": "#%%\n"
    }
   }
  },
  {
   "cell_type": "markdown",
   "source": [
    "Obteniendo el producto punto de la matriz proyeccion"
   ],
   "metadata": {
    "collapsed": false,
    "pycharm": {
     "name": "#%% md\n"
    }
   }
  },
  {
   "cell_type": "code",
   "execution_count": 12,
   "outputs": [
    {
     "name": "stdout",
     "output_type": "stream",
     "text": [
      "Producto punto:\n",
      " [5.67661755e-18 1.12137880e-17]\n"
     ]
    }
   ],
   "source": [
    "producto_punto = np.dot(matriz_proyeccion, autovector_1)\n",
    "print(\"Producto punto:\\n\", producto_punto)"
   ],
   "metadata": {
    "collapsed": false,
    "pycharm": {
     "name": "#%%\n"
    }
   }
  },
  {
   "cell_type": "markdown",
   "source": [
    "Graficando los resultados"
   ],
   "metadata": {
    "collapsed": false,
    "pycharm": {
     "name": "#%% md\n"
    }
   }
  },
  {
   "cell_type": "code",
   "execution_count": 25,
   "outputs": [
    {
     "data": {
      "text/plain": "<Figure size 432x288 with 1 Axes>",
      "image/png": "[encoded data removed]"
     },
     "metadata": {
      "needs_background": "light"
     },
     "output_type": "display_data"
    }
   ],
   "source": [
    "plt.quiver(0, 0, producto_punto[0], producto_punto[1], angles='xy', scale_units='xy', scale=1, color='blue')\n",
    "plt.quiver(0, 0, autovector_2[0], autovector_2[1], angles='xy', scale_units='xy', scale=1, color='red')\n",
    "plt.quiver(0, 0, autovector_1[0], autovector_1[1], angles='xy', scale_units='xy', scale=1, color='orange')\n",
    "plt.xlim(-1, 0.2)\n",
    "plt.ylim(-1, 1)\n",
    "plt.show()"
   ],
   "metadata": {
    "collapsed": false,
    "pycharm": {
     "name": "#%%\n"
    }
   }
  }
 ],
 "metadata": {
  "kernelspec": {
   "display_name": "Python 3",
   "language": "python",
   "name": "python3"
  },
  "language_info": {
   "codemirror_mode": {
    "name": "ipython",
    "version": 2
   },
   "file_extension": ".py",
   "mimetype": "text/x-python",
   "name": "python",
   "nbconvert_exporter": "python",
   "pygments_lexer": "ipython2",
   "version": "2.7.6"
  }
 },
 "nbformat": 4,
 "nbformat_minor": 0
}